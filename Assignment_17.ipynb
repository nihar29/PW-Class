{
  "nbformat": 4,
  "nbformat_minor": 0,
  "metadata": {
    "colab": {
      "provenance": []
    },
    "kernelspec": {
      "name": "python3",
      "display_name": "Python 3"
    },
    "language_info": {
      "name": "python"
    }
  },
  "cells": [
    {
      "cell_type": "markdown",
      "source": [
        "Q1. What is Web Scraping? Why is it Used? Give three areas where Web Scraping is used to get data."
      ],
      "metadata": {
        "id": "hgrV2w6fMdBQ"
      }
    },
    {
      "cell_type": "markdown",
      "source": [
        "Web scraping is the process of extracting data from websites by using automated scripts or programs. It allows users to gather information from the web in a structured format, often for analysis or use in other applications. Web scraping is used to automate the collection of large volumes of data from online sources, reducing the time and effort required to manually extract and process this information.\n",
        "\n",
        "Three areas where web scraping is commonly used include:\n",
        "\n",
        "E-commerce: Scraping product details such as prices, reviews, and stock availability from online stores for competitive analysis.\n",
        "Social Media: Collecting posts, comments, and user data for sentiment analysis or trend monitoring.\n",
        "Market Research: Gathering information about competitors, industry trends, and customer preferences by scraping news articles, blogs, and forums."
      ],
      "metadata": {
        "id": "yugfJva9MgXX"
      }
    },
    {
      "cell_type": "markdown",
      "source": [
        "Q2. What are the different methods used for Web Scraping?"
      ],
      "metadata": {
        "id": "7KxiqDNaMp8S"
      }
    },
    {
      "cell_type": "markdown",
      "source": [
        "There are several methods used for web scraping, each suited to different types of websites and data extraction needs. The most common methods include:\n",
        "\n",
        "1. **HTML Parsing**: This method involves retrieving the HTML content of a web page and using libraries (like BeautifulSoup in Python) to parse and extract the desired data. It is useful for static websites where content is directly embedded in the HTML.\n",
        "\n",
        "2. **API Scraping**: Many websites offer public APIs that allow for easy access to their data. Instead of scraping HTML content, scraping can be done through API calls, which is cleaner and more efficient, especially for structured data.\n"
      ],
      "metadata": {
        "id": "BaX_Hxy5Msfm"
      }
    },
    {
      "cell_type": "markdown",
      "source": [
        "Q3. What is Beautiful Soup? Why is it used?"
      ],
      "metadata": {
        "id": "vCo1BUttM2sW"
      }
    },
    {
      "cell_type": "markdown",
      "source": [
        "BeautifulSoup is a Python library used for parsing HTML and XML documents. It creates parse trees from the page’s content, making it easier to extract data from web pages in a structured format. BeautifulSoup is commonly used in web scraping because it allows for easy navigation of a page’s HTML structure, making it simple to search for specific tags, attributes, and text.\n",
        "\n",
        "It is used because of its simple and intuitive syntax, as well as its ability to handle poorly structured HTML or broken tags. This makes it an excellent tool for extracting and cleaning data from websites where content is embedded within complex or messy HTML. Additionally, BeautifulSoup supports multiple parsers, including the built-in Python HTML parser and lxml, enabling efficient and flexible scraping."
      ],
      "metadata": {
        "id": "LydmHKuUM5y_"
      }
    },
    {
      "cell_type": "markdown",
      "source": [
        "Q4. Why is flask used in this Web Scraping project?"
      ],
      "metadata": {
        "id": "CYMVDyq3M95I"
      }
    },
    {
      "cell_type": "markdown",
      "source": [
        "Flask is used in web scraping projects to provide a lightweight, flexible, and easy-to-use web framework for building web applications. In the context of web scraping, Flask can serve as the backend for a web interface that allows users to initiate scraping tasks, view results, or download the data. It provides a simple way to expose scraping functionality via API endpoints or web pages.\n",
        "Using Flask in a web scraping project enables the creation of a user-friendly interface where users can submit requests for specific data to be scraped, schedule scraping tasks, or display the scraped data in a structured format (such as tables or charts). Flask’s simplicity, scalability, and ease of integration with Python libraries (like BeautifulSoup or Scrapy) make it ideal for building web-based scraping tools or dashboards."
      ],
      "metadata": {
        "id": "UeDebq0XNAgn"
      }
    },
    {
      "cell_type": "markdown",
      "source": [
        "Q5. Write the names of AWS services used in this project. Also, explain the use of each service."
      ],
      "metadata": {
        "id": "yGma_mf0ND0w"
      }
    },
    {
      "cell_type": "markdown",
      "source": [
        "Amazon EC2 (Elastic Compute Cloud), Amazon S3 (Simple Storage Service), Amazon RDS (Relational Database Service), Amazon API Gateway"
      ],
      "metadata": {
        "id": "wr1ZKZ4ENG22"
      }
    }
  ]
}
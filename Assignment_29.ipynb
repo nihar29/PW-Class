{
  "nbformat": 4,
  "nbformat_minor": 0,
  "metadata": {
    "colab": {
      "provenance": []
    },
    "kernelspec": {
      "name": "python3",
      "display_name": "Python 3"
    },
    "language_info": {
      "name": "python"
    }
  },
  "cells": [
    {
      "cell_type": "markdown",
      "source": [
        "Q1. What is the Probability density function?"
      ],
      "metadata": {
        "id": "-0wRmibCDWTZ"
      }
    },
    {
      "cell_type": "markdown",
      "source": [
        "The PDF describes the likelihood of a continuous random variable taking on a specific value within a given range. It represents the density of probability rather than the probability itself, and the area under the curve of the PDF equals 1."
      ],
      "metadata": {
        "id": "6Wo9bkrFEVfv"
      }
    },
    {
      "cell_type": "markdown",
      "source": [
        "Q2. What are the types of Probability distribution?"
      ],
      "metadata": {
        "id": "LUyahbYHD8yJ"
      }
    },
    {
      "cell_type": "markdown",
      "source": [
        "Discrete: Binomial, Poisson, Geometric\n",
        "Continuous: Normal, Exponential, Uniform"
      ],
      "metadata": {
        "id": "8DcIjN8HEYGT"
      }
    },
    {
      "cell_type": "markdown",
      "source": [
        "Q3. Write a Python function to calculate the probability density function of a normal distribution withgiven mean and standard deviation at a given point."
      ],
      "metadata": {
        "id": "T6eHcLKBD-74"
      }
    },
    {
      "cell_type": "code",
      "source": [
        "import scipy.stats as stats\n",
        "\n",
        "def normal_pdf(x, mean, std_dev):\n",
        "    return stats.norm.pdf(x, mean, std_dev)\n",
        "\n",
        "print(normal_pdf(2, 0, 1))  # Example usage\n"
      ],
      "metadata": {
        "colab": {
          "base_uri": "https://localhost:8080/"
        },
        "id": "68cgKIthEdVL",
        "outputId": "7a335927-7109-4215-846b-b0c98b9c9332"
      },
      "execution_count": 1,
      "outputs": [
        {
          "output_type": "stream",
          "name": "stdout",
          "text": [
            "0.05399096651318806\n"
          ]
        }
      ]
    },
    {
      "cell_type": "markdown",
      "source": [
        "Q4. What are the properties of Binomial distribution? Give two examples of events where binomial\n",
        "distribution can be applied.\n"
      ],
      "metadata": {
        "id": "iniil3mrEB2X"
      }
    },
    {
      "cell_type": "markdown",
      "source": [
        "Fixed number of trials (n).\n",
        "Each trial has two possible outcomes (success or failure).\n",
        "Probability of success (p) is constant for all trials.\n",
        "Trials are independent.\n",
        "Examples:\n",
        "\n",
        "The number of heads in 10 coin tosses.\n",
        "The number of defective items in a batch of 50 products."
      ],
      "metadata": {
        "id": "D9R1xmdIFOEO"
      }
    },
    {
      "cell_type": "markdown",
      "source": [
        "Q5. Generate a random sample of size 1000 from a binomial distribution with probability of success 0.4\n",
        "and plot a histogram of the results using matplotlib.\n"
      ],
      "metadata": {
        "id": "QOi8zHtdEDiz"
      }
    },
    {
      "cell_type": "code",
      "source": [
        "import numpy as np\n",
        "import matplotlib.pyplot as plt\n",
        "\n",
        "sample = np.random.binomial(n=10, p=0.4, size=1000)\n",
        "plt.hist(sample, bins=10, density=True, alpha=0.6, color='b')\n",
        "plt.xlabel(\"Number of Successes\")\n",
        "plt.ylabel(\"Frequency\")\n",
        "plt.title(\"Binomial Distribution Histogram\")\n",
        "plt.show()\n"
      ],
      "metadata": {
        "colab": {
          "base_uri": "https://localhost:8080/",
          "height": 472
        },
        "id": "4tCFCPMxFTep",
        "outputId": "733843bf-5307-46c8-f5b1-8f7f4c82e44c"
      },
      "execution_count": 2,
      "outputs": [
        {
          "output_type": "display_data",
          "data": {
            "text/plain": [
              "<Figure size 640x480 with 1 Axes>"
            ],
            "image/png": "[encoded data removed]"
          },
          "metadata": {}
        }
      ]
    },
    {
      "cell_type": "markdown",
      "source": [
        "Q6. Write a Python function to calculate the cumulative distribution function of a Poisson distribution\n",
        "with given mean at a given point.\n"
      ],
      "metadata": {
        "id": "LV-L1AJUEFLP"
      }
    },
    {
      "cell_type": "code",
      "source": [
        "import scipy.stats as stats\n",
        "\n",
        "def poisson_cdf(x, mean):\n",
        "    return stats.poisson.cdf(x, mean)\n",
        "\n",
        "print(poisson_cdf(5, 3))  # Example usage\n"
      ],
      "metadata": {
        "colab": {
          "base_uri": "https://localhost:8080/"
        },
        "id": "AS099OfYFWVq",
        "outputId": "d8655fc2-8f2a-459f-876e-12a7e72c6c5e"
      },
      "execution_count": 3,
      "outputs": [
        {
          "output_type": "stream",
          "name": "stdout",
          "text": [
            "0.9160820579686966\n"
          ]
        }
      ]
    },
    {
      "cell_type": "markdown",
      "source": [
        "Binomial: Deals with a fixed number of trials, each with success or failure.\n",
        "Poisson: Models the number of occurrences of an event in a fixed interval of time or space.\n"
      ],
      "metadata": {
        "id": "QMVXvuG7FZuG"
      }
    },
    {
      "cell_type": "markdown",
      "source": [
        "Q7. How Binomial distribution different from Poisson distribution?\n"
      ],
      "metadata": {
        "id": "3ptX27UKEH3f"
      }
    },
    {
      "cell_type": "code",
      "source": [
        "sample = np.random.poisson(lam=5, size=1000)\n",
        "print(\"Sample Mean:\", np.mean(sample))\n",
        "print(\"Sample Variance:\", np.var(sample))\n"
      ],
      "metadata": {
        "colab": {
          "base_uri": "https://localhost:8080/"
        },
        "id": "TRwN6VkVFeIG",
        "outputId": "3308861c-8363-46ed-b9d7-982570d49f0b"
      },
      "execution_count": 4,
      "outputs": [
        {
          "output_type": "stream",
          "name": "stdout",
          "text": [
            "Sample Mean: 4.902\n",
            "Sample Variance: 4.936396\n"
          ]
        }
      ]
    },
    {
      "cell_type": "markdown",
      "source": [
        "Q8. Generate a random sample of size 1000 from a Poisson distribution with mean 5 and calculate the\n",
        "sample mean and variance.\n"
      ],
      "metadata": {
        "id": "irWVq9ZVEJTL"
      }
    },
    {
      "cell_type": "markdown",
      "source": [
        "Binomial Distribution: Mean =\n",
        "𝑛\n",
        "×\n",
        "𝑝\n",
        "n×p, Variance =\n",
        "𝑛\n",
        "×\n",
        "𝑝\n",
        "×\n",
        "(\n",
        "1\n",
        "−\n",
        "𝑝\n",
        ")\n",
        "n×p×(1−p).\n",
        "Poisson Distribution: Mean = Variance =\n",
        "𝜆\n",
        "λ."
      ],
      "metadata": {
        "id": "-XXam-YfFjrq"
      }
    },
    {
      "cell_type": "markdown",
      "source": [
        "Q9. How mean and variance are related in Binomial distribution and Poisson distribution?\n"
      ],
      "metadata": {
        "id": "wldCiA4qELZ3"
      }
    },
    {
      "cell_type": "markdown",
      "source": [
        "The least frequent data appears in the tails of the distribution, far from the mean."
      ],
      "metadata": {
        "id": "O5xS1INtFoIk"
      }
    },
    {
      "cell_type": "markdown",
      "source": [
        "Q10. In normal distribution with respect to mean position, where does the least frequent data appear?"
      ],
      "metadata": {
        "id": "VMW3ICwHEOjb"
      }
    }
  ]
}
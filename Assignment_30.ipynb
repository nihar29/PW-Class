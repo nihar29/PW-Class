{
  "nbformat": 4,
  "nbformat_minor": 0,
  "metadata": {
    "colab": {
      "provenance": []
    },
    "kernelspec": {
      "name": "python3",
      "display_name": "Python 3"
    },
    "language_info": {
      "name": "python"
    }
  },
  "cells": [
    {
      "cell_type": "markdown",
      "source": [
        "Q1: What are the Probability Mass Function (PMF) and Probability Density Function (PDF)? Explain with\n",
        "an example.\n"
      ],
      "metadata": {
        "id": "34UY5m9CGhYk"
      }
    },
    {
      "cell_type": "markdown",
      "source": [
        "PMF is used for discrete random variables and gives the probability of each possible outcome.\n",
        "Example: Rolling a die, where the probability of each face (1-6) is\n",
        "1\n",
        "6\n",
        "6\n",
        "1\n",
        "​\n",
        " .\n",
        "PDF is used for continuous random variables and represents the density of probability over a range of values.\n",
        "Example: Heights of people, which follow a normal distribution."
      ],
      "metadata": {
        "id": "9e6i0m68G7zP"
      }
    },
    {
      "cell_type": "markdown",
      "source": [
        "Q2: What is Cumulative Density Function (CDF)? Explain with an example. Why CDF is used?\n"
      ],
      "metadata": {
        "id": "iHPwYNOKGjDP"
      }
    },
    {
      "cell_type": "markdown",
      "source": [
        "The CDF gives the probability that a random variable takes a value less than or equal to a given number.\n",
        "Example: If heights follow a normal distribution, CDF(170 cm) gives the probability that a randomly chosen person is shorter than 170 cm.\n",
        "Why use CDF? It helps in computing probabilities for ranges and is useful for statistical inference."
      ],
      "metadata": {
        "id": "qRE1wiqbHT6u"
      }
    },
    {
      "cell_type": "markdown",
      "source": [
        "Q3: What are some examples of situations where the normal distribution might be used as a model?\n",
        "Explain how the parameters of the normal distribution relate to the shape of the distribution.\n"
      ],
      "metadata": {
        "id": "0d_jZydCGk4_"
      }
    },
    {
      "cell_type": "markdown",
      "source": [
        "Heights, weights, IQ scores, and stock returns.\n",
        "Parameters:\n",
        "Mean (\n",
        "𝜇\n",
        "μ): Center of the distribution.\n",
        "Standard Deviation (\n",
        "𝜎\n",
        "σ): Determines the spread.\n",
        "A larger\n",
        "𝜎\n",
        "σ means a wider, flatter curve, while a smaller\n",
        "𝜎\n",
        "σ means a narrower, taller curve."
      ],
      "metadata": {
        "id": "XmBOYYF6HZc8"
      }
    },
    {
      "cell_type": "markdown",
      "source": [
        "Q4: Explain the importance of Normal Distribution. Give a few real-life examples of Normal\n",
        "Distribution.\n"
      ],
      "metadata": {
        "id": "-1kusLGZGssF"
      }
    },
    {
      "cell_type": "markdown",
      "source": [
        "Many natural and social phenomena follow it.\n",
        "Used in hypothesis testing, regression, and probability modeling.\n",
        "Examples:\n",
        "Exam scores.\n",
        "Blood pressure readings.\n",
        "Measurement errors."
      ],
      "metadata": {
        "id": "4tLr-JY4HdQU"
      }
    },
    {
      "cell_type": "markdown",
      "source": [
        "Q5: What is Bernaulli Distribution? Give an Example. What is the difference between Bernoulli\n",
        "Distribution and Binomial Distribution?\n"
      ],
      "metadata": {
        "id": "dVc94L2YGuta"
      }
    },
    {
      "cell_type": "markdown",
      "source": [
        "A discrete distribution with two outcomes: success (1) and failure (0).\n",
        "Example: Tossing a coin (Heads = 1, Tails = 0).\n",
        "Difference from Binomial:\n",
        "Bernoulli: Single trial.\n",
        "Binomial: Multiple independent Bernoulli trials.\n",
        "Given:\n",
        "𝜇\n",
        "=\n",
        "50\n",
        ",\n",
        "𝜎\n",
        "=\n",
        "10\n",
        "μ=50,σ=10, Find\n",
        "𝑃\n",
        "(\n",
        "𝑋\n",
        ">\n",
        "60\n",
        ")\n",
        "P(X>60).\n",
        "Compute Z-score:\n",
        "𝑍\n",
        "=\n",
        "60\n",
        "−\n",
        "50\n",
        "10\n",
        "=\n",
        "1\n",
        "Z=\n",
        "10\n",
        "60−50\n",
        "​\n",
        " =1\n",
        "From Z-table,\n",
        "𝑃\n",
        "(\n",
        "𝑍\n",
        "<\n",
        "1\n",
        ")\n",
        "=\n",
        "0.8413\n",
        "P(Z<1)=0.8413.\n",
        "So,\n",
        "𝑃\n",
        "(\n",
        "𝑋\n",
        ">\n",
        "60\n",
        ")\n",
        "=\n",
        "1\n",
        "−\n",
        "0.8413\n",
        "=\n",
        "0.1587\n",
        "P(X>60)=1−0.8413=0.1587."
      ],
      "metadata": {
        "id": "XFo-1n72Hj2w"
      }
    },
    {
      "cell_type": "markdown",
      "source": [
        "Q6. Consider a dataset with a mean of 50 and a standard deviation of 10. If we assume that the dataset\n",
        "is normally distributed, what is the probability that a randomly selected observation will be greater\n",
        "than 60? Use the appropriate formula and show your calculations.\n"
      ],
      "metadata": {
        "id": "apcnYXQcGwNQ"
      }
    },
    {
      "cell_type": "markdown",
      "source": [
        "A distribution where all outcomes in a given range are equally likely.\n",
        "Example: Rolling a fair die or selecting a random number between 0 and 1.\n"
      ],
      "metadata": {
        "id": "kOQCzEYNHr--"
      }
    },
    {
      "cell_type": "markdown",
      "source": [
        "Q7: Explain uniform Distribution with an example.\n"
      ],
      "metadata": {
        "id": "cKPtn9ONGxp2"
      }
    },
    {
      "cell_type": "markdown",
      "source": [
        "Measures how far a value is from the mean in standard deviations.\n",
        "Formula:\n",
        "𝑍\n",
        "=\n",
        "𝑋\n",
        "−\n",
        "𝜇\n",
        "𝜎\n",
        "Z=\n",
        "σ\n",
        "X−μ\n",
        "​\n",
        "\n",
        "Importance:\n",
        "Standardizes data.\n",
        "Helps compare values from different distributions.\n",
        "Used in hypothesis testing."
      ],
      "metadata": {
        "id": "2X8mAlzhHuaI"
      }
    },
    {
      "cell_type": "markdown",
      "source": [
        "Q8: What is the z score? State the importance of the z score.\n"
      ],
      "metadata": {
        "id": "NRVrLAplGz8j"
      }
    },
    {
      "cell_type": "markdown",
      "source": [
        "Q9: What is Central Limit Theorem? State the significance of the Central Limit Theorem.\n"
      ],
      "metadata": {
        "id": "kwq2eLQCG1F5"
      }
    },
    {
      "cell_type": "markdown",
      "source": [
        "The CLT states that the distribution of sample means approaches a normal distribution as the sample size increases, regardless of the population distribution.\n",
        "Significance:\n",
        "Allows us to use normal distribution techniques on non-normally distributed data.\n",
        "Forms the basis for inferential statistics."
      ],
      "metadata": {
        "id": "Wjma6Zi6H1Rj"
      }
    },
    {
      "cell_type": "markdown",
      "source": [
        "Q10: State the assumptions of the Central Limit Theorem."
      ],
      "metadata": {
        "id": "YgCjZ_ecG259"
      }
    },
    {
      "cell_type": "markdown",
      "source": [
        "The sample size should be sufficiently large (typically\n",
        "𝑛\n",
        ">\n",
        "30\n",
        "n>30).\n",
        "Samples should be independent.\n",
        "The population should not be highly skewed for small sample sizes."
      ],
      "metadata": {
        "id": "FxsNSjKHH3ae"
      }
    }
  ]
}
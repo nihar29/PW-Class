{
 "cells": [
  {
   "cell_type": "markdown",
   "id": "62e5ea96",
   "metadata": {},
   "source": [
    "Question 1"
   ]
  },
  {
   "cell_type": "code",
   "execution_count": 4,
   "id": "bdd7ca74",
   "metadata": {},
   "outputs": [
    {
     "name": "stdout",
     "output_type": "stream",
     "text": [
      "<class 'str'>\n",
      "<class 'str'>\n",
      "<class 'list'>\n",
      "<class 'float'>\n",
      "<class 'tuple'>\n"
     ]
    }
   ],
   "source": [
    "nihar = 'n', 'i', ['jj', 'kk'], 2.45, ('tt', 'gg')\n",
    "\n",
    "for i in nihar:\n",
    "    print (type(i))"
   ]
  },
  {
   "cell_type": "markdown",
   "id": "85be7283",
   "metadata": {},
   "source": [
    "Question 2"
   ]
  },
  {
   "cell_type": "code",
   "execution_count": 8,
   "id": "71526bde",
   "metadata": {},
   "outputs": [
    {
     "name": "stdout",
     "output_type": "stream",
     "text": [
      "<class 'str'>\n",
      "<class 'str'>\n",
      "<class 'list'>\n",
      "<class 'int'>\n"
     ]
    }
   ],
   "source": [
    "var1 = '' ''\n",
    "var2 = '[ DS , ML , Python]'\n",
    "var3 = [ 'DS' , 'ML' , 'Python' ]\n",
    "var4 = 1\n",
    "\n",
    "print (type(var1))\n",
    "print (type(var2))\n",
    "print (type(var3))\n",
    "print (type(var4))"
   ]
  },
  {
   "cell_type": "markdown",
   "id": "a053967b",
   "metadata": {},
   "source": [
    "Question 3"
   ]
  },
  {
   "cell_type": "code",
   "execution_count": 9,
   "id": "312cb523",
   "metadata": {},
   "outputs": [
    {
     "data": {
      "text/plain": [
       "14.333333333333334"
      ]
     },
     "execution_count": 9,
     "metadata": {},
     "output_type": "execute_result"
    }
   ],
   "source": [
    "86/6"
   ]
  },
  {
   "cell_type": "code",
   "execution_count": 10,
   "id": "c66e21f6",
   "metadata": {},
   "outputs": [
    {
     "data": {
      "text/plain": [
       "3"
      ]
     },
     "execution_count": 10,
     "metadata": {},
     "output_type": "execute_result"
    }
   ],
   "source": [
    "45%6"
   ]
  },
  {
   "cell_type": "code",
   "execution_count": 11,
   "id": "776edca0",
   "metadata": {},
   "outputs": [
    {
     "data": {
      "text/plain": [
       "13"
      ]
     },
     "execution_count": 11,
     "metadata": {},
     "output_type": "execute_result"
    }
   ],
   "source": [
    "65//5"
   ]
  },
  {
   "cell_type": "code",
   "execution_count": 12,
   "id": "668b8d1d",
   "metadata": {},
   "outputs": [
    {
     "data": {
      "text/plain": [
       "2985984"
      ]
     },
     "execution_count": 12,
     "metadata": {},
     "output_type": "execute_result"
    }
   ],
   "source": [
    "12**6"
   ]
  },
  {
   "cell_type": "markdown",
   "id": "298d88f0",
   "metadata": {},
   "source": [
    "Question 4"
   ]
  },
  {
   "cell_type": "code",
   "execution_count": 16,
   "id": "04e7fd82",
   "metadata": {},
   "outputs": [
    {
     "name": "stdout",
     "output_type": "stream",
     "text": [
      "2\n",
      "<class 'int'>\n",
      "PW\n",
      "<class 'str'>\n",
      "5.67\n",
      "<class 'float'>\n",
      "Skills\n",
      "<class 'str'>\n",
      "478\n",
      "<class 'int'>\n",
      "97.44\n",
      "<class 'float'>\n",
      "True\n",
      "<class 'bool'>\n",
      "False\n",
      "<class 'bool'>\n",
      "57\n",
      "<class 'str'>\n",
      "1\n",
      "<class 'int'>\n"
     ]
    }
   ],
   "source": [
    "mylist = [2, 'PW', 5.67, 'Skills', 478, 97.44, True, False, '57', 1]\n",
    "\n",
    "for loop in mylist:\n",
    "    print (loop)\n",
    "    print (type(loop))"
   ]
  },
  {
   "cell_type": "markdown",
   "id": "7be64209",
   "metadata": {},
   "source": [
    "Question 5"
   ]
  },
  {
   "cell_type": "code",
   "execution_count": null,
   "id": "5df7ceb3",
   "metadata": {},
   "outputs": [
    {
     "name": "stderr",
     "output_type": "stream",
     "text": [
      "IOPub data rate exceeded.\n",
      "The notebook server will temporarily stop sending output\n",
      "to the client in order to avoid crashing it.\n",
      "To change this limit, set the config variable\n",
      "`--NotebookApp.iopub_data_rate_limit`.\n",
      "\n",
      "Current values:\n",
      "NotebookApp.iopub_data_rate_limit=1000000.0 (bytes/sec)\n",
      "NotebookApp.rate_limit_window=3.0 (secs)\n",
      "\n"
     ]
    }
   ],
   "source": [
    "a = 12\n",
    "b = 2\n",
    "\n",
    "while a%b == 0 :\n",
    "    print ('a is Divisible by b')"
   ]
  },
  {
   "cell_type": "markdown",
   "id": "aa3ead3b",
   "metadata": {},
   "source": [
    "Question 6"
   ]
  },
  {
   "cell_type": "code",
   "execution_count": 1,
   "id": "ebcbcacc",
   "metadata": {},
   "outputs": [
    {
     "name": "stdout",
     "output_type": "stream",
     "text": [
      "25\n",
      "Number is not divisible by 3\n",
      "27\n",
      "Number is divisible by 3\n",
      "64\n",
      "Number is not divisible by 3\n",
      "33\n",
      "Number is divisible by 3\n",
      "36\n",
      "Number is divisible by 3\n",
      "39\n",
      "Number is divisible by 3\n",
      "41\n",
      "Number is not divisible by 3\n",
      "97\n",
      "Number is not divisible by 3\n",
      "92\n",
      "Number is not divisible by 3\n",
      "65\n",
      "Number is not divisible by 3\n",
      "42\n",
      "Number is divisible by 3\n",
      "26\n",
      "Number is not divisible by 3\n",
      "45\n",
      "Number is divisible by 3\n",
      "72\n",
      "Number is divisible by 3\n",
      "12\n",
      "Number is divisible by 3\n",
      "18\n",
      "Number is divisible by 3\n",
      "65\n",
      "Number is not divisible by 3\n",
      "16\n",
      "Number is not divisible by 3\n",
      "79\n",
      "Number is not divisible by 3\n",
      "14\n",
      "Number is not divisible by 3\n",
      "52\n",
      "Number is not divisible by 3\n",
      "31\n",
      "Number is not divisible by 3\n",
      "56\n",
      "Number is not divisible by 3\n",
      "21\n",
      "Number is divisible by 3\n",
      "44\n",
      "Number is not divisible by 3\n",
      "66\n",
      "Number is divisible by 3\n"
     ]
    }
   ],
   "source": [
    "numbers = 25, 27, 64, 33, 36, 39, 41, 97, 92, 65, 42, 26, 45, 72, 12, 18, 65, 16, 79, 14, 52, 31, 56, 21, 44, 66\n",
    "\n",
    "for i in numbers :\n",
    "    print (i)\n",
    "    \n",
    "    if i%3 == 0 :\n",
    "        print ('Number is divisible by 3')\n",
    "        \n",
    "    else :\n",
    "        print ('Number is not divisible by 3')"
   ]
  },
  {
   "cell_type": "markdown",
   "id": "228f5461",
   "metadata": {},
   "source": [
    "Question 7"
   ]
  },
  {
   "cell_type": "code",
   "execution_count": 5,
   "id": "a9fb5be3",
   "metadata": {},
   "outputs": [
    {
     "name": "stdout",
     "output_type": "stream",
     "text": [
      "['Q', 'W', 'F', 'R', 'T', 'Y']\n"
     ]
    }
   ],
   "source": [
    "mutable = ['Q', 'W', 'E', 'R', 'T', 'Y']\n",
    "\n",
    "mutable[2] = 'F'\n",
    "print (mutable)"
   ]
  },
  {
   "cell_type": "code",
   "execution_count": 6,
   "id": "2aa4fa70",
   "metadata": {},
   "outputs": [
    {
     "ename": "TypeError",
     "evalue": "'str' object does not support item assignment",
     "output_type": "error",
     "traceback": [
      "\u001b[1;31m---------------------------------------------------------------------------\u001b[0m",
      "\u001b[1;31mTypeError\u001b[0m                                 Traceback (most recent call last)",
      "\u001b[1;32m~\\AppData\\Local\\Temp\\ipykernel_18992\\2509126292.py\u001b[0m in \u001b[0;36m<module>\u001b[1;34m\u001b[0m\n\u001b[0;32m      1\u001b[0m \u001b[0mimutable\u001b[0m \u001b[1;33m=\u001b[0m \u001b[1;34m'Nihar'\u001b[0m\u001b[1;33m\u001b[0m\u001b[1;33m\u001b[0m\u001b[0m\n\u001b[0;32m      2\u001b[0m \u001b[1;33m\u001b[0m\u001b[0m\n\u001b[1;32m----> 3\u001b[1;33m \u001b[0mimutable\u001b[0m\u001b[1;33m[\u001b[0m\u001b[1;36m2\u001b[0m\u001b[1;33m]\u001b[0m \u001b[1;33m=\u001b[0m \u001b[1;34m'j'\u001b[0m\u001b[1;33m\u001b[0m\u001b[1;33m\u001b[0m\u001b[0m\n\u001b[0m\u001b[0;32m      4\u001b[0m \u001b[0mprint\u001b[0m \u001b[1;33m(\u001b[0m\u001b[0mimutable\u001b[0m\u001b[1;33m)\u001b[0m\u001b[1;33m\u001b[0m\u001b[1;33m\u001b[0m\u001b[0m\n",
      "\u001b[1;31mTypeError\u001b[0m: 'str' object does not support item assignment"
     ]
    }
   ],
   "source": [
    "imutable = 'Nihar'\n",
    "\n",
    "imutable[2] = 'j'\n",
    "print (imutable)"
   ]
  },
  {
   "cell_type": "code",
   "execution_count": null,
   "id": "fd4a8f99",
   "metadata": {},
   "outputs": [],
   "source": []
  }
 ],
 "metadata": {
  "kernelspec": {
   "display_name": "Python 3 (ipykernel)",
   "language": "python",
   "name": "python3"
  },
  "language_info": {
   "codemirror_mode": {
    "name": "ipython",
    "version": 3
   },
   "file_extension": ".py",
   "mimetype": "text/x-python",
   "name": "python",
   "nbconvert_exporter": "python",
   "pygments_lexer": "ipython3",
   "version": "3.9.13"
  }
 },
 "nbformat": 4,
 "nbformat_minor": 5
}

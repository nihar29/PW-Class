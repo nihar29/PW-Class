{
  "nbformat": 4,
  "nbformat_minor": 0,
  "metadata": {
    "colab": {
      "provenance": []
    },
    "kernelspec": {
      "name": "python3",
      "display_name": "Python 3"
    },
    "language_info": {
      "name": "python"
    }
  },
  "cells": [
    {
      "cell_type": "markdown",
      "source": [
        "Q1. What is data encoding? How is it useful in data science?\n",
        "Q2. What is nominal encoding? Provide an example of how you would use it in a real-world scenario.\n",
        "Q3. In what situations is nominal encoding preferred over one-hot encoding? Provide a practical example.\n",
        "Q4. Suppose you have a dataset containing categorical data with 5 unique values. Which encoding\n",
        "technique would you use to transform this data into a format suitable for machine learning algorithms?\n",
        "Explain why you made this choice.\n",
        "Q5. In a machine learning project, you have a dataset with 1000 rows and 5 columns. Two of the columns\n",
        "are categorical, and the remaining three columns are numerical. If you were to use nominal encoding to\n",
        "transform the categorical data, how many new columns would be created? Show your calculations.\n",
        "Q6. You are working with a dataset containing information about different types of animals, including their\n",
        "species, habitat, and diet. Which encoding technique would you use to transform the categorical data into\n",
        "a format suitable for machine learning algorithms? Justify your answer.\n",
        "Q7.You are working on a project that involves predicting customer churn for a telecommunications\n",
        "company. You have a dataset with 5 features, including the customer's gender, age, contract type,\n",
        "monthly charges, and tenure. Which encoding technique(s) would you use to transform the categorical\n",
        "data into numerical data? Provide a step-by-step explanation of how you would implement the encoding."
      ],
      "metadata": {
        "id": "KxuR_1rC0luZ"
      }
    },
    {
      "cell_type": "markdown",
      "source": [
        "**Q1:**  \n",
        "Data encoding is the process of converting categorical data into a numerical format for use in machine learning models. It is essential because most ML algorithms work with numerical data. Encoding helps retain meaningful relationships between categories and improves model accuracy. Common techniques include one-hot encoding, label encoding, and ordinal encoding.  \n",
        "\n",
        "**Q2:**  \n",
        "Nominal encoding, also known as label encoding, assigns a unique integer to each category without implying any order. For example, in a car rental dataset with categories like [\"Sedan,\" \"SUV,\" \"Hatchback\"], nominal encoding would assign values like {\"Sedan\": 0, \"SUV\": 1, \"Hatchback\": 2}. This method is useful when there is no ordinal relationship between categories.  \n",
        "\n",
        "**Q3:**  \n",
        "Nominal encoding is preferred over one-hot encoding when there are too many unique categories, as one-hot encoding creates a large number of columns, increasing dimensionality. For example, in an e-commerce dataset with 500 different product categories, nominal encoding is more efficient than one-hot encoding because it avoids excessive feature expansion.  \n",
        "\n",
        "**Q4:**  \n",
        "If a dataset contains categorical data with 5 unique values, **one-hot encoding** or **label encoding** can be used. One-hot encoding creates 5 new binary columns (or 4 if using drop-first optimization), while label encoding assigns integers (0-4). If the categorical variable has no order, one-hot encoding is preferred to avoid misleading ordinal relationships.  \n",
        "\n",
        "**Q5:**  \n",
        "If a dataset has 1000 rows and 5 columns, with 2 categorical columns, the number of new columns depends on the encoding technique. Assuming one-hot encoding and 3 unique values in each categorical column:  \n",
        "Each categorical column creates **(3-1) = 2** new columns (drop-first approach).  \n",
        "Total new columns = **2 × 2 = 4**.  \n",
        "Final dataset shape = **1000 rows × (3 + 4) = 1000 × 7**.  \n",
        "\n",
        "**Q6:**  \n",
        "For an animal dataset with categorical features like species, habitat, and diet, **one-hot encoding** is preferable because these categories have no ordinal relationship. For example, [\"Carnivore,\" \"Herbivore,\" \"Omnivore\"] should be represented as separate binary columns instead of numerical labels to prevent the model from assuming an order.  \n",
        "\n",
        "**Q7:**  \n",
        "For a telecom churn prediction dataset with features like **gender, age, contract type, monthly charges, and tenure**, the encoding strategy would be:  \n",
        "1. **Gender (Binary Categorical)** → Use **binary encoding** (0 for Male, 1 for Female).  \n",
        "2. **Age, Monthly Charges, Tenure (Numerical)** → No encoding required.  \n",
        "3. **Contract Type (Nominal Categorical, e.g., \"Prepaid,\" \"Postpaid\")** → Use **one-hot encoding** to create separate binary columns for each contract type.  \n",
        "By implementing these encoding techniques, the categorical data becomes suitable for machine learning models."
      ],
      "metadata": {
        "id": "l3QiGn100s4q"
      }
    }
  ]
}
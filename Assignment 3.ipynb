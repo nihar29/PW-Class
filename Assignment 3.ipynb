{
 "cells": [
  {
   "cell_type": "markdown",
   "id": "72c79019",
   "metadata": {},
   "source": [
    "Question 1"
   ]
  },
  {
   "cell_type": "code",
   "execution_count": 18,
   "id": "23360df8",
   "metadata": {},
   "outputs": [],
   "source": [
    "#def keyword is to generate function\n",
    "\n",
    "\n",
    "def test() :\n",
    "    l1 = []\n",
    "    for i in range(1, 26) :\n",
    "        if i % 2 != 0 :\n",
    "            l1.append(i)\n",
    "    return l1"
   ]
  },
  {
   "cell_type": "code",
   "execution_count": 19,
   "id": "eae84da5",
   "metadata": {},
   "outputs": [
    {
     "data": {
      "text/plain": [
       "[1, 3, 5, 7, 9, 11, 13, 15, 17, 19, 21, 23, 25]"
      ]
     },
     "execution_count": 19,
     "metadata": {},
     "output_type": "execute_result"
    }
   ],
   "source": [
    "test()"
   ]
  },
  {
   "cell_type": "markdown",
   "id": "e3eadae0",
   "metadata": {},
   "source": [
    "Question 2"
   ]
  },
  {
   "cell_type": "code",
   "execution_count": 20,
   "id": "03a83002",
   "metadata": {},
   "outputs": [],
   "source": [
    "# *args is used for giving an edge to the user for unlimited number of data entry for single value as a input in a function\n",
    "\n",
    "def args(*unlimited) :\n",
    "    return unlimited"
   ]
  },
  {
   "cell_type": "code",
   "execution_count": 21,
   "id": "7ab86cc1",
   "metadata": {},
   "outputs": [
    {
     "data": {
      "text/plain": [
       "(1, 34.6, (3+5j), 58897, 8098767, 'Nihar', 'Ranjan', 'Sahoo')"
      ]
     },
     "execution_count": 21,
     "metadata": {},
     "output_type": "execute_result"
    }
   ],
   "source": [
    "args(1, 34.6, 3+5j, 58897, 8098767, 'Nihar', 'Ranjan', 'Sahoo')"
   ]
  },
  {
   "cell_type": "code",
   "execution_count": 22,
   "id": "59e224d4",
   "metadata": {},
   "outputs": [],
   "source": [
    "# **kwargs is used if data needed as dictionary value\n",
    "\n",
    "def kwargs(**un) :\n",
    "    return un"
   ]
  },
  {
   "cell_type": "code",
   "execution_count": 24,
   "id": "0fa12cfb",
   "metadata": {},
   "outputs": [
    {
     "data": {
      "text/plain": [
       "{'a': 34, 'b': [35, 33, 67], 'c': 'kwargs'}"
      ]
     },
     "execution_count": 24,
     "metadata": {},
     "output_type": "execute_result"
    }
   ],
   "source": [
    "kwargs(a = 34, b = [35, 33, 67], c = 'kwargs')"
   ]
  },
  {
   "cell_type": "markdown",
   "id": "d31e8508",
   "metadata": {},
   "source": [
    "Question 3"
   ]
  },
  {
   "cell_type": "code",
   "execution_count": 25,
   "id": "bd275cac",
   "metadata": {},
   "outputs": [],
   "source": [
    "# iterator is a object that allows iteration for loop\n",
    "\n",
    "a =  [2, 4, 6, 8, 10, 12, 14, 16, 18, 20]"
   ]
  },
  {
   "cell_type": "code",
   "execution_count": 26,
   "id": "e9f8a4c0",
   "metadata": {},
   "outputs": [],
   "source": [
    "b = iter(a)"
   ]
  },
  {
   "cell_type": "code",
   "execution_count": 27,
   "id": "4493e3ae",
   "metadata": {},
   "outputs": [
    {
     "data": {
      "text/plain": [
       "2"
      ]
     },
     "execution_count": 27,
     "metadata": {},
     "output_type": "execute_result"
    }
   ],
   "source": [
    "next(b)"
   ]
  },
  {
   "cell_type": "code",
   "execution_count": 28,
   "id": "f842485a",
   "metadata": {},
   "outputs": [
    {
     "data": {
      "text/plain": [
       "4"
      ]
     },
     "execution_count": 28,
     "metadata": {},
     "output_type": "execute_result"
    }
   ],
   "source": [
    "next(b)"
   ]
  },
  {
   "cell_type": "code",
   "execution_count": 29,
   "id": "29188d34",
   "metadata": {},
   "outputs": [
    {
     "data": {
      "text/plain": [
       "6"
      ]
     },
     "execution_count": 29,
     "metadata": {},
     "output_type": "execute_result"
    }
   ],
   "source": [
    "next(b)"
   ]
  },
  {
   "cell_type": "code",
   "execution_count": 30,
   "id": "24e15cbf",
   "metadata": {},
   "outputs": [
    {
     "data": {
      "text/plain": [
       "8"
      ]
     },
     "execution_count": 30,
     "metadata": {},
     "output_type": "execute_result"
    }
   ],
   "source": [
    "next(b)"
   ]
  },
  {
   "cell_type": "code",
   "execution_count": 31,
   "id": "599f4140",
   "metadata": {},
   "outputs": [
    {
     "data": {
      "text/plain": [
       "10"
      ]
     },
     "execution_count": 31,
     "metadata": {},
     "output_type": "execute_result"
    }
   ],
   "source": [
    "next(b)"
   ]
  },
  {
   "cell_type": "code",
   "execution_count": 36,
   "id": "74bbabed",
   "metadata": {},
   "outputs": [
    {
     "name": "stdout",
     "output_type": "stream",
     "text": [
      "2\n",
      "4\n",
      "6\n",
      "8\n",
      "10\n"
     ]
    }
   ],
   "source": [
    "c =  [2, 4, 6, 8, 10, 12, 14, 16, 18, 20]\n",
    "\n",
    "d = iter(c)\n",
    "\n",
    "for i in range(5) :\n",
    "    print(next(d))"
   ]
  },
  {
   "cell_type": "markdown",
   "id": "43a24eef",
   "metadata": {},
   "source": [
    "Question 4"
   ]
  },
  {
   "cell_type": "code",
   "execution_count": 3,
   "id": "d6f8d4bf",
   "metadata": {},
   "outputs": [],
   "source": [
    "# Generator function return an iterator for every single value, and to hold and displaying that value yield fuction is used\n",
    "\n",
    "def div_by_3(n) :\n",
    "    \n",
    "    j = 1\n",
    "    while True :\n",
    "        if j % 3 == 0 :\n",
    "            if j < n :\n",
    "                yield j\n",
    "        j = j+1"
   ]
  },
  {
   "cell_type": "code",
   "execution_count": 4,
   "id": "4b056d68",
   "metadata": {},
   "outputs": [],
   "source": [
    "f = div_by_3(50)"
   ]
  },
  {
   "cell_type": "code",
   "execution_count": null,
   "id": "0dea7887",
   "metadata": {},
   "outputs": [
    {
     "name": "stdout",
     "output_type": "stream",
     "text": [
      "3\n",
      "6\n",
      "9\n",
      "12\n",
      "15\n",
      "18\n",
      "21\n",
      "24\n",
      "27\n",
      "30\n",
      "33\n",
      "36\n",
      "39\n",
      "42\n",
      "45\n",
      "48\n"
     ]
    }
   ],
   "source": [
    "for i in f :\n",
    "    print(i)"
   ]
  },
  {
   "cell_type": "markdown",
   "id": "5f29ce11",
   "metadata": {},
   "source": [
    "Question 5"
   ]
  },
  {
   "cell_type": "code",
   "execution_count": 8,
   "id": "28b9958d",
   "metadata": {},
   "outputs": [],
   "source": [
    "def prime() :\n",
    "\n",
    "    for i in range(2, 1000) :\n",
    "        d = True\n",
    "        for num in range(2, i):\n",
    "            if i % num == 0 :\n",
    "                d = False\n",
    "        \n",
    "        if d:\n",
    "            yield i"
   ]
  },
  {
   "cell_type": "code",
   "execution_count": 9,
   "id": "36022459",
   "metadata": {},
   "outputs": [
    {
     "name": "stdout",
     "output_type": "stream",
     "text": [
      "2\n",
      "3\n",
      "5\n",
      "7\n",
      "11\n",
      "13\n",
      "17\n",
      "19\n",
      "23\n",
      "29\n",
      "31\n",
      "37\n",
      "41\n",
      "43\n",
      "47\n",
      "53\n",
      "59\n",
      "61\n",
      "67\n",
      "71\n"
     ]
    }
   ],
   "source": [
    "g = prime()\n",
    "\n",
    "for anything in range(20):\n",
    "    print(next(g))"
   ]
  },
  {
   "cell_type": "markdown",
   "id": "2f064e0e",
   "metadata": {},
   "source": [
    "Question 6"
   ]
  },
  {
   "cell_type": "code",
   "execution_count": 17,
   "id": "da3f16c0",
   "metadata": {},
   "outputs": [],
   "source": [
    "def fib(n):\n",
    "    \n",
    "    a, b = 0, 1\n",
    "    while a in range (n) :\n",
    "        yield a\n",
    "        a,b = b, a+b\n",
    "        "
   ]
  },
  {
   "cell_type": "code",
   "execution_count": 18,
   "id": "61abf37e",
   "metadata": {},
   "outputs": [
    {
     "name": "stdout",
     "output_type": "stream",
     "text": [
      "0\n",
      "1\n",
      "1\n",
      "2\n",
      "3\n",
      "5\n",
      "8\n",
      "13\n",
      "21\n",
      "34\n"
     ]
    }
   ],
   "source": [
    "a = fib(100)\n",
    "for h in range(10) :\n",
    "    print(next(a))"
   ]
  },
  {
   "cell_type": "markdown",
   "id": "7fb407f1",
   "metadata": {},
   "source": [
    "Question 7"
   ]
  },
  {
   "cell_type": "code",
   "execution_count": 21,
   "id": "95283d47",
   "metadata": {},
   "outputs": [],
   "source": [
    "s = 'pwskills'\n",
    "\n",
    "l1 = []\n",
    "for i in s:\n",
    "    l1.append(i)"
   ]
  },
  {
   "cell_type": "code",
   "execution_count": 22,
   "id": "079b21c2",
   "metadata": {},
   "outputs": [
    {
     "data": {
      "text/plain": [
       "['p', 'w', 's', 'k', 'i', 'l', 'l', 's']"
      ]
     },
     "execution_count": 22,
     "metadata": {},
     "output_type": "execute_result"
    }
   ],
   "source": [
    "l1"
   ]
  },
  {
   "cell_type": "markdown",
   "id": "498e4326",
   "metadata": {},
   "source": [
    "Question 8"
   ]
  },
  {
   "cell_type": "code",
   "execution_count": 1,
   "id": "ab7e2a3e",
   "metadata": {},
   "outputs": [],
   "source": [
    "def palindrome(a):\n",
    "    \n",
    "    a = str(a)\n",
    "    while a == a[::-1] :\n",
    "        print ( a, '- This number is a Palindrome')\n",
    "        \n",
    "    else :\n",
    "        print (a, '- This number is not a Palindrome')"
   ]
  },
  {
   "cell_type": "code",
   "execution_count": 2,
   "id": "54b8185a",
   "metadata": {},
   "outputs": [
    {
     "name": "stdout",
     "output_type": "stream",
     "text": [
      "246782 - This number is not a Palindrome\n"
     ]
    }
   ],
   "source": [
    "palindrome(246782)"
   ]
  },
  {
   "cell_type": "markdown",
   "id": "60a161fa",
   "metadata": {},
   "source": [
    "Question 9"
   ]
  },
  {
   "cell_type": "code",
   "execution_count": 1,
   "id": "bc366eeb",
   "metadata": {},
   "outputs": [],
   "source": [
    "lis = []\n",
    "\n",
    "for i in range(100) :\n",
    "    if i % 2 != 0 :\n",
    "        lis.append(i)"
   ]
  },
  {
   "cell_type": "code",
   "execution_count": 2,
   "id": "534ed55e",
   "metadata": {},
   "outputs": [
    {
     "data": {
      "text/plain": [
       "[1,\n",
       " 3,\n",
       " 5,\n",
       " 7,\n",
       " 9,\n",
       " 11,\n",
       " 13,\n",
       " 15,\n",
       " 17,\n",
       " 19,\n",
       " 21,\n",
       " 23,\n",
       " 25,\n",
       " 27,\n",
       " 29,\n",
       " 31,\n",
       " 33,\n",
       " 35,\n",
       " 37,\n",
       " 39,\n",
       " 41,\n",
       " 43,\n",
       " 45,\n",
       " 47,\n",
       " 49,\n",
       " 51,\n",
       " 53,\n",
       " 55,\n",
       " 57,\n",
       " 59,\n",
       " 61,\n",
       " 63,\n",
       " 65,\n",
       " 67,\n",
       " 69,\n",
       " 71,\n",
       " 73,\n",
       " 75,\n",
       " 77,\n",
       " 79,\n",
       " 81,\n",
       " 83,\n",
       " 85,\n",
       " 87,\n",
       " 89,\n",
       " 91,\n",
       " 93,\n",
       " 95,\n",
       " 97,\n",
       " 99]"
      ]
     },
     "execution_count": 2,
     "metadata": {},
     "output_type": "execute_result"
    }
   ],
   "source": [
    "lis"
   ]
  },
  {
   "cell_type": "code",
   "execution_count": null,
   "id": "ad6cd5b7",
   "metadata": {},
   "outputs": [],
   "source": []
  }
 ],
 "metadata": {
  "kernelspec": {
   "display_name": "Python 3 (ipykernel)",
   "language": "python",
   "name": "python3"
  },
  "language_info": {
   "codemirror_mode": {
    "name": "ipython",
    "version": 3
   },
   "file_extension": ".py",
   "mimetype": "text/x-python",
   "name": "python",
   "nbconvert_exporter": "python",
   "pygments_lexer": "ipython3",
   "version": "3.9.13"
  }
 },
 "nbformat": 4,
 "nbformat_minor": 5
}

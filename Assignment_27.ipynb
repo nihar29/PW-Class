{
  "nbformat": 4,
  "nbformat_minor": 0,
  "metadata": {
    "colab": {
      "provenance": []
    },
    "kernelspec": {
      "name": "python3",
      "display_name": "Python 3"
    },
    "language_info": {
      "name": "python"
    }
  },
  "cells": [
    {
      "cell_type": "markdown",
      "source": [
        "Q1. What is Statistics?"
      ],
      "metadata": {
        "id": "WkbZaWS66QxS"
      }
    },
    {
      "cell_type": "markdown",
      "source": [
        "Statistics is the study of collecting, organizing, analyzing, interpreting, and presenting data to draw meaningful conclusions. It helps in decision-making by identifying patterns and trends in data."
      ],
      "metadata": {
        "id": "f4To3qmi7OLp"
      }
    },
    {
      "cell_type": "markdown",
      "source": [
        "Q2. Define the different types of statistics and give an example of when each type might be used."
      ],
      "metadata": {
        "id": "45xVIWMB6nnx"
      }
    },
    {
      "cell_type": "markdown",
      "source": [
        "Statistics is divided into two types:\n",
        "\n",
        "Descriptive Statistics – Summarizes and presents data using measures such as mean, median, and standard deviation.\n",
        "\n",
        "Example: Calculating the average marks of students in a class.\n",
        "Inferential Statistics – Draws conclusions about a population based on sample data using probability and hypothesis testing.\n",
        "\n",
        "Example: Predicting election results based on a survey of 1,000 voters."
      ],
      "metadata": {
        "id": "yn-7IhsS7STv"
      }
    },
    {
      "cell_type": "markdown",
      "source": [
        "Q3. What are the different types of data and how do they differ from each other? Provide an example of  each type of data."
      ],
      "metadata": {
        "id": "yY1_iYxW6qD4"
      }
    },
    {
      "cell_type": "markdown",
      "source": [
        "Data is classified into two main types:\n",
        "\n",
        "Qualitative (Categorical) Data – Describes characteristics or categories.\n",
        "\n",
        "Example: Eye color (brown, blue, green).\n",
        "Quantitative (Numerical) Data – Represents measurable values.\n",
        "\n",
        "Example: Temperature in Celsius (25°C, 30°C, 35°C).\n",
        "Further classification of Quantitative Data:\n",
        "\n",
        "Discrete Data – Countable values (e.g., Number of students in a class).\n",
        "Continuous Data – Measurable values (e.g., Height of students in meters)."
      ],
      "metadata": {
        "id": "C9VaMNOW7UvK"
      }
    },
    {
      "cell_type": "markdown",
      "source": [
        "Q4. Categorise the following datasets with respect to quantitative and qualitative data types:\n",
        "(i) Grading in exam: A+, A, B+, B, C+, C, D, E\n",
        "(ii) Colour of mangoes: yellow, green, orange, red\n",
        "\n",
        "(iii) Height data of a class: [178.9, 179, 179.5, 176, 177.2, 178.3, 175.8,...]\n",
        "(iv) Number of mangoes exported by a farm: [500, 600, 478, 672, ...]"
      ],
      "metadata": {
        "id": "cHh1M8cj6sAo"
      }
    },
    {
      "cell_type": "markdown",
      "source": [
        "Dataset\tType\n",
        "Grading in exam: A+, A, B+, B, C+, C, D, E\tQualitative (Ordinal)\n",
        "Colour of mangoes: Yellow, Green, Orange, Red\tQualitative (Nominal)\n",
        "Height data of a class: [178.9, 179, 179.5, 176, 177.2, 178.3, 175.8,...]\tQuantitative (Continuous)\n",
        "Number of mangoes exported by a farm: [500, 600, 478, 672, ...]\tQuantitative (Discrete)"
      ],
      "metadata": {
        "id": "DMf_vOlY7bQ_"
      }
    },
    {
      "cell_type": "markdown",
      "source": [
        "Q5. Explain the concept of levels of measurement and give an example of a variable for each level."
      ],
      "metadata": {
        "id": "hnJlm_RV6uiY"
      }
    },
    {
      "cell_type": "markdown",
      "source": [
        "Nominal – Categories without a meaningful order.\n",
        "\n",
        "Example: Types of fruit (Apple, Banana, Mango).\n",
        "Ordinal – Ordered categories but without fixed intervals.\n",
        "\n",
        "Example: Education level (Primary, Secondary, Higher).\n",
        "Interval – Ordered data with meaningful differences but no true zero.\n",
        "\n",
        "Example: Temperature in Celsius (0°C does not mean no heat).\n",
        "Ratio – Ordered data with meaningful differences and a true zero.\n",
        "\n",
        "Example: Height of a person in cm (0 cm means no height)."
      ],
      "metadata": {
        "id": "GLmr1c0z7ffP"
      }
    },
    {
      "cell_type": "markdown",
      "source": [
        "Q6. Why is it important to understand the level of measurement when analyzing data? Provide an\n",
        "example to illustrate your answer."
      ],
      "metadata": {
        "id": "rs_Hiv476wVB"
      }
    },
    {
      "cell_type": "markdown",
      "source": [
        "Understanding the level of measurement is crucial for choosing the right statistical test.\n",
        "\n",
        "Example:\n",
        "\n",
        "If data is nominal, calculating a mean is meaningless (e.g., averaging colors of shirts).\n",
        "If data is ratio, using a mean and standard deviation is appropriate (e.g., weight of people)."
      ],
      "metadata": {
        "id": "GLPe92z67lA6"
      }
    },
    {
      "cell_type": "markdown",
      "source": [
        "Q7. How nominal data type is different from ordinal data type."
      ],
      "metadata": {
        "id": "dXpn7o4Z6yHQ"
      }
    },
    {
      "cell_type": "markdown",
      "source": [
        "Feature\tNominal Data\tOrdinal Data\n",
        "Meaning\tCategories without order\tOrdered categories\n",
        "Example\tGender (Male, Female)\tMovie ratings (1 to 5 stars)\n",
        "Analysis\tMode\tMedian, Percentiles"
      ],
      "metadata": {
        "id": "PwckCSdd7nmH"
      }
    },
    {
      "cell_type": "markdown",
      "source": [
        "Q8. Which type of plot can be used to display data in terms of range?"
      ],
      "metadata": {
        "id": "vzwk4rDh6zhw"
      }
    },
    {
      "cell_type": "markdown",
      "source": [
        "A box plot (box-and-whisker plot) is used to display the range, median, and variability of data. It shows:\n",
        "\n",
        "Minimum, maximum, quartiles, and median.\n",
        "Outliers and data distribution."
      ],
      "metadata": {
        "id": "WfIJYxnd7sM3"
      }
    },
    {
      "cell_type": "markdown",
      "source": [
        "Q9. Describe the difference between descriptive and inferential statistics. Give an example of each type of statistics and explain how they are used."
      ],
      "metadata": {
        "id": "FCgWmW2U61G5"
      }
    },
    {
      "cell_type": "markdown",
      "source": [
        "Feature\tDescriptive Statistics\tInferential Statistics\n",
        "Purpose\tSummarizes data\tDraws conclusions from sample to population\n",
        "Example\tMean salary of employees in a company\tPredicting future sales based on a survey\n",
        "Techniques\tMean, Median, Standard Deviation\tHypothesis Testing, Confidence Intervals"
      ],
      "metadata": {
        "id": "NiQ7HDRv7wNA"
      }
    },
    {
      "cell_type": "markdown",
      "source": [
        "Q10. What are some common measures of central tendency and variability used in statistics? Explain how each measure can be used to describe a dataset."
      ],
      "metadata": {
        "id": "V4nYVLCP7B0I"
      }
    },
    {
      "cell_type": "markdown",
      "source": [
        "Measures of Central Tendency (Describe the center of data):\n",
        "\n",
        "Mean – The average value.\n",
        "Median – The middle value.\n",
        "Mode – The most frequently occurring value.\n",
        "Measures of Variability (Describe data spread):\n",
        "\n",
        "Range – Difference between the highest and lowest value.\n",
        "Variance – Measures how far data points are from the mean.\n",
        "Standard Deviation – The square root of variance, indicating data dispersion.\n",
        "Example:\n",
        "\n",
        "In exam scores, mean shows the average performance.\n",
        "Standard deviation shows how varied the scores are among students."
      ],
      "metadata": {
        "id": "r68STMGg7xjw"
      }
    }
  ]
}
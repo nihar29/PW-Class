{
  "nbformat": 4,
  "nbformat_minor": 0,
  "metadata": {
    "colab": {
      "provenance": []
    },
    "kernelspec": {
      "name": "python3",
      "display_name": "Python 3"
    },
    "language_info": {
      "name": "python"
    }
  },
  "cells": [
    {
      "cell_type": "markdown",
      "source": [
        "Q1. What is Flask Framework? What are the advantages of Flask Framework?"
      ],
      "metadata": {
        "id": "0zLLU-2jGR8z"
      }
    },
    {
      "cell_type": "markdown",
      "source": [
        "\n",
        "Flask is a lightweight and flexible web framework for Python that is used to build web applications and APIs. It is classified as a micro-framework because it provides the essential components for web development, such as routing, templating, and handling HTTP requests, but it does not include built-in tools like database abstraction or authentication mechanisms, allowing developers to add libraries and components as needed. Flask is designed to be simple and easy to use, providing a minimalistic and modular approach to web development.\n",
        "\n",
        "The advantages of Flask include its simplicity and ease of use, making it ideal for beginners and small projects. Flask provides flexibility, allowing developers to structure their application as they wish and integrate with other libraries or databases. It is lightweight, requiring minimal setup, and can be scaled up for more complex applications. Flask also has excellent documentation and a large, active community, making it easy to find support and resources. Additionally, Flask supports RESTful API development, making it a popular choice for building APIs."
      ],
      "metadata": {
        "id": "NPnWLyGJGZj4"
      }
    },
    {
      "cell_type": "markdown",
      "source": [
        "Q2. Create a simple Flask application to display ‘Hello World!!’. Attach the screenshot of the output in Jupyter Notebook."
      ],
      "metadata": {
        "id": "d-FoekREGcQ6"
      }
    },
    {
      "cell_type": "markdown",
      "source": [
        "from flask import Flask\n",
        "\n",
        "app = Flask(__name__)\n",
        "\n",
        "@app.route('/')\n",
        "def hello_world():\n",
        "    return 'Hello World!!'\n",
        "\n",
        "if __name__ == '__main__':\n",
        "    app.run(debug=True)\n"
      ],
      "metadata": {
        "id": "XaPUgtFOGuSy"
      }
    },
    {
      "cell_type": "markdown",
      "source": [
        "Q3. What is App routing in Flask? Why do we use app routes?"
      ],
      "metadata": {
        "id": "DY2n9SvSGweZ"
      }
    },
    {
      "cell_type": "markdown",
      "source": [
        "App routing in Flask refers to the mechanism that maps URLs (or endpoints) to specific functions (view functions) in the application. It is used to define which function should be executed when a specific URL is accessed. Routes are defined using the @app.route() decorator, followed by the URL pattern and the associated function that will handle the request for that URL."
      ],
      "metadata": {
        "id": "O_irRtRXG5q4"
      }
    },
    {
      "cell_type": "markdown",
      "source": [
        "Q4. Create a “/welcome” route to display the welcome message “Welcome to ABC Corporation” and a “/”\n",
        "route to show the following details:\n",
        "Company Name: ABC Corporation\n",
        "Location: India\n",
        "Contact Detail: 999-999-9999"
      ],
      "metadata": {
        "id": "LTcsgVY8G91j"
      }
    },
    {
      "cell_type": "markdown",
      "source": [
        "from flask import Flask\n",
        "\n",
        "app = Flask(__name__)\n",
        "\n",
        "@app.route('/welcome')\n",
        "def welcome():\n",
        "    return 'Welcome to ABC Corporation'\n",
        "\n",
        "@app.route('/')\n",
        "def home():\n",
        "    return '''\n",
        "        Company Name: ABC Corporation<br>\n",
        "        Location: India<br>\n",
        "        Contact Detail: 999-999-9999\n",
        "    '''\n",
        "if __name__ == '__main__':\n",
        "    app.run(debug=True)\n"
      ],
      "metadata": {
        "id": "SUoBRZnWHfjh"
      }
    },
    {
      "cell_type": "markdown",
      "source": [
        "Q5. What function is used in Flask for URL Building? Write a Python code to demonstrate the working of the url_for() function."
      ],
      "metadata": {
        "id": "ogpWUVPdHj1R"
      }
    },
    {
      "cell_type": "markdown",
      "source": [
        "In Flask, the function used for URL building is url_for(). This function generates a URL for a specific endpoint in your Flask application, based on the function name or route, making it useful for dynamic URL generation and redirection."
      ],
      "metadata": {
        "id": "Rh0PloQdHqJq"
      }
    },
    {
      "cell_type": "markdown",
      "source": [
        "from flask import Flask, url_for\n",
        "\n",
        "app = Flask(__name__)\n",
        "\n",
        "@app.route('/')\n",
        "def home():\n",
        "    return 'Welcome to the Home Page!'\n",
        "\n",
        "@app.route('/about')\n",
        "def about():\n",
        "    return 'This is the About Page.'\n",
        "\n",
        "@app.route('/url_for_example')\n",
        "def url_for_example():\n",
        "    # Using url_for to build the URL for the home and about pages\n",
        "    home_url = url_for('home')\n",
        "    about_url = url_for('about')\n",
        "    \n",
        "    return f'''\n",
        "        <p>Home Page URL: <a href=\"{home_url}\">{home_url}</a></p>\n",
        "        <p>About Page URL: <a href=\"{about_url}\">{about_url}</a></p>\n",
        "    '''\n",
        "\n",
        "if __name__ == '__main__':\n",
        "    app.run(debug=True)\n"
      ],
      "metadata": {
        "id": "Q5eTxCHIHsEy"
      }
    }
  ]
}
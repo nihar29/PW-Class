{
  "nbformat": 4,
  "nbformat_minor": 0,
  "metadata": {
    "colab": {
      "provenance": []
    },
    "kernelspec": {
      "name": "python3",
      "display_name": "Python 3"
    },
    "language_info": {
      "name": "python"
    }
  },
  "cells": [
    {
      "cell_type": "markdown",
      "source": [
        "Q1: What is the difference between a t-test and a z-test? Provide an example scenario where you would\n",
        "use each type of test.\n"
      ],
      "metadata": {
        "id": "y57e04y6Md34"
      }
    },
    {
      "cell_type": "markdown",
      "source": [
        "t-test is used when the population standard deviation is unknown and sample size is small (\n",
        "𝑛\n",
        "<\n",
        "30\n",
        "n<30).\n",
        "Example: Testing whether a new drug affects blood pressure based on a small sample.\n",
        "z-test is used when the population standard deviation is known and sample size is large (\n",
        "𝑛\n",
        "≥\n",
        "30\n",
        "n≥30).\n",
        "Example: Comparing the average height of students to a known population mean."
      ],
      "metadata": {
        "id": "RG6xZzS7NK1y"
      }
    },
    {
      "cell_type": "markdown",
      "source": [
        "Q2: Differentiate between one-tailed and two-tailed tests.\n"
      ],
      "metadata": {
        "id": "5APlFJKtMhW_"
      }
    },
    {
      "cell_type": "markdown",
      "source": [
        "One-tailed test: Tests if a parameter is greater or less than a given value.\n",
        "Two-tailed test: Tests if a parameter is significantly different in either direction."
      ],
      "metadata": {
        "id": "rIiSJ1uDNSFK"
      }
    },
    {
      "cell_type": "markdown",
      "source": [
        "Q3: Explain the concept of Type 1 and Type 2 errors in hypothesis testing. Provide an example scenario for\n",
        "each type of error.\n"
      ],
      "metadata": {
        "id": "sI58PmhuMkRW"
      }
    },
    {
      "cell_type": "markdown",
      "source": [
        "Type 1 Error (False Positive): Rejecting\n",
        "𝐻\n",
        "0\n",
        "H\n",
        "0\n",
        "​\n",
        "  when it's actually true.\n",
        "Example: A test falsely claims a drug works when it doesn’t.\n",
        "Type 2 Error (False Negative): Failing to reject\n",
        "𝐻\n",
        "0\n",
        "H\n",
        "0\n",
        "​\n",
        "  when it's false.\n",
        "Example: A test fails to detect a disease when the patient actually has it."
      ],
      "metadata": {
        "id": "yTmEnqJcNWGW"
      }
    },
    {
      "cell_type": "markdown",
      "source": [
        "Q4: Explain Bayes's theorem with an example.\n"
      ],
      "metadata": {
        "id": "mF1om4fmMnyn"
      }
    },
    {
      "cell_type": "markdown",
      "source": [
        "P(A∣B)=\n",
        "P(B)\n",
        "P(B∣A)P(A)\n",
        "​\n",
        "\n",
        "Example: If 1% of people have a disease, and a test has 90% sensitivity and 95% specificity, Bayes’ theorem helps calculate the probability that a person with a positive test actually has the disease."
      ],
      "metadata": {
        "id": "RODoWZHnNZPy"
      }
    },
    {
      "cell_type": "markdown",
      "source": [
        "Q5: What is a confidence interval? How to calculate the confidence interval, explain with an example.\n"
      ],
      "metadata": {
        "id": "XgOWxn3TMuin"
      }
    },
    {
      "cell_type": "markdown",
      "source": [
        "A range of values where a population parameter likely falls.\n",
        "Example: If the sample mean is 50, standard deviation is 5, and sample size is 30, the 95% CI is:\n",
        "\n",
        "50\n",
        "±\n",
        "1.96\n",
        "×\n",
        "5\n",
        "30\n",
        "50±1.96×\n",
        "30\n",
        "​\n",
        "\n",
        "5\n",
        "​\n"
      ],
      "metadata": {
        "id": "mVNJoxtYNbYq"
      }
    },
    {
      "cell_type": "markdown",
      "source": [
        "Q6. Use Bayes' Theorem to calculate the probability of an event occurring given prior knowledge of the\n",
        "event's probability and new evidence. Provide a sample problem and solution.\n"
      ],
      "metadata": {
        "id": "iRH2ezEtMxbf"
      }
    },
    {
      "cell_type": "markdown",
      "source": [
        "Problem: Given a rare disease (1% prevalence) and a test with 90% sensitivity and 95% specificity, find the probability of having the disease if the test is positive.\n",
        "Solution:\n",
        "\n",
        "𝑃\n",
        "(\n",
        "𝐷\n",
        "𝑖\n",
        "𝑠\n",
        "𝑒\n",
        "𝑎\n",
        "𝑠\n",
        "𝑒\n",
        "∣\n",
        "𝑃\n",
        "𝑜\n",
        "𝑠\n",
        "𝑖\n",
        "𝑡\n",
        "𝑖\n",
        "𝑣\n",
        "𝑒\n",
        ")\n",
        "=\n",
        "(\n",
        "0.90\n",
        "×\n",
        "0.01\n",
        ")\n",
        "(\n",
        "0.90\n",
        "×\n",
        "0.01\n",
        ")\n",
        "+\n",
        "(\n",
        "0.05\n",
        "×\n",
        "0.99\n",
        ")\n",
        "P(Disease∣Positive)=\n",
        "(0.90×0.01)+(0.05×0.99)\n",
        "(0.90×0.01)\n",
        "​\n"
      ],
      "metadata": {
        "id": "_oTAay-XNfrB"
      }
    },
    {
      "cell_type": "markdown",
      "source": [
        "Q7. Calculate the 95% confidence interval for a sample of data with a mean of 50 and a standard deviation\n",
        "of 5. Interpret the results.\n"
      ],
      "metadata": {
        "id": "5kdzP4VTM0Lw"
      }
    },
    {
      "cell_type": "markdown",
      "source": [
        "50±1.96×\n",
        "30\n",
        "​\n",
        "\n",
        "5\n",
        "​\n"
      ],
      "metadata": {
        "id": "VxXFkFRZNjfz"
      }
    },
    {
      "cell_type": "markdown",
      "source": [
        "Q8. What is the margin of error in a confidence interval? How does sample size affect the margin of error?\n",
        "Provide an example of a scenario where a larger sample size would result in a smaller margin of error.\n"
      ],
      "metadata": {
        "id": "njkvY7E-M2oY"
      }
    },
    {
      "cell_type": "markdown",
      "source": [
        "The range within which the population parameter is expected.\n",
        "\n",
        "Larger sample size → Smaller margin of error\n",
        "Example: A political survey of 1,000 vs. 10,000 people will have a smaller error in the larger sample."
      ],
      "metadata": {
        "id": "_18Zu-ZfNl3p"
      }
    },
    {
      "cell_type": "markdown",
      "source": [
        "Q9. Calculate the z-score for a data point with a value of 75, a population mean of 70, and a population\n",
        "standard deviation of 5. Interpret the results.\n"
      ],
      "metadata": {
        "id": "FB3hFDGBM5fY"
      }
    },
    {
      "cell_type": "markdown",
      "source": [
        "z=\n",
        "5\n",
        "75−70\n",
        "​\n",
        " =1.0\n",
        "Interpretation: A value of 75 is 1 standard deviation above the mean."
      ],
      "metadata": {
        "id": "48CSntLuNsFy"
      }
    },
    {
      "cell_type": "markdown",
      "source": [
        "Q10. In a study of the effectiveness of a new weight loss drug, a sample of 50 participants lost an average\n",
        "of 6 pounds with a standard deviation of 2.5 pounds. Conduct a hypothesis test to determine if the drug is\n",
        "significantly effective at a 95% confidence level using a t-test.\n"
      ],
      "metadata": {
        "id": "5DfF-251M7wZ"
      }
    },
    {
      "cell_type": "markdown",
      "source": [
        "t=\n",
        "2.5/\n",
        "50\n",
        "​\n",
        "\n",
        "6−0\n",
        "​\n",
        "\n",
        "Compare with critical\n",
        "𝑡\n",
        "t-value for\n",
        "𝛼\n",
        "=\n",
        "0.05\n",
        "α=0.05."
      ],
      "metadata": {
        "id": "25sU3E1kNuiS"
      }
    },
    {
      "cell_type": "markdown",
      "source": [
        "Q11. In a survey of 500 people, 65% reported being satisfied with their current job. Calculate the 95%\n",
        "confidence interval for the true proportion of people who are satisfied with their job.\n"
      ],
      "metadata": {
        "id": "gKTidIB6M9Nv"
      }
    },
    {
      "cell_type": "markdown",
      "source": [
        "CI=0.65±1.96×\n",
        "500\n",
        "0.65(1−0.65)\n",
        "​\n",
        "\n",
        "​\n"
      ],
      "metadata": {
        "id": "YaAu4awhNxSa"
      }
    },
    {
      "cell_type": "markdown",
      "source": [
        "Q12. A researcher is testing the effectiveness of two different teaching methods on student performance.\n",
        "Sample A has a mean score of 85 with a standard deviation of 6, while sample B has a mean score of 82\n",
        "with a standard deviation of 5. Conduct a hypothesis test to determine if the two teaching methods have a\n",
        "significant difference in student performance using a t-test with a significance level of 0.01.\n"
      ],
      "metadata": {
        "id": "nIwQ_I9lM-sW"
      }
    },
    {
      "cell_type": "markdown",
      "source": [
        "t=\n",
        "30\n",
        "6\n",
        "2\n",
        "\n",
        "​\n",
        " +\n",
        "40\n",
        "5\n",
        "2\n",
        "\n",
        "​\n",
        "\n",
        "​\n",
        "\n",
        "85−82\n",
        "​\n",
        "\n",
        "Compare with critical\n",
        "𝑡\n",
        "t-value at\n",
        "𝛼\n",
        "=\n",
        "0.01\n",
        "α=0.01."
      ],
      "metadata": {
        "id": "7j9No_kaNzrU"
      }
    },
    {
      "cell_type": "markdown",
      "source": [
        "Q13. A population has a mean of 60 and a standard deviation of 8. A sample of 50 observations has a mean\n",
        "of 65. Calculate the 90% confidence interval for the true population mean.\n"
      ],
      "metadata": {
        "id": "_eQkq-saNAU_"
      }
    },
    {
      "cell_type": "markdown",
      "source": [
        "65±1.645×\n",
        "50\n",
        "​\n",
        "\n",
        "8\n",
        "​\n",
        "\n"
      ],
      "metadata": {
        "id": "DUb1fs_dN2cR"
      }
    },
    {
      "cell_type": "markdown",
      "source": [
        "Q14. In a study of the effects of caffeine on reaction time, a sample of 30 participants had an average\n",
        "reaction time of 0.25 seconds with a standard deviation of 0.05 seconds. Conduct a hypothesis test to\n",
        "determine if the caffeine has a significant effect on reaction time at a 90% confidence level using a t-test."
      ],
      "metadata": {
        "id": "9znkIdvaNB7f"
      }
    },
    {
      "cell_type": "markdown",
      "source": [
        "t=\n",
        "0.05/\n",
        "30\n",
        "​\n",
        "\n",
        "0.25−0\n",
        "​\n",
        "\n",
        "Compare with critical\n",
        "𝑡\n",
        "t-value at\n",
        "𝛼\n",
        "=\n",
        "0.10\n",
        "α=0.10."
      ],
      "metadata": {
        "id": "Hgejl1B0N4ph"
      }
    }
  ]
}
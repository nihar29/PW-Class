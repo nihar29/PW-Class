{
  "nbformat": 4,
  "nbformat_minor": 0,
  "metadata": {
    "colab": {
      "provenance": []
    },
    "kernelspec": {
      "name": "python3",
      "display_name": "Python 3"
    },
    "language_info": {
      "name": "python"
    }
  },
  "cells": [
    {
      "cell_type": "markdown",
      "source": [
        "Q1. What is multiprocessing in python? Why is it useful?"
      ],
      "metadata": {
        "id": "982Zwcp9sDfb"
      }
    },
    {
      "cell_type": "markdown",
      "source": [
        "Multiprocessing in Python is a technique that allows multiple processes to run in parallel, utilizing multiple CPU cores. Unlike multithreading, multiprocessing bypasses Python’s Global Interpreter Lock (GIL), making it ideal for CPU-bound tasks like heavy computations and data processing.\n",
        "It improves performance by executing tasks in true parallelism, efficiently utilizes multi-core processors, and prevents issues like thread interference and race conditions."
      ],
      "metadata": {
        "id": "12IgAPazsEPc"
      }
    },
    {
      "cell_type": "markdown",
      "source": [
        "Q2. What are the differences between multiprocessing and multithreading?"
      ],
      "metadata": {
        "id": "JQZ0GEChsK9M"
      }
    },
    {
      "cell_type": "markdown",
      "source": [
        "Multiprocessing creates multiple processes, each with its own memory space, allowing true parallel execution and making it ideal for CPU-bound tasks. It fully utilizes multi-core processors but has higher memory usage and process creation overhead.\n",
        "\n",
        "Multithreading runs multiple threads within a single process, sharing memory. Due to Python’s Global Interpreter Lock (GIL), it does not achieve true parallelism but is useful for I/O-bound tasks. It is lightweight but prone to race conditions and deadlocks."
      ],
      "metadata": {
        "id": "mpnqW6xwsOMc"
      }
    },
    {
      "cell_type": "markdown",
      "source": [
        "Q3. Write a python code to create a process using the multiprocessing module."
      ],
      "metadata": {
        "id": "gZXePjYTsSDk"
      }
    },
    {
      "cell_type": "code",
      "source": [
        "import multiprocessing\n",
        "\n",
        "def print_message():\n",
        "    print(\"Hello from Nihar\")\n",
        "\n",
        "if __name__ == \"__main__\":\n",
        "    process = multiprocessing.Process(target=print_message)\n",
        "    process.start()\n",
        "    process.join()\n",
        "    print(\"Thank you\")\n"
      ],
      "metadata": {
        "colab": {
          "base_uri": "https://localhost:8080/"
        },
        "id": "IYZD1MNMsY17",
        "outputId": "435cb92d-f005-4240-e3ee-d3a043dccb30"
      },
      "execution_count": 2,
      "outputs": [
        {
          "output_type": "stream",
          "name": "stdout",
          "text": [
            "Hello from Nihar\n",
            "Thank you\n"
          ]
        }
      ]
    },
    {
      "cell_type": "markdown",
      "source": [
        "Q4. What is a multiprocessing pool in python? Why is it used?"
      ],
      "metadata": {
        "id": "dwjIDjpdsnIj"
      }
    },
    {
      "cell_type": "markdown",
      "source": [
        "A multiprocessing pool in Python is a collection of worker processes that can be used to parallelize the execution of a function across multiple input values. It is created using the Pool class from the multiprocessing module. The pool allows you to distribute the workload to a set of worker processes, enabling efficient parallel processing.\n",
        "\n",
        "It is useful for efficiently managing a pool of processes, especially when dealing with a large number of tasks that can be parallelized. It avoids the overhead of creating and destroying processes manually and makes parallel execution more manageable."
      ],
      "metadata": {
        "id": "tKB1g0KCsn98"
      }
    },
    {
      "cell_type": "markdown",
      "source": [
        "Q5. How can we create a pool of worker processes in python using the multiprocessing module?"
      ],
      "metadata": {
        "id": "9nbW_tucssHl"
      }
    },
    {
      "cell_type": "code",
      "source": [
        "import multiprocessing\n",
        "\n",
        "def square(x):\n",
        "    return x * x\n",
        "\n",
        "if __name__ == \"__main__\":\n",
        "\n",
        "    with multiprocessing.Pool(4) as pool:\n",
        "        # Apply the function 'square' to a range of numbers\n",
        "        results = pool.map(square, [1, 2, 3, 4, 5])\n",
        "\n",
        "    print(results)\n"
      ],
      "metadata": {
        "colab": {
          "base_uri": "https://localhost:8080/"
        },
        "id": "FrCXc6kfsxjL",
        "outputId": "37cdb801-4baf-41ba-adc8-54af826f2c62"
      },
      "execution_count": 3,
      "outputs": [
        {
          "output_type": "stream",
          "name": "stdout",
          "text": [
            "[1, 4, 9, 16, 25]\n"
          ]
        }
      ]
    },
    {
      "cell_type": "markdown",
      "source": [
        "Q6. Write a python program to create 4 processes, each process should print a different number using the\n",
        "multiprocessing module in python."
      ],
      "metadata": {
        "id": "mlwQzvuWs7eC"
      }
    },
    {
      "cell_type": "code",
      "source": [
        "import multiprocessing\n",
        "\n",
        "def print_number(number):\n",
        "    print(f\"Number from process: {number}\")\n",
        "\n",
        "if __name__ == \"__main__\":\n",
        "\n",
        "    processes = []\n",
        "    for i in range(1, 5):\n",
        "        process = multiprocessing.Process(target=print_number, args=(i,))\n",
        "        processes.append(process)\n",
        "        process.start()\n",
        "\n",
        "\n",
        "    for process in processes:\n",
        "        process.join()\n",
        "\n",
        "    print(\"All processes have finished execution.\")\n"
      ],
      "metadata": {
        "colab": {
          "base_uri": "https://localhost:8080/"
        },
        "id": "WxsidAbss8BK",
        "outputId": "ecb77c25-ee21-4d6c-c603-8af8ac31b1bc"
      },
      "execution_count": 4,
      "outputs": [
        {
          "output_type": "stream",
          "name": "stdout",
          "text": [
            "Number from process: 1\n",
            "Number from process: 2Number from process: 3\n",
            "Number from process: 4\n",
            "\n",
            "All processes have finished execution.\n"
          ]
        }
      ]
    }
  ]
}
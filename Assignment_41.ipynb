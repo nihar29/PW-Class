{
  "nbformat": 4,
  "nbformat_minor": 0,
  "metadata": {
    "colab": {
      "provenance": []
    },
    "kernelspec": {
      "name": "python3",
      "display_name": "Python 3"
    },
    "language_info": {
      "name": "python"
    }
  },
  "cells": [
    {
      "cell_type": "markdown",
      "source": [
        "Q1. What is the difference between Ordinal Encoding and Label Encoding? Provide an example of when you\n",
        "might choose one over the other.\n",
        "Q2. Explain how Target Guided Ordinal Encoding works and provide an example of when you might use it in\n",
        "a machine learning project.\n",
        "Q3. Define covariance and explain why it is important in statistical analysis. How is covariance calculated?\n",
        "Q4. For a dataset with the following categorical variables: Color (red, green, blue), Size (small, medium,\n",
        "large), and Material (wood, metal, plastic), perform label encoding using Python's scikit-learn library.\n",
        "Show your code and explain the output.\n",
        "Q5. Calculate the covariance matrix for the following variables in a dataset: Age, Income, and Education\n",
        "level. Interpret the results.\n",
        "Q6. You are working on a machine learning project with a dataset containing several categorical\n",
        "variables, including \"Gender\" (Male/Female), \"Education Level\" (High School/Bachelor's/Master's/PhD),\n",
        "and \"Employment Status\" (Unemployed/Part-Time/Full-Time). Which encoding method would you use for\n",
        "each variable, and why?\n",
        "Q7. You are analyzing a dataset with two continuous variables, \"Temperature\" and \"Humidity\", and two\n",
        "categorical variables, \"Weather Condition\" (Sunny/Cloudy/Rainy) and \"Wind Direction\" (North/South/\n",
        "East/West). Calculate the covariance between each pair of variables and interpret the results."
      ],
      "metadata": {
        "id": "q3aqusnq1oCa"
      }
    },
    {
      "cell_type": "markdown",
      "source": [
        "**Q1:**  \n",
        "Ordinal Encoding assigns a unique integer to each category while maintaining order, whereas Label Encoding assigns arbitrary integers without considering order. For example, if encoding **education levels** (\"High School,\" \"Bachelor’s,\" \"Master’s,\" \"PhD\"), **Ordinal Encoding (0, 1, 2, 3)** is preferred because education follows a natural ranking. Label Encoding is better for unordered categories like \"Car Brand\" (Toyota, Ford, BMW).  \n",
        "\n",
        "**Q2:**  \n",
        "Target Guided Ordinal Encoding assigns ordinal values based on the mean or median of the target variable. For example, in predicting **house prices**, if \"Neighborhood\" is categorical, it can be encoded based on the average house price in each neighborhood. This helps capture the relationship between categories and the target variable.  \n",
        "\n",
        "**Q3:**  \n",
        "Covariance measures the direction of the linear relationship between two variables. A **positive covariance** indicates both variables increase together, while a **negative covariance** means one increases while the other decreases. It is calculated as:  \n",
        "\\[\n",
        "\\text{Cov}(X, Y) = \\frac{\\sum (X_i - \\bar{X})(Y_i - \\bar{Y})}{n-1}\n",
        "\\]  \n",
        "Covariance is useful in feature selection but does not measure correlation strength.  \n",
        "\n",
        "**Q4:**  \n"
      ],
      "metadata": {
        "id": "qE8HEnI31vbg"
      }
    },
    {
      "cell_type": "code",
      "source": [
        "\n",
        "from sklearn.preprocessing import LabelEncoder\n",
        "import pandas as pd\n",
        "\n",
        "data = pd.DataFrame({'Color': ['Red', 'Green', 'Blue'],\n",
        "                     'Size': ['Small', 'Medium', 'Large'],\n",
        "                     'Material': ['Wood', 'Metal', 'Plastic']})\n",
        "\n",
        "encoder = LabelEncoder()\n",
        "data_encoded = data.apply(encoder.fit_transform)\n",
        "print(data_encoded)\n"
      ],
      "metadata": {
        "colab": {
          "base_uri": "https://localhost:8080/"
        },
        "id": "k4_WXFVV17-E",
        "outputId": "00b25f55-9557-453f-c3dc-6924d341fb5f"
      },
      "execution_count": 1,
      "outputs": [
        {
          "output_type": "stream",
          "name": "stdout",
          "text": [
            "   Color  Size  Material\n",
            "0      2     2         2\n",
            "1      1     1         0\n",
            "2      0     0         1\n"
          ]
        }
      ]
    },
    {
      "cell_type": "markdown",
      "source": [
        "\n",
        "\n",
        "**Q5:**  \n",
        "To calculate the **covariance matrix** for **Age, Income, and Education Level**, you use:  \n",
        "\\[\n",
        "\\text{Covariance Matrix} = \\frac{1}{n-1} (X - \\bar{X})^T (Y - \\bar{Y})\n",
        "\\]  \n",
        "A **positive value** means variables increase together (e.g., Age & Income), while a **negative value** means an inverse relationship (e.g., Education & Age).  \n",
        "\n",
        "**Q6:**  \n",
        "- **Gender (Binary Category):** Use **binary encoding** (0 for Male, 1 for Female).  \n",
        "- **Education Level (Ordered Category):** Use **Ordinal Encoding** (\"High School\" = 0, \"Bachelor’s\" = 1, etc.).  \n",
        "- **Employment Status (Nominal Category):** Use **One-Hot Encoding** (\"Unemployed\" → [1,0,0], \"Part-Time\" → [0,1,0], etc.).  \n",
        "\n",
        "**Q7:**  \n",
        "To compute covariance between **Temperature & Humidity** (continuous variables), use:  \n",
        "\\[\n",
        "\\text{Cov}(Temp, Humidity) = \\frac{\\sum (Temp_i - \\bar{Temp})(Humidity_i - \\bar{Humidity})}{n-1}\n",
        "\\]  \n",
        "For categorical variables **Weather Condition & Wind Direction**, use **label encoding** before computing covariance. If covariance between **Temperature & Humidity** is **positive**, higher temperatures correlate with higher humidity. If **negative**, one increases while the other decreases."
      ],
      "metadata": {
        "id": "IaSSA-_D2Ipw"
      }
    }
  ]
}
{
  "nbformat": 4,
  "nbformat_minor": 0,
  "metadata": {
    "colab": {
      "provenance": []
    },
    "kernelspec": {
      "name": "python3",
      "display_name": "Python 3"
    },
    "language_info": {
      "name": "python"
    }
  },
  "cells": [
    {
      "cell_type": "markdown",
      "source": [
        "Q1: Explain the following with an example:F\n",
        "C) Artificial Intelligence\n",
        "<) Machine Learning,\n",
        "I) Deep Learning\n"
      ],
      "metadata": {
        "id": "oOgmAd-1V87F"
      }
    },
    {
      "cell_type": "markdown",
      "source": [
        "Artificial Intelligence (AI) refers to the simulation of human intelligence in machines that can perform tasks like reasoning, learning, and decision-making. Example: Chatbots like ChatGPT.\n",
        "Machine Learning (ML) is a subset of AI that enables computers to learn patterns from data and improve performance over time without explicit programming. Example: Email spam filtering.\n",
        "Deep Learning (DL) is a subset of ML that uses neural networks with multiple layers to analyze complex patterns. Example: Image recognition in self-driving cars."
      ],
      "metadata": {
        "id": "6oOGBxIqWLnM"
      }
    },
    {
      "cell_type": "markdown",
      "source": [
        "Q2: What is supervised learning? List some examples of supervised learning.\n"
      ],
      "metadata": {
        "id": "HthXuh1zWBkv"
      }
    },
    {
      "cell_type": "markdown",
      "source": [
        "Supervised learning is a type of ML where models are trained on labeled data, meaning both input and output are provided. The model learns from past data to predict outcomes. Examples include linear regression for price prediction, support vector machines for classification, and neural networks for speech recognition."
      ],
      "metadata": {
        "id": "95A6gsaKWOCi"
      }
    },
    {
      "cell_type": "markdown",
      "source": [
        "Q3: What is unsupervised learning? List some examples of unsupervised learning.\n"
      ],
      "metadata": {
        "id": "NBA9feF1WCyw"
      }
    },
    {
      "cell_type": "markdown",
      "source": [
        "Unsupervised learning is a type of ML where the model is trained on unlabeled data, identifying hidden patterns without predefined outputs. It is often used for clustering and dimensionality reduction. Examples include K-Means clustering for customer segmentation, Principal Component Analysis (PCA) for data compression, and Autoencoders for anomaly detection."
      ],
      "metadata": {
        "id": "c6jt85XkWRQx"
      }
    },
    {
      "cell_type": "markdown",
      "source": [
        "Q4: What is the difference between AI, ML, DL, and DS?\n"
      ],
      "metadata": {
        "id": "HTBMh1nDWD9G"
      }
    },
    {
      "cell_type": "markdown",
      "source": [
        "AI is the broad concept of machines mimicking human intelligence. ML is a subset of AI that focuses on learning from data. DL is a subset of ML that uses deep neural networks for complex tasks. Data Science (DS) is a broader field that involves AI/ML techniques, statistics, and domain knowledge to extract insights from data."
      ],
      "metadata": {
        "id": "61MBV0s0WTMf"
      }
    },
    {
      "cell_type": "markdown",
      "source": [
        "Q5: What are the main differences between supervised, unsupervised, and semi-supervised learning?\n"
      ],
      "metadata": {
        "id": "fTliyQKQWF8O"
      }
    },
    {
      "cell_type": "markdown",
      "source": [
        "Supervised learning uses labeled data and provides accurate predictions. Unsupervised learning finds hidden patterns in unlabeled data. Semi-supervised learning is a mix, using a small amount of labeled data with a large amount of unlabeled data, useful in cases where labeling is expensive."
      ],
      "metadata": {
        "id": "ZJFv_UpuWWpJ"
      }
    },
    {
      "cell_type": "markdown",
      "source": [
        "Q6: What is train, test and validation split? Explain the importance of each term.\n"
      ],
      "metadata": {
        "id": "D9XzW2ycWHja"
      }
    },
    {
      "cell_type": "markdown",
      "source": [
        "The dataset is split into training, validation, and test sets. The training set is used to train the model, the validation set helps tune hyperparameters and prevent overfitting, and the test set evaluates the final model’s performance on unseen data. This split ensures reliable and generalizable models."
      ],
      "metadata": {
        "id": "VuaMidLrWYs6"
      }
    },
    {
      "cell_type": "markdown",
      "source": [
        "Q7: How can unsupervised learning be used in anomaly detection?\n"
      ],
      "metadata": {
        "id": "K6NN2n65WIhV"
      }
    },
    {
      "cell_type": "markdown",
      "source": [
        "Unsupervised learning is used in anomaly detection by identifying patterns in data and flagging outliers that deviate significantly. Algorithms like K-Means clustering, DBSCAN, and Autoencoders detect fraud, cybersecurity threats, and equipment failures."
      ],
      "metadata": {
        "id": "CfnDZlkaWacd"
      }
    },
    {
      "cell_type": "markdown",
      "source": [
        "Q8: List down some commonly used supervised learning algorithms and unsupervised learning\n",
        "algorithms."
      ],
      "metadata": {
        "id": "hhMV7pn-WJga"
      }
    },
    {
      "cell_type": "markdown",
      "source": [
        "Common supervised learning algorithms include Linear Regression, Logistic Regression, Decision Trees, Random Forest, Support Vector Machines (SVM), and Neural Networks. Common unsupervised learning algorithms include K-Means clustering, DBSCAN, Hierarchical Clustering, PCA, and Autoencoders."
      ],
      "metadata": {
        "id": "fsFZc8mYWcOE"
      }
    }
  ]
}
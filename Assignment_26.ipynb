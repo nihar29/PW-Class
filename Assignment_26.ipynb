{
  "nbformat": 4,
  "nbformat_minor": 0,
  "metadata": {
    "colab": {
      "provenance": []
    },
    "kernelspec": {
      "name": "python3",
      "display_name": "Python 3"
    },
    "language_info": {
      "name": "python"
    }
  },
  "cells": [
    {
      "cell_type": "markdown",
      "source": [
        "Q1. How can you create a Bokeh plot using Python code?\n"
      ],
      "metadata": {
        "id": "0H7wh5o1c-T7"
      }
    },
    {
      "cell_type": "code",
      "source": [
        "from bokeh.plotting import figure, show\n",
        "from bokeh.io import output_file\n",
        "\n",
        "# Output to an HTML file\n",
        "output_file(\"bokeh_plot.html\")\n",
        "\n",
        "# Create figure\n",
        "p = figure(title=\"Simple Bokeh Line Plot\", x_axis_label=\"X-Axis\", y_axis_label=\"Y-Axis\")\n",
        "\n",
        "# Add line glyph\n",
        "p.line([1, 2, 3, 4, 5], [6, 7, 2, 4, 5], line_width=2, color=\"blue\")\n",
        "\n",
        "# Show plot\n",
        "show(p)\n"
      ],
      "metadata": {
        "id": "JY41A4y4dK9y"
      },
      "execution_count": 1,
      "outputs": []
    },
    {
      "cell_type": "markdown",
      "source": [
        "Q2. What are glyphs in Bokeh, and how can you add them to a Bokeh plot? Explain with an example.\n"
      ],
      "metadata": {
        "id": "FFBdWlpAdDGS"
      }
    },
    {
      "cell_type": "code",
      "source": [
        "from bokeh.plotting import figure, show\n",
        "\n",
        "# Create figure\n",
        "p = figure(title=\"Bokeh Glyph Example\", x_axis_label=\"X\", y_axis_label=\"Y\")\n",
        "\n",
        "# Add glyphs\n",
        "p.circle([1, 2, 3, 4], [6, 7, 2, 4], size=10, color=\"red\", legend_label=\"Circles\")\n",
        "p.square([1, 2, 3, 4], [5, 3, 6, 2], size=10, color=\"green\", legend_label=\"Squares\")\n",
        "\n",
        "# Show plot\n",
        "show(p)\n"
      ],
      "metadata": {
        "colab": {
          "base_uri": "https://localhost:8080/"
        },
        "id": "0a0F3gNYdWcb",
        "outputId": "f96d6bfe-cc54-4452-baa2-0c79aabd57ef"
      },
      "execution_count": 2,
      "outputs": [
        {
          "output_type": "stream",
          "name": "stderr",
          "text": [
            "BokehDeprecationWarning: 'circle() method with size value' was deprecated in Bokeh 3.4.0 and will be removed, use 'scatter(size=...) instead' instead.\n",
            "BokehDeprecationWarning: 'square() method' was deprecated in Bokeh 3.4.0 and will be removed, use \"scatter(marker='square', ...) instead\" instead.\n"
          ]
        }
      ]
    },
    {
      "cell_type": "markdown",
      "source": [
        "Q3. How can you customize the appearance of a Bokeh plot, including the axes, title, and legend?\n"
      ],
      "metadata": {
        "id": "CdxYcVC0dETh"
      }
    },
    {
      "cell_type": "code",
      "source": [
        "from bokeh.plotting import figure, show\n",
        "\n",
        "# Create figure\n",
        "p = figure(title=\"Customized Bokeh Plot\", x_axis_label=\"X\", y_axis_label=\"Y\")\n",
        "\n",
        "# Add a line glyph\n",
        "p.line([1, 2, 3, 4, 5], [6, 7, 2, 4, 5], line_width=2, color=\"blue\", legend_label=\"Line\")\n",
        "\n",
        "# Customize appearance\n",
        "p.title.text_font_size = \"16pt\"\n",
        "p.xaxis.axis_label_text_color = \"blue\"\n",
        "p.yaxis.axis_label_text_color = \"red\"\n",
        "p.legend.title = \"Legend\"\n",
        "p.legend.label_text_font_size = \"12pt\"\n",
        "p.legend.location = \"top_left\"\n",
        "\n",
        "# Show plot\n",
        "show(p)\n"
      ],
      "metadata": {
        "id": "l1waPObXdZIj"
      },
      "execution_count": 3,
      "outputs": []
    },
    {
      "cell_type": "markdown",
      "source": [
        "Q4. What is a Bokeh server, and how can you use it to create interactive plots that can be updated in\n",
        "real time?\n"
      ],
      "metadata": {
        "id": "rry5j9GSdFij"
      }
    },
    {
      "cell_type": "code",
      "source": [
        "from bokeh.plotting import figure, curdoc\n",
        "from bokeh.models import ColumnDataSource, Slider\n",
        "from bokeh.layouts import column\n",
        "import numpy as np\n",
        "\n",
        "# Define data source\n",
        "x = np.linspace(0, 10, 100)\n",
        "y = np.sin(x)\n",
        "source = ColumnDataSource(data={\"x\": x, \"y\": y})\n",
        "\n",
        "# Create figure\n",
        "p = figure(title=\"Interactive Sine Wave\", x_axis_label=\"X\", y_axis_label=\"Y\")\n",
        "p.line(\"x\", \"y\", source=source, line_width=2)\n",
        "\n",
        "# Define slider callback\n",
        "def update_data(attr, old, new):\n",
        "    source.data = {\"x\": x, \"y\": np.sin(x * slider.value)}\n",
        "\n",
        "# Create slider\n",
        "slider = Slider(start=0.1, end=5, value=1, step=0.1, title=\"Frequency\")\n",
        "slider.on_change(\"value\", update_data)\n",
        "\n",
        "# Layout and add to document\n",
        "layout = column(slider, p)\n",
        "curdoc().add_root(layout)\n"
      ],
      "metadata": {
        "id": "FQv7cncwdcHy"
      },
      "execution_count": 4,
      "outputs": []
    },
    {
      "cell_type": "markdown",
      "source": [
        "Q5. How can you embed a Bokeh plot into a web page or dashboard using Flask or Django?"
      ],
      "metadata": {
        "id": "f3nE-S2ldGlK"
      }
    },
    {
      "cell_type": "markdown",
      "source": [
        "pip install flask bokeh\n",
        "from flask import Flask, render_template\n",
        "from bokeh.embed import components\n",
        "from bokeh.plotting import figure\n",
        "\n",
        "app = Flask(__name__)\n",
        "\n",
        "@app.route(\"/\")\n",
        "def index():\n",
        "    p = figure(title=\"Bokeh Plot in Flask\", x_axis_label=\"X\", y_axis_label=\"Y\")\n",
        "    p.line([1, 2, 3, 4, 5], [6, 7, 2, 4, 5], line_width=2)\n",
        "    script, div = components(p)\n",
        "    return render_template(\"index.html\", script=script, div=div)\n",
        "\n",
        "if __name__ == \"__main__\":\n",
        "    app.run(debug=True)\n",
        "<html>\n",
        "<head>\n",
        "    <script src=\"https://cdn.bokeh.org/bokeh/release/bokeh-2.4.3.min.js\"></script>\n",
        "</head>\n",
        "<body>\n",
        "    {{ script | safe }}\n",
        "    {{ div | safe }}\n",
        "</body>\n",
        "</html>\n",
        "python app.py\n"
      ],
      "metadata": {
        "id": "HH8f1-K-dhsy"
      }
    }
  ]
}
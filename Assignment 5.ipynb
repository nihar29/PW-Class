{
 "cells": [
  {
   "cell_type": "code",
   "execution_count": 1,
   "id": "89f6300d-ba80-4943-8a60-a4fa8911b083",
   "metadata": {},
   "outputs": [],
   "source": [
    "#Question 1"
   ]
  },
  {
   "cell_type": "code",
   "execution_count": 2,
   "id": "517b116f-ad8d-4bc0-8ddc-2ee2594d7fb5",
   "metadata": {},
   "outputs": [],
   "source": [
    "class vehicle :\n",
    "    \n",
    "    def __init__(self, name_of_vehicle, max_speed, average_of_vehicle) :\n",
    "        self.name_of_vehicle = name_of_vehicle\n",
    "        self.max_speed = max_speed\n",
    "        self.average_of_vehicle = average_of_vehicle"
   ]
  },
  {
   "cell_type": "code",
   "execution_count": 3,
   "id": "f0375426-5be6-4036-a1e1-81d02280ea95",
   "metadata": {},
   "outputs": [],
   "source": [
    "#Qustion 2"
   ]
  },
  {
   "cell_type": "code",
   "execution_count": 17,
   "id": "5a91c924-b43c-432d-b2ee-1f52acd958f2",
   "metadata": {},
   "outputs": [],
   "source": [
    "class car(vehicle) :\n",
    "    \n",
    "    def seating_capacity(self, capacity) :\n",
    "        self.capacity = capacity\n",
    "        return self.name_of_vehicle, self.capacity"
   ]
  },
  {
   "cell_type": "code",
   "execution_count": 18,
   "id": "97a9177f-c259-4790-aa09-e3e21939cb3e",
   "metadata": {},
   "outputs": [],
   "source": [
    "toyota = car(\"Toyota\", 20, 2)"
   ]
  },
  {
   "cell_type": "code",
   "execution_count": 19,
   "id": "a0ba49fe-af9e-4405-9874-cfc8a813fff7",
   "metadata": {},
   "outputs": [
    {
     "data": {
      "text/plain": [
       "('Toyota', 4)"
      ]
     },
     "execution_count": 19,
     "metadata": {},
     "output_type": "execute_result"
    }
   ],
   "source": [
    "toyota.seating_capacity(4)"
   ]
  },
  {
   "cell_type": "code",
   "execution_count": 20,
   "id": "125b6b07-0300-495a-b3a4-c668fc510ec6",
   "metadata": {},
   "outputs": [],
   "source": [
    "#Question 3"
   ]
  },
  {
   "cell_type": "markdown",
   "id": "e6d7eaf4-63f3-4cd0-841f-239b880451eb",
   "metadata": {},
   "source": [
    "Multiple Inheritance is a type of Inheritane where one daughter class Inherit properties of two or more different parent class"
   ]
  },
  {
   "cell_type": "code",
   "execution_count": 25,
   "id": "d12cef76-aa10-40d9-bc46-d9904c3e77a8",
   "metadata": {},
   "outputs": [],
   "source": [
    "class father :\n",
    "    \n",
    "    def protective(self) :\n",
    "        return \"Father's Property\""
   ]
  },
  {
   "cell_type": "code",
   "execution_count": 26,
   "id": "269ed2ed-03a5-454e-a568-86682dd857d7",
   "metadata": {},
   "outputs": [],
   "source": [
    "class mother :\n",
    "    \n",
    "    def caring(self) :\n",
    "        return \"Mother's Property\""
   ]
  },
  {
   "cell_type": "code",
   "execution_count": 27,
   "id": "45a23ee5-431d-494d-a770-4e6497e4dec5",
   "metadata": {},
   "outputs": [],
   "source": [
    "class daughter(father, mother) :\n",
    "    pass"
   ]
  },
  {
   "cell_type": "code",
   "execution_count": 28,
   "id": "74d99333-a183-496c-9fcf-32b2cb4e9d24",
   "metadata": {},
   "outputs": [],
   "source": [
    "mina = daughter()"
   ]
  },
  {
   "cell_type": "code",
   "execution_count": 30,
   "id": "1b9075e7-0811-4928-b0f1-0c1d68de87ac",
   "metadata": {},
   "outputs": [
    {
     "data": {
      "text/plain": [
       "\"Mother's Property\""
      ]
     },
     "execution_count": 30,
     "metadata": {},
     "output_type": "execute_result"
    }
   ],
   "source": [
    "mina.caring()"
   ]
  },
  {
   "cell_type": "code",
   "execution_count": 31,
   "id": "933719d6-ea9e-4cc6-8f9c-cd8eb568d7d8",
   "metadata": {},
   "outputs": [
    {
     "data": {
      "text/plain": [
       "\"Father's Property\""
      ]
     },
     "execution_count": 31,
     "metadata": {},
     "output_type": "execute_result"
    }
   ],
   "source": [
    "mina.protective()"
   ]
  },
  {
   "cell_type": "code",
   "execution_count": 32,
   "id": "449d2c97-e9c5-4d13-955d-7e6329cc8b26",
   "metadata": {},
   "outputs": [],
   "source": [
    "#Qustion 4"
   ]
  },
  {
   "cell_type": "markdown",
   "id": "a2c81aff-7de0-4d26-ad49-9be19e94de0d",
   "metadata": {},
   "source": [
    "Getter and Setter give user the power to get the data or reset a data but without make disturbane to main code."
   ]
  },
  {
   "cell_type": "code",
   "execution_count": 38,
   "id": "8f7863cd-4c45-4fb3-93d8-bee295b52d4a",
   "metadata": {},
   "outputs": [],
   "source": [
    "class student :\n",
    "    \n",
    "    def __init__(self, name, age) :\n",
    "        \n",
    "        self.name = name\n",
    "        self.__age = age\n",
    "        \n",
    "    def set_age(self, age) :\n",
    "        self.__age = age \n",
    "        \n",
    "    def get_age(self) :\n",
    "        return self.__age"
   ]
  },
  {
   "cell_type": "code",
   "execution_count": 39,
   "id": "82395b66-c0f2-4096-9613-ff2d5fd2cec8",
   "metadata": {},
   "outputs": [],
   "source": [
    "rahul = student(\"Rahul\", 25)"
   ]
  },
  {
   "cell_type": "code",
   "execution_count": 40,
   "id": "cacee292-9784-4622-aecb-bee3bcaaaa12",
   "metadata": {},
   "outputs": [
    {
     "data": {
      "text/plain": [
       "25"
      ]
     },
     "execution_count": 40,
     "metadata": {},
     "output_type": "execute_result"
    }
   ],
   "source": [
    "rahul.get_age()"
   ]
  },
  {
   "cell_type": "code",
   "execution_count": 41,
   "id": "bae97d50-ceed-4121-b817-8c1c7b256446",
   "metadata": {},
   "outputs": [],
   "source": [
    "rahul.set_age(23)"
   ]
  },
  {
   "cell_type": "code",
   "execution_count": 42,
   "id": "a048b2f1-9f77-4511-a7be-54e54c9621c8",
   "metadata": {},
   "outputs": [
    {
     "data": {
      "text/plain": [
       "23"
      ]
     },
     "execution_count": 42,
     "metadata": {},
     "output_type": "execute_result"
    }
   ],
   "source": [
    "rahul.get_age()"
   ]
  },
  {
   "cell_type": "code",
   "execution_count": 43,
   "id": "e503ecb0-6855-4fb1-877f-5b3582ed055f",
   "metadata": {},
   "outputs": [],
   "source": [
    "#Question 5"
   ]
  },
  {
   "cell_type": "code",
   "execution_count": 44,
   "id": "2beff75f-8a75-46da-9fe8-b410f8d972f9",
   "metadata": {},
   "outputs": [],
   "source": [
    "a = 24"
   ]
  },
  {
   "cell_type": "code",
   "execution_count": 45,
   "id": "4679c230-3ebd-4545-8a2e-84a2b8e588f4",
   "metadata": {},
   "outputs": [
    {
     "data": {
      "text/plain": [
       "24"
      ]
     },
     "execution_count": 45,
     "metadata": {},
     "output_type": "execute_result"
    }
   ],
   "source": [
    "a"
   ]
  },
  {
   "cell_type": "code",
   "execution_count": 46,
   "id": "283fe95c-8167-4c63-b4bd-7ec04ce99d18",
   "metadata": {},
   "outputs": [],
   "source": [
    "a = 27"
   ]
  },
  {
   "cell_type": "code",
   "execution_count": 47,
   "id": "c155c126-9969-4d87-b65d-c42d83de4556",
   "metadata": {},
   "outputs": [
    {
     "data": {
      "text/plain": [
       "27"
      ]
     },
     "execution_count": 47,
     "metadata": {},
     "output_type": "execute_result"
    }
   ],
   "source": [
    "a"
   ]
  },
  {
   "cell_type": "code",
   "execution_count": null,
   "id": "c342f265-e7a6-43b7-b95c-52facf256ece",
   "metadata": {},
   "outputs": [],
   "source": []
  }
 ],
 "metadata": {
  "kernelspec": {
   "display_name": "Python 3 (ipykernel)",
   "language": "python",
   "name": "python3"
  },
  "language_info": {
   "codemirror_mode": {
    "name": "ipython",
    "version": 3
   },
   "file_extension": ".py",
   "mimetype": "text/x-python",
   "name": "python",
   "nbconvert_exporter": "python",
   "pygments_lexer": "ipython3",
   "version": "3.10.8"
  }
 },
 "nbformat": 4,
 "nbformat_minor": 5
}

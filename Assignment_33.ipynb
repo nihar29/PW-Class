{
  "nbformat": 4,
  "nbformat_minor": 0,
  "metadata": {
    "colab": {
      "provenance": []
    },
    "kernelspec": {
      "name": "python3",
      "display_name": "Python 3"
    },
    "language_info": {
      "name": "python"
    }
  },
  "cells": [
    {
      "cell_type": "markdown",
      "source": [
        "Q1. Calculate the 95% confidence interval for a sample of data with a mean of 50 and a standard deviation\n",
        "of 5 using Python. Interpret the results.\n"
      ],
      "metadata": {
        "id": "Fp-bnwM4OpL-"
      }
    },
    {
      "cell_type": "markdown",
      "source": [
        "Given a sample with a mean of 50 and a standard deviation of 5, calculate the 95% confidence interval.\n",
        "\n",
        "Note: We must know (or assume) the sample size. In this example, we assume\n",
        "𝑛\n",
        "=\n",
        "30\n",
        "n=30.\n",
        "\n",
        "Calculation using the t-distribution (since\n",
        "𝑛\n",
        "<\n",
        "30\n",
        "n<30 or population σ is unknown):\n",
        "\n",
        "CI\n",
        "=\n",
        "𝑥\n",
        "ˉ\n",
        "±\n",
        "𝑡\n",
        "𝛼\n",
        "/\n",
        "2\n",
        ",\n",
        "\n",
        "𝑑\n",
        "𝑓\n",
        "×\n",
        "𝑠\n",
        "𝑛\n",
        "CI=\n",
        "x\n",
        "ˉ\n",
        " ±t\n",
        "α/2,df\n",
        "​\n",
        " ×\n",
        "n\n",
        "​\n",
        "\n",
        "s\n",
        "​\n",
        "\n",
        "For a 95% confidence level with\n",
        "𝑑\n",
        "𝑓\n",
        "=\n",
        "29\n",
        "df=29,\n",
        "𝑡\n",
        "0.025\n",
        ",\n",
        "29\n",
        "≈\n",
        "2.045\n",
        "t\n",
        "0.025,29\n",
        "​\n",
        " ≈2.045.\n",
        "\n",
        "Thus,\n",
        "\n",
        "Margin of Error\n",
        "=\n",
        "2.045\n",
        "×\n",
        "5\n",
        "30\n",
        "≈\n",
        "2.045\n",
        "×\n",
        "0.9129\n",
        "≈\n",
        "1.867\n",
        "Margin of Error=2.045×\n",
        "30\n",
        "​\n",
        "\n",
        "5\n",
        "​\n",
        " ≈2.045×0.9129≈1.867\n",
        "CI\n",
        "≈\n",
        "50\n",
        "±\n",
        "1.87\n",
        "⇒\n",
        "(\n",
        "48.13\n",
        ",\n",
        "\n",
        "51.87\n",
        ")\n",
        "CI≈50±1.87⇒(48.13,51.87)\n",
        " We are 95% confident that the true population mean lies between approximately 48.13 and 51.87."
      ],
      "metadata": {
        "id": "e_oSzzHZP_WO"
      }
    },
    {
      "cell_type": "code",
      "source": [
        "import scipy.stats as stats\n",
        "import math\n",
        "\n",
        "mean = 50\n",
        "std = 5\n",
        "n = 30\n",
        "df = n - 1\n",
        "confidence = 0.95\n",
        "\n",
        "# t critical value for two-tailed test\n",
        "t_crit = stats.t.ppf(1 - (1 - confidence)/2, df)\n",
        "margin_error = t_crit * (std / math.sqrt(n))\n",
        "ci_lower = mean - margin_error\n",
        "ci_upper = mean + margin_error\n",
        "\n",
        "print(f\"95% Confidence Interval: ({ci_lower:.2f}, {ci_upper:.2f})\")\n"
      ],
      "metadata": {
        "colab": {
          "base_uri": "https://localhost:8080/"
        },
        "id": "BGkEOV6SQJr4",
        "outputId": "16df86a6-a027-4c5f-a5e8-6d73dd7d5a97"
      },
      "execution_count": 1,
      "outputs": [
        {
          "output_type": "stream",
          "name": "stdout",
          "text": [
            "95% Confidence Interval: (48.13, 51.87)\n"
          ]
        }
      ]
    },
    {
      "cell_type": "markdown",
      "source": [
        "Q2. Conduct a chi-square goodness of fit test to determine if the distribution of colors of M&Ms in a bag\n",
        "matches the expected distribution of 20% blue, 20% orange, 20% green, 10% yellow, 10% red, and 20%\n",
        "brown. Use Python to perform the test with a significance level of 0.05.\n"
      ],
      "metadata": {
        "id": "ysAcjbJLOs31"
      }
    },
    {
      "cell_type": "code",
      "source": [
        "import numpy as np\n",
        "import scipy.stats as stats\n",
        "\n",
        "# Observed counts (example data)\n",
        "observed = np.array([18, 22, 19, 12, 8, 21])\n",
        "total = observed.sum()\n",
        "\n",
        "# Expected proportions and expected counts\n",
        "expected_proportions = np.array([0.20, 0.20, 0.20, 0.10, 0.10, 0.20])\n",
        "expected = expected_proportions * total\n",
        "\n",
        "chi2_stat, p_val = stats.chisquare(f_obs=observed, f_exp=expected)\n",
        "\n",
        "print(f\"Chi-square Statistic: {chi2_stat:.2f}\")\n",
        "print(f\"p-value: {p_val:.4f}\")\n",
        "\n",
        "if p_val < 0.05:\n",
        "    print(\"Reject the null hypothesis: the distribution does not match the expected.\")\n",
        "else:\n",
        "    print(\"Fail to reject the null hypothesis: the distribution matches the expected.\")\n"
      ],
      "metadata": {
        "colab": {
          "base_uri": "https://localhost:8080/"
        },
        "id": "2QtSb2njQP8a",
        "outputId": "79b70531-7744-403e-9137-e7f7aa5783e9"
      },
      "execution_count": 2,
      "outputs": [
        {
          "output_type": "stream",
          "name": "stdout",
          "text": [
            "Chi-square Statistic: 1.30\n",
            "p-value: 0.9349\n",
            "Fail to reject the null hypothesis: the distribution matches the expected.\n"
          ]
        }
      ]
    },
    {
      "cell_type": "markdown",
      "source": [
        "Q3. Use Python to calculate the chi-square statistic and p-value for a contingency table with the following\n",
        "data:\n",
        "Group A\n",
        "\n",
        "Outcome 1 20 15\n",
        "Outcome 2 10 25\n",
        "Outcome 3 15 20\n",
        "Group B\n",
        "Interpret the results of the test.\n"
      ],
      "metadata": {
        "id": "RY9-nsI-Owu9"
      }
    },
    {
      "cell_type": "code",
      "source": [
        "# Construct the contingency table\n",
        "table = np.array([[20, 10, 15],\n",
        "                  [15, 25, 20]])\n",
        "\n",
        "chi2_stat, p_val, dof, expected = stats.chi2_contingency(table)\n",
        "\n",
        "print(\"Chi-square Statistic:\", chi2_stat)\n",
        "print(\"p-value:\", p_val)\n",
        "print(\"Degrees of Freedom:\", dof)\n",
        "print(\"Expected Frequencies:\\n\", expected)\n",
        "\n",
        "if p_val < 0.05:\n",
        "    print(\"There is a significant association between group and outcome.\")\n",
        "else:\n",
        "    print(\"There is no significant association between group and outcome.\")\n"
      ],
      "metadata": {
        "colab": {
          "base_uri": "https://localhost:8080/"
        },
        "id": "JSqQdnUAQUQz",
        "outputId": "235ae371-0861-4c94-b1e0-14cabd95b212"
      },
      "execution_count": 3,
      "outputs": [
        {
          "output_type": "stream",
          "name": "stdout",
          "text": [
            "Chi-square Statistic: 5.833333333333334\n",
            "p-value: 0.05411376622282158\n",
            "Degrees of Freedom: 2\n",
            "Expected Frequencies:\n",
            " [[15. 15. 15.]\n",
            " [20. 20. 20.]]\n",
            "There is no significant association between group and outcome.\n"
          ]
        }
      ]
    },
    {
      "cell_type": "markdown",
      "source": [
        "Q4. A study of the prevalence of smoking in a population of 500 individuals found that 60 individuals\n",
        "smoked. Use Python to calculate the 95% confidence interval for the true proportion of individuals in the\n",
        "population who smoke.\n"
      ],
      "metadata": {
        "id": "qG1tF90ZPh7t"
      }
    },
    {
      "cell_type": "code",
      "source": [
        "import math\n",
        "\n",
        "n = 500\n",
        "p_hat = 60 / n\n",
        "z = 1.96\n",
        "margin_error = z * math.sqrt((p_hat * (1 - p_hat)) / n)\n",
        "ci_lower = p_hat - margin_error\n",
        "ci_upper = p_hat + margin_error\n",
        "\n",
        "print(f\"95% Confidence Interval for Proportion: ({ci_lower:.3f}, {ci_upper:.3f})\")\n"
      ],
      "metadata": {
        "colab": {
          "base_uri": "https://localhost:8080/"
        },
        "id": "nKwDwkb3QZtm",
        "outputId": "ad1e7bda-f3c2-4fee-888c-9369aedb6fb2"
      },
      "execution_count": 4,
      "outputs": [
        {
          "output_type": "stream",
          "name": "stdout",
          "text": [
            "95% Confidence Interval for Proportion: (0.092, 0.148)\n"
          ]
        }
      ]
    },
    {
      "cell_type": "markdown",
      "source": [
        "Q5. Calculate the 90% confidence interval for a sample of data with a mean of 75 and a standard deviation\n",
        "of 12 using Python. Interpret the results.\n"
      ],
      "metadata": {
        "id": "hssooKNPPln8"
      }
    },
    {
      "cell_type": "code",
      "source": [
        "mean = 75\n",
        "std = 12\n",
        "n = 30\n",
        "df = n - 1\n",
        "confidence = 0.90\n",
        "\n",
        "t_crit = stats.t.ppf(1 - (1 - confidence)/2, df)\n",
        "margin_error = t_crit * (std / math.sqrt(n))\n",
        "ci_lower = mean - margin_error\n",
        "ci_upper = mean + margin_error\n",
        "\n",
        "print(f\"90% Confidence Interval: ({ci_lower:.2f}, {ci_upper:.2f})\")\n"
      ],
      "metadata": {
        "colab": {
          "base_uri": "https://localhost:8080/"
        },
        "id": "LzUyedmgQdMV",
        "outputId": "3ac25d5c-5ff4-4d97-c41a-57e26d7011a9"
      },
      "execution_count": 5,
      "outputs": [
        {
          "output_type": "stream",
          "name": "stdout",
          "text": [
            "90% Confidence Interval: (71.28, 78.72)\n"
          ]
        }
      ]
    },
    {
      "cell_type": "markdown",
      "source": [
        "Q6. Use Python to plot the chi-square distribution with 10 degrees of freedom. Label the axes and shade the\n",
        "area corresponding to a chi-square statistic of 15.\n"
      ],
      "metadata": {
        "id": "ru3cqLcDPo8b"
      }
    },
    {
      "cell_type": "code",
      "source": [
        "import matplotlib.pyplot as plt\n",
        "import numpy as np\n",
        "import scipy.stats as stats\n",
        "\n",
        "df = 10\n",
        "x = np.linspace(0, 30, 400)\n",
        "y = stats.chi2.pdf(x, df)\n",
        "\n",
        "plt.figure(figsize=(8, 5))\n",
        "plt.plot(x, y, label=f'Chi-Square PDF (df={df})', color='blue')\n",
        "plt.xlabel('Chi-square value')\n",
        "plt.ylabel('Probability Density')\n",
        "plt.title('Chi-Square Distribution with df=10')\n",
        "\n",
        "# Shade area for x >= 15\n",
        "x_shade = np.linspace(15, 30, 200)\n",
        "y_shade = stats.chi2.pdf(x_shade, df)\n",
        "plt.fill_between(x_shade, y_shade, color='orange', alpha=0.5, label='Area for Chi-square >= 15')\n",
        "\n",
        "plt.legend()\n",
        "plt.show()\n"
      ],
      "metadata": {
        "colab": {
          "base_uri": "https://localhost:8080/",
          "height": 487
        },
        "id": "DjxWBtYqQhWP",
        "outputId": "5ae20f1e-b1b0-42cf-f1ff-40406dc18f4d"
      },
      "execution_count": 6,
      "outputs": [
        {
          "output_type": "display_data",
          "data": {
            "text/plain": [
              "<Figure size 800x500 with 1 Axes>"
            ],
            "image/png": "[encoded data removed]"
          },
          "metadata": {}
        }
      ]
    },
    {
      "cell_type": "markdown",
      "source": [
        "Q7. A random sample of 1000 people was asked if they preferred Coke or Pepsi. Of the sample, 520\n",
        "preferred Coke. Calculate a 99% confidence interval for the true proportion of people in the population who\n",
        "prefer Coke.\n"
      ],
      "metadata": {
        "id": "dPm4Xg9XPsJ8"
      }
    },
    {
      "cell_type": "code",
      "source": [
        "n = 1000\n",
        "p_hat = 520 / n\n",
        "z = 2.576\n",
        "\n",
        "margin_error = z * np.sqrt((p_hat * (1 - p_hat)) / n)\n",
        "ci_lower = p_hat - margin_error\n",
        "ci_upper = p_hat + margin_error\n",
        "\n",
        "print(f\"99% Confidence Interval for Proportion: ({ci_lower:.3f}, {ci_upper:.3f})\")\n"
      ],
      "metadata": {
        "colab": {
          "base_uri": "https://localhost:8080/"
        },
        "id": "PqTcRMbvQnuH",
        "outputId": "38c9d530-e710-4f17-a2f9-353f84d338f7"
      },
      "execution_count": 7,
      "outputs": [
        {
          "output_type": "stream",
          "name": "stdout",
          "text": [
            "99% Confidence Interval for Proportion: (0.479, 0.561)\n"
          ]
        }
      ]
    },
    {
      "cell_type": "markdown",
      "source": [
        "Q8. A researcher hypothesizes that a coin is biased towards tails. They flip the coin 100 times and observe\n",
        "45 tails. Conduct a chi-square goodness of fit test to determine if the observed frequencies match the\n",
        "expected frequencies of a fair coin. Use a significance level of 0.05.\n"
      ],
      "metadata": {
        "id": "m6lyBR6cPvzV"
      }
    },
    {
      "cell_type": "code",
      "source": [
        "observed = np.array([45, 55])\n",
        "expected = np.array([50, 50])\n",
        "\n",
        "chi2_stat, p_val = stats.chisquare(f_obs=observed, f_exp=expected)\n",
        "\n",
        "print(f\"Chi-square Statistic: {chi2_stat:.2f}\")\n",
        "print(f\"p-value: {p_val:.4f}\")\n",
        "\n",
        "if p_val < 0.05:\n",
        "    print(\"Reject the null hypothesis: the coin is biased.\")\n",
        "else:\n",
        "    print(\"Fail to reject the null hypothesis: the coin appears fair.\")\n"
      ],
      "metadata": {
        "colab": {
          "base_uri": "https://localhost:8080/"
        },
        "id": "vzPk4r3WQqdH",
        "outputId": "e34e649f-7247-4aa0-e29e-8de0faef5c54"
      },
      "execution_count": 8,
      "outputs": [
        {
          "output_type": "stream",
          "name": "stdout",
          "text": [
            "Chi-square Statistic: 1.00\n",
            "p-value: 0.3173\n",
            "Fail to reject the null hypothesis: the coin appears fair.\n"
          ]
        }
      ]
    },
    {
      "cell_type": "markdown",
      "source": [
        "Q9. A study was conducted to determine if there is an association between smoking status (smoker or\n",
        "non-smoker) and lung cancer diagnosis (yes or no). The results are shown in the contingency table below.\n",
        "Conduct a chi-square test for independence to determine if there is a significant association between\n",
        "smoking status and lung cancer diagnosis.\n",
        "Lung Cancer: Yes\n",
        "\n",
        "Smoker 60 140\n",
        "Non-smoker 30 170\n",
        "Lung Cancer: No\n"
      ],
      "metadata": {
        "id": "TdykOr6WPyR8"
      }
    },
    {
      "cell_type": "code",
      "source": [
        "import numpy as np\n",
        "import scipy.stats as stats\n",
        "\n",
        "# Construct the contingency table\n",
        "table = np.array([[60, 140],\n",
        "                  [30, 170]])\n",
        "\n",
        "chi2_stat, p_val, dof, expected = stats.chi2_contingency(table)\n",
        "\n",
        "print(\"Chi-square Statistic:\", chi2_stat)\n",
        "print(\"p-value:\", p_val)\n",
        "print(\"Degrees of Freedom:\", dof)\n",
        "print(\"Expected Frequencies:\\n\", expected)\n",
        "\n",
        "if p_val < 0.05:\n",
        "    print(\"There is a significant association between smoking and lung cancer diagnosis.\")\n",
        "else:\n",
        "    print(\"There is no significant association between smoking and lung cancer diagnosis.\")\n"
      ],
      "metadata": {
        "colab": {
          "base_uri": "https://localhost:8080/"
        },
        "id": "OP0RUpPtQtWr",
        "outputId": "25cf22c4-8973-441f-8835-a6331e4afed4"
      },
      "execution_count": 9,
      "outputs": [
        {
          "output_type": "stream",
          "name": "stdout",
          "text": [
            "Chi-square Statistic: 12.057347670250895\n",
            "p-value: 0.0005158863863703744\n",
            "Degrees of Freedom: 1\n",
            "Expected Frequencies:\n",
            " [[ 45. 155.]\n",
            " [ 45. 155.]]\n",
            "There is a significant association between smoking and lung cancer diagnosis.\n"
          ]
        }
      ]
    },
    {
      "cell_type": "markdown",
      "source": [
        "Q10. A study was conducted to determine if the proportion of people who prefer milk chocolate, dark\n",
        "chocolate, or white chocolate is different in the U.S. versus the U.K. A random sample of 500 people from\n",
        "the U.S. and a random sample of 500 people from the U.K. were surveyed. The results are shown in the\n",
        "contingency table below. Conduct a chi-square test for independence to determine if there is a significant\n",
        "association between chocolate preference and country of origin.\n",
        "Milk Chocolate\n",
        "\n",
        "U.S. (n=500) 200 150 150\n",
        "U.K. (n=500) 225 175 100\n",
        "Dark Chocolate White Chocolate\n",
        "Use a significance level of 0.01.\n"
      ],
      "metadata": {
        "id": "QyVPmXSoP0Se"
      }
    },
    {
      "cell_type": "code",
      "source": [
        "import numpy as np\n",
        "import scipy.stats as stats\n",
        "\n",
        "# Construct the table\n",
        "table = np.array([[200, 150, 150],\n",
        "                  [225, 175, 100]])\n",
        "\n",
        "chi2_stat, p_val, dof, expected = stats.chi2_contingency(table)\n",
        "\n",
        "print(\"Chi-square Statistic:\", chi2_stat)\n",
        "print(\"p-value:\", p_val)\n",
        "print(\"Degrees of Freedom:\", dof)\n",
        "print(\"Expected Frequencies:\\n\", expected)\n",
        "\n",
        "if p_val < 0.01:\n",
        "    print(\"There is a significant association between chocolate preference and country of origin.\")\n",
        "else:\n",
        "    print(\"There is no significant association between chocolate preference and country of origin.\")\n"
      ],
      "metadata": {
        "colab": {
          "base_uri": "https://localhost:8080/"
        },
        "id": "Y7G8AE7SQwUy",
        "outputId": "d39f7a0f-cab0-40a9-e920-49de379a0621"
      },
      "execution_count": 10,
      "outputs": [
        {
          "output_type": "stream",
          "name": "stdout",
          "text": [
            "Chi-square Statistic: 13.393665158371041\n",
            "p-value: 0.0012348168997745918\n",
            "Degrees of Freedom: 2\n",
            "Expected Frequencies:\n",
            " [[212.5 162.5 125. ]\n",
            " [212.5 162.5 125. ]]\n",
            "There is a significant association between chocolate preference and country of origin.\n"
          ]
        }
      ]
    },
    {
      "cell_type": "markdown",
      "source": [
        "Q11. A random sample of 30 people was selected from a population with an unknown mean and standard\n",
        "deviation. The sample mean was found to be 72 and the sample standard deviation was found to be 10.\n",
        "Conduct a hypothesis test to determine if the population mean is significantly different from 70. Use a\n",
        "significance level of 0.05."
      ],
      "metadata": {
        "id": "VxE3vpq-P2xL"
      }
    },
    {
      "cell_type": "code",
      "source": [
        "import math\n",
        "import scipy.stats as stats\n",
        "\n",
        "sample_mean = 72\n",
        "mu0 = 70\n",
        "s = 10\n",
        "n = 30\n",
        "df = n - 1\n",
        "\n",
        "t_stat = (sample_mean - mu0) / (s / math.sqrt(n))\n",
        "p_val = 2 * (1 - stats.t.cdf(abs(t_stat), df))\n",
        "\n",
        "print(f\"t-statistic: {t_stat:.2f}\")\n",
        "print(f\"p-value: {p_val:.4f}\")\n",
        "\n",
        "alpha = 0.05\n",
        "if p_val < alpha:\n",
        "    print(\"Reject the null hypothesis: the population mean is significantly different from 70.\")\n",
        "else:\n",
        "    print(\"Fail to reject the null hypothesis: insufficient evidence to conclude the population mean differs from 70.\")\n"
      ],
      "metadata": {
        "colab": {
          "base_uri": "https://localhost:8080/"
        },
        "id": "-VgzacgxQy66",
        "outputId": "9c2da7d4-918b-4498-b557-13c84134b515"
      },
      "execution_count": 11,
      "outputs": [
        {
          "output_type": "stream",
          "name": "stdout",
          "text": [
            "t-statistic: 1.10\n",
            "p-value: 0.2823\n",
            "Fail to reject the null hypothesis: insufficient evidence to conclude the population mean differs from 70.\n"
          ]
        }
      ]
    }
  ]
}
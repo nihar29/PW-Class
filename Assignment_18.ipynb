{
  "nbformat": 4,
  "nbformat_minor": 0,
  "metadata": {
    "colab": {
      "provenance": []
    },
    "kernelspec": {
      "name": "python3",
      "display_name": "Python 3"
    },
    "language_info": {
      "name": "python"
    }
  },
  "cells": [
    {
      "cell_type": "markdown",
      "source": [
        "Go to this given URL and solve the following questions\n",
        "URL: https://www.youtube.com/@PW-Foundation/videos\n",
        "Q1. Write a python program to extract the video URL of the first five videos.\n",
        "Q2. Write a python program to extract the URL of the video thumbnails of the first five videos.\n",
        "Q3. Write a python program to extract the title of the first five videos.\n",
        "Q4. Write a python program to extract the number of views of the first five videos.\n",
        "Q5. Write a python program to extract the time of posting of video for the first five videos.\n",
        "Note: Save all the data scraped in the above questions in a CSV file."
      ],
      "metadata": {
        "id": "uI9pGSyTOj_g"
      }
    },
    {
      "cell_type": "markdown",
      "source": [
        "import csv\n",
        "from googleapiclient.discovery import build\n",
        "\n",
        "# Replace with your API key\n",
        "API_KEY = ''\n",
        "\n",
        "youtube = build('youtube', 'v3', developerKey=API_KEY)\n",
        "\n",
        "def get_latest_videos(channel_id, max_results=5):\n",
        "    # Fetch the playlist ID for the channel's uploads\n",
        "    request = youtube.channels().list(part='contentDetails', id=channel_id)\n",
        "    response = request.execute()\n",
        "    playlist_id = response['items'][0]['contentDetails']['relatedPlaylists']['uploads']\n",
        "\n",
        "    # Fetch the latest videos from the uploads playlist\n",
        "    request = youtube.playlistItems().list(part='snippet', playlistId=playlist_id, maxResults=max_results)\n",
        "    response = request.execute()\n",
        "\n",
        "    videos = []\n",
        "    for item in response['items']:\n",
        "        video_id = item['snippet']['resourceId']['videoId']\n",
        "        title = item['snippet']['title']\n",
        "        thumbnail_url = item['snippet']['thumbnails']['high']['url']\n",
        "        published_at = item['snippet']['publishedAt']\n",
        "\n",
        "        # Fetch video statistics\n",
        "        request = youtube.videos().list(part='statistics', id=video_id)\n",
        "        stats_response = request.execute()\n",
        "        view_count = stats_response['items'][0]['statistics'].get('viewCount', 'N/A')\n",
        "\n",
        "        videos.append([title, video_id, thumbnail_url, view_count, published_at])\n",
        "\n",
        "    return videos\n",
        "\n",
        "\n",
        "channel_id = ''\n",
        "\n",
        "videos = get_latest_videos(channel_id)\n",
        "\n",
        "csv_file_path = 'youtube_video_data.csv'\n",
        "\n",
        "with open(csv_file_path, mode='w', newline='', encoding='utf-8') as file:\n",
        "    writer = csv.writer(file)\n",
        "    writer.writerow(['Title', 'Video URL', 'Thumbnail URL', 'View Count', 'Published At'])\n",
        "    writer.writerows(videos)\n",
        "\n",
        "print(f\"Data has been written to {csv_file_path}\")\n"
      ],
      "metadata": {
        "id": "4pohWW5lOOWm"
      }
    }
  ]
}
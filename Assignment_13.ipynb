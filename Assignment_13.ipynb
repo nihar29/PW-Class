{
  "nbformat": 4,
  "nbformat_minor": 0,
  "metadata": {
    "colab": {
      "provenance": []
    },
    "kernelspec": {
      "name": "python3",
      "display_name": "Python 3"
    },
    "language_info": {
      "name": "python"
    }
  },
  "cells": [
    {
      "cell_type": "markdown",
      "source": [
        "Q1. What is MongoDB? Explain non-relational databases in short. In which scenarios it is preferred to use MongoDB over SQL databases"
      ],
      "metadata": {
        "id": "64rV8iliyB0i"
      }
    },
    {
      "cell_type": "markdown",
      "source": [
        "MongoDB is a NoSQL database management system that stores data in a flexible, JSON-like format known as BSON (Binary JSON). It is designed to handle large volumes of unstructured or semi-structured data. Unlike SQL databases, MongoDB does not require a fixed schema, allowing for dynamic and scalable data storage.\n",
        "\n",
        "Non-relational databases (NoSQL) are databases that do not use the traditional table-based relational model. Instead, they use various data structures such as key-value pairs, documents, graphs, or wide-column stores. These databases are more flexible and scalable for handling large amounts of unstructured data, making them suitable for modern applications like real-time web apps and big data processing.\n",
        "\n",
        "When to prefer MongoDB over SQL databases:\n",
        "\n",
        "Scalability: MongoDB offers horizontal scalability, making it ideal for large-scale applications that require distributing data across multiple servers.\n",
        "Flexibility: Its schema-less nature allows for easy changes in data structure without disrupting the database.\n",
        "High Performance: MongoDB can handle high throughput and low-latency read and write operations, especially for applications with unstructured data.\n",
        "Big Data and Real-time Analytics: It’s suitable for big data applications that require fast processing and real-time querying.\n",
        "Scenarios where MongoDB is preferred over SQL:\n",
        "\n",
        "When the data is semi-structured or unstructured.\n",
        "For applications that require high performance with rapid growth and scalability (e.g., IoT, social media, real-time analytics).\n",
        "For managing large datasets in environments that require flexibility and fast iteration on data structure changes."
      ],
      "metadata": {
        "id": "suS3ShiYyIaq"
      }
    },
    {
      "cell_type": "markdown",
      "source": [
        "Q2. State and Explain the features of MongoDB."
      ],
      "metadata": {
        "id": "MUirQ9jnyS56"
      }
    },
    {
      "cell_type": "markdown",
      "source": [
        "MongoDB is a document-oriented NoSQL database that stores data in flexible, JSON-like BSON format. It does not require a fixed schema, allowing for dynamic and evolving data structures. This flexibility makes it easier to store unstructured and semi-structured data. MongoDB offers horizontal scalability through sharding, where data is distributed across multiple servers to manage large datasets efficiently. It also ensures high availability with replica sets, where data is replicated across several nodes for fault tolerance and automatic failover. MongoDB supports a powerful aggregation framework, enabling complex queries and data transformations. Additionally, it provides various types of indexing to optimize query performance. The database's schema-less nature allows easy modifications without impacting existing data, and its real-time data processing capabilities make it suitable for high-performance applications that require fast and efficient data retrieval. These features collectively make MongoDB ideal for modern applications dealing with large-scale, flexible data needs."
      ],
      "metadata": {
        "id": "aqCCKC38yWXh"
      }
    },
    {
      "cell_type": "markdown",
      "source": [
        "Q3. Write a code to connect MongoDB to Python. Also, create a database and a collection in MongoDB."
      ],
      "metadata": {
        "id": "wXK9TTrsyjtb"
      }
    },
    {
      "cell_type": "markdown",
      "source": [
        "import pymongo\n",
        "\n",
        "\n",
        "client = pymongo.MongoClient(\"mongodb://localhost:27017/\")\n",
        "\n",
        "\n",
        "db = client[\"my_database\"]\n",
        "\n",
        "\n",
        "collection = db[\"my_collection\"]\n",
        "\n",
        "\n",
        "collection.insert_one({\"name\": \"nihar\", \"age\": 30, \"city\": \"cuttack\"})\n",
        "\n",
        "\n",
        "result = collection.find_one({\"name\": \"nihar\"})\n",
        "print(result)\n",
        "\n",
        "\n",
        "client.close()\n"
      ],
      "metadata": {
        "id": "KyU_kiAlyvFn"
      }
    },
    {
      "cell_type": "markdown",
      "source": [
        "Q4. Using the database and the collection created in question number 3, write a code to insert one record, and insert many records. Use the find() and find_one() methods to print the inserted record."
      ],
      "metadata": {
        "id": "ZVnMk6fpy7TQ"
      }
    },
    {
      "cell_type": "markdown",
      "source": [
        "import pymongo\n",
        "\n",
        "client = pymongo.MongoClient(\"mongodb://localhost:27017/\")\n",
        "\n",
        "\n",
        "db = client[\"my_database\"]\n",
        "collection = db[\"my_collection\"]\n",
        "\n",
        "\n",
        "collection.insert_one({\"name\": \"nihar\", \"age\": 28, \"city\": \"ctc\"})\n",
        "\n",
        "\n",
        "records = [\n",
        "    {\"name\": \"kaberi\", \"age\": 28, \"city\": \"knd\"},\n",
        "    {\"name\": \"sipu\", \"age\": 22, \"city\": \"bbsr\"},\n",
        "    {\"name\": \"dd\", \"age\": 30, \"city\": \"kjr\"}\n",
        "]\n",
        "collection.insert_many(records)\n",
        "\n",
        "\n",
        "one_record = collection.find_one({\"name\": \"nihar\"})\n",
        "print(\"Single record using find_one():\", one_record)\n",
        "\n",
        "\n",
        "all_records = collection.find()\n",
        "print(\"\\nAll records using find():\")\n",
        "for record in all_records:\n",
        "    print(record)\n",
        "\n",
        "\n",
        "client.close()\n"
      ],
      "metadata": {
        "id": "JcMKr7fpzC5o"
      }
    },
    {
      "cell_type": "markdown",
      "source": [
        "Q5. Explain how you can use the find() method to query the MongoDB database. Write a simple code to demonstrate this."
      ],
      "metadata": {
        "id": "PMF117HzzZ5o"
      }
    },
    {
      "cell_type": "markdown",
      "source": [
        "The find() method in MongoDB is used to query the database and retrieve multiple documents that match the specified criteria. It returns a cursor, which can be iterated to access the results. You can use the find() method with query filters to match documents based on field values. By default, it retrieves all documents in a collection if no filter is provided.\n",
        "\n",
        "import pymongo\n",
        "\n",
        "client = pymongo.MongoClient(\"mongodb://localhost:27017/\")\n",
        "\n",
        "\n",
        "db = client[\"my_database\"]\n",
        "collection = db[\"my_collection\"]\n",
        "\n",
        "\n",
        "print(\"All records:\")\n",
        "all_records = collection.find()\n",
        "for record in all_records:\n",
        "    print(record)\n",
        "\n",
        "\n",
        "print(\"\\nRecords where age > 25:\")\n",
        "filtered_records = collection.find({\"age\": {\"$gt\": 25}})\n",
        "for record in filtered_records:\n",
        "    print(record)\n",
        "\n",
        "client.close()\n"
      ],
      "metadata": {
        "id": "A2Rcbs9kzgUH"
      }
    },
    {
      "cell_type": "markdown",
      "source": [
        "Q6. Explain the sort() method. Give an example to demonstrate sorting in MongoDB."
      ],
      "metadata": {
        "id": "XDLf0C2EzojZ"
      }
    },
    {
      "cell_type": "markdown",
      "source": [
        "The sort() method in MongoDB is used to sort the documents in a collection based on one or more fields. The sort() method accepts one or more field-value pairs to specify the sorting order.\n",
        "\n",
        "collection.find().sort([(\"field_name\", 1)])\n"
      ],
      "metadata": {
        "id": "PMbiNqX-zwKQ"
      }
    },
    {
      "cell_type": "markdown",
      "source": [
        "Q7. Explain why delete_one(), delete_many(), and drop() is used."
      ],
      "metadata": {
        "id": "d4vgsx22z6Zp"
      }
    },
    {
      "cell_type": "markdown",
      "source": [
        "In MongoDB, the methods delete_one(), delete_many(), and drop() are used to remove data from a collection or database. These methods serve different purposes based on the scope and number of documents you want to delete.\n",
        "\n",
        "delete_one(): This method is used to delete a single document that matches the specified filter. If multiple documents match the filter, only the first one encountered will be removed. This is useful when you want to delete a specific document based on a condition.\n",
        "\n",
        "delete_many(): This method is used to delete multiple documents that match the specified filter. If no filter is given, it will delete all documents in the collection. This is useful when you want to remove multiple records based on a common condition.\n",
        "\n",
        "drop(): This method is used to completely remove a collection from the database. When you call drop(), the entire collection and its contents are deleted permanently. It is important to use this with caution because it removes all the data in the collection."
      ],
      "metadata": {
        "id": "aK939F2_z-Vg"
      }
    }
  ]
}
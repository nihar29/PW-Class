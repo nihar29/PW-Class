{
  "nbformat": 4,
  "nbformat_minor": 0,
  "metadata": {
    "colab": {
      "provenance": []
    },
    "kernelspec": {
      "name": "python3",
      "display_name": "Python 3"
    },
    "language_info": {
      "name": "python"
    }
  },
  "cells": [
    {
      "cell_type": "markdown",
      "source": [
        "Q1. What are the three measures of central tendency?"
      ],
      "metadata": {
        "id": "OKTdP4X58zH2"
      }
    },
    {
      "cell_type": "markdown",
      "source": [
        "The three measures of central tendency are:\n",
        "\n",
        "Mean – The arithmetic average of a dataset.\n",
        "Median – The middle value when data is arranged in ascending order.\n",
        "Mode – The most frequently occurring value in the dataset."
      ],
      "metadata": {
        "id": "HKFIB9Si9VSe"
      }
    },
    {
      "cell_type": "markdown",
      "source": [
        "Q2. What is the difference between the mean, median, and mode? How are they used to measure the\n",
        "central tendency of a dataset?"
      ],
      "metadata": {
        "id": "YDT2xMwB813X"
      }
    },
    {
      "cell_type": "markdown",
      "source": [
        "Measure\tDefinition\tUsage\n",
        "Mean\tSum of all values divided by the number of values\tUsed when data has no extreme outliers\n",
        "Median\tMiddle value of ordered data\tUsed when data has outliers to avoid skewness\n",
        "Mode\tMost frequently occurring value\tUsed for categorical data or unimodal distributions\n",
        "Example:\n",
        "Dataset: [2, 3, 3, 6, 8, 9, 12]\n",
        "\n",
        "Mean = (2+3+3+6+8+9+12) / 7 = 6.14\n",
        "Median = 6 (middle value)\n",
        "Mode = 3 (most frequent value)"
      ],
      "metadata": {
        "id": "SggBIIL6960V"
      }
    },
    {
      "cell_type": "markdown",
      "source": [
        "Q3. Measure the three measures of central tendency for the given height data:\n",
        "[178,177,176,177,178.2,178,175,179,180,175,178.9,176.2,177,172.5,178,176.5]"
      ],
      "metadata": {
        "id": "M8on6aHk84D2"
      }
    },
    {
      "cell_type": "markdown",
      "source": [
        "Dataset: [178,177,176,177,178.2,178,175,179,180,175,178.9,176.2,177,172.5,178,176.5]\n",
        "\n",
        "Mean =\n",
        "∑\n",
        "𝑋\n",
        "𝑁\n",
        "=\n",
        "2830.3\n",
        "16\n",
        "=\n",
        "176.89\n",
        "N\n",
        "∑X\n",
        "​\n",
        " =\n",
        "16\n",
        "2830.3\n",
        "​\n",
        " =176.89\n",
        "Median = 177 (middle value after sorting)\n",
        "Mode = 178 (most frequently occurring value)"
      ],
      "metadata": {
        "id": "uRKPmDj8-CHp"
      }
    },
    {
      "cell_type": "markdown",
      "source": [
        "Q4. Find the standard deviation for the given data:\n",
        "[178,177,176,177,178.2,178,175,179,180,175,178.9,176.2,177,172.5,178,176.5]"
      ],
      "metadata": {
        "id": "RdU-xh8X861e"
      }
    },
    {
      "cell_type": "markdown",
      "source": [
        "Standard deviation (σ) is calculated as:\n",
        "\n",
        "𝜎\n",
        "=\n",
        "∑\n",
        "(\n",
        "𝑋\n",
        "−\n",
        "𝑋\n",
        "ˉ\n",
        ")\n",
        "2\n",
        "𝑁\n",
        "σ=\n",
        "N\n",
        "∑(X−\n",
        "X\n",
        "ˉ\n",
        " )\n",
        "2\n",
        "\n",
        "​\n",
        "\n",
        "​\n",
        "\n",
        "For the dataset: [178,177,176,177,178.2,178,175,179,180,175,178.9,176.2,177,172.5,178,176.5]"
      ],
      "metadata": {
        "id": "es2OX1zF-Ly8"
      }
    },
    {
      "cell_type": "markdown",
      "source": [
        "Q5. How are measures of dispersion such as range, variance, and standard deviation used to describe\n",
        "the spread of a dataset? Provide an example."
      ],
      "metadata": {
        "id": "e0rjdZBB88le"
      }
    },
    {
      "cell_type": "markdown",
      "source": [
        "Measures of dispersion describe how data values spread around the central tendency.\n",
        "\n",
        "Range – Difference between the highest and lowest value.\n",
        "Example: If exam scores are [40, 50, 60, 70, 80], the range is 80 - 40 = 40.\n",
        "Variance – The average squared difference from the mean.\n",
        "Standard Deviation – Square root of variance, used for measuring consistency.\n",
        "Example: In stock prices, a higher standard deviation indicates more volatility."
      ],
      "metadata": {
        "id": "7mqUXX8s-Pfk"
      }
    },
    {
      "cell_type": "markdown",
      "source": [
        "Q6. What is a Venn diagram?"
      ],
      "metadata": {
        "id": "x7BvqVip8-iW"
      }
    },
    {
      "cell_type": "markdown",
      "source": [
        "A Venn diagram is a graphical representation of sets, showing relationships between them using overlapping circles. It helps in visualizing unions, intersections, and differences between sets.\n",
        "\n",
        "Example: If Set A = students who play football and Set B = students who play cricket, their overlap represents students who play both sports."
      ],
      "metadata": {
        "id": "HYLNmk9b-SRb"
      }
    },
    {
      "cell_type": "markdown",
      "source": [
        "Q7. For the two given sets A = (2,3,4,5,6,7) & B = (0,2,6,8,10). Find:\n",
        "(i) A B\n",
        "(ii) A ⋃ B"
      ],
      "metadata": {
        "id": "eylho84f9Aa9"
      }
    },
    {
      "cell_type": "markdown",
      "source": [
        "Intersection (A ∩ B) – Common elements: {2,6}\n",
        "Union (A ∪ B) – All unique elements: {0,2,3,4,5,6,7,8,10}"
      ],
      "metadata": {
        "id": "Fzq4sDYa-U0o"
      }
    },
    {
      "cell_type": "markdown",
      "source": [
        "Q8. What do you understand about skewness in data?"
      ],
      "metadata": {
        "id": "_Bxv83QQ9CO1"
      }
    },
    {
      "cell_type": "markdown",
      "source": [
        "Skewness measures the asymmetry of a distribution:\n",
        "\n",
        "Right (Positive) Skew – Tail extends to the right (e.g., income data).\n",
        "Left (Negative) Skew – Tail extends to the left (e.g., exam scores where many students score high).\n",
        "Zero Skew – Data is symmetric (e.g., normal distribution)."
      ],
      "metadata": {
        "id": "W2jCkdW3-YAA"
      }
    },
    {
      "cell_type": "markdown",
      "source": [
        "Q9. If a data is right skewed then what will be the position of median with respect to mean?"
      ],
      "metadata": {
        "id": "Kkf8qfzT9Eto"
      }
    },
    {
      "cell_type": "markdown",
      "source": [
        "In a right-skewed distribution: Mean > Median > Mode\n",
        "\n",
        "Example: Income data where most people earn low salaries, but a few earn extremely high salaries, pulling the mean higher than the median."
      ],
      "metadata": {
        "id": "yIVs8G9c-dwr"
      }
    },
    {
      "cell_type": "markdown",
      "source": [
        "Q10. Explain the difference between covariance and correlation. How are these measures used in\n",
        "statistical analysis?"
      ],
      "metadata": {
        "id": "XHC9dhDb9GaH"
      }
    },
    {
      "cell_type": "markdown",
      "source": [
        "Measure\tDefinition\tRange\tInterpretation\n",
        "Covariance\tMeasures how two variables change together\t-∞ to +∞\tDifficult to interpret because it depends on scale\n",
        "Correlation\tStandardized measure of the relationship\t-1 to +1\t+1 (strong positive), 0 (no relation), -1 (strong negative)\n",
        "Example:\n",
        "\n",
        "Covariance: If height and weight increase together, covariance is positive.\n",
        "Correlation: A correlation of 0.9 between height and weight means a strong positive relationship."
      ],
      "metadata": {
        "id": "vHB-oDUa-gLs"
      }
    },
    {
      "cell_type": "markdown",
      "source": [
        "Q11. What is the formula for calculating the sample mean? Provide an example calculation for a\n",
        "dataset."
      ],
      "metadata": {
        "id": "5vxg5oVJ9IA5"
      }
    },
    {
      "cell_type": "markdown",
      "source": [
        "The sample mean (\n",
        "𝑋\n",
        "ˉ\n",
        "X\n",
        "ˉ\n",
        "  ) formula:\n",
        "\n",
        "𝑋\n",
        "ˉ\n",
        "=\n",
        "∑\n",
        "𝑋\n",
        "𝑁\n",
        "X\n",
        "ˉ\n",
        " =\n",
        "N\n",
        "∑X\n",
        "​\n",
        "\n",
        "Example: Dataset [5, 10, 15, 20, 25]\n",
        "\n",
        "𝑋\n",
        "ˉ\n",
        "=\n",
        "5\n",
        "+\n",
        "10\n",
        "+\n",
        "15\n",
        "+\n",
        "20\n",
        "+\n",
        "25\n",
        "5\n",
        "=\n",
        "15\n",
        "X\n",
        "ˉ\n",
        " =\n",
        "5\n",
        "5+10+15+20+25\n",
        "​\n",
        " =15"
      ],
      "metadata": {
        "id": "86G7zVks-jNt"
      }
    },
    {
      "cell_type": "markdown",
      "source": [
        "Q12. For a normal distribution data what is the relationship between its measure of central tendency?\n"
      ],
      "metadata": {
        "id": "IT6R424R9KOf"
      }
    },
    {
      "cell_type": "markdown",
      "source": [
        "For a normal distribution:\n",
        "\n",
        "Mean\n",
        "=\n",
        "Median\n",
        "=\n",
        "Mode\n",
        "Mean=Median=Mode\n",
        "The data is perfectly symmetrical around the mean."
      ],
      "metadata": {
        "id": "EmhMJxwU-ldo"
      }
    },
    {
      "cell_type": "markdown",
      "source": [
        "Q13. How is covariance different from correlation?\n"
      ],
      "metadata": {
        "id": "7-v_79Vs9MqW"
      }
    },
    {
      "cell_type": "markdown",
      "source": [
        "Covariance measures the direction of the relationship but does not show strength.\n",
        "Correlation standardizes covariance, making it comparable between different datasets.\n",
        "Example:\n",
        "\n",
        "Covariance between height and weight might be 1500, but correlation could be 0.85, making it easier to interpret."
      ],
      "metadata": {
        "id": "CoZSuWbn-nk5"
      }
    },
    {
      "cell_type": "markdown",
      "source": [
        "Q14. How do outliers affect measures of central tendency and dispersion? Provide an example."
      ],
      "metadata": {
        "id": "tfagCqN99ODg"
      }
    },
    {
      "cell_type": "markdown",
      "source": [
        "Outliers significantly affect mean and standard deviation but have minimal effect on the median.\n",
        "\n",
        "Example:\n",
        "Dataset [10, 12, 14, 16, 18]\n",
        "\n",
        "Mean = 14, Median = 14\n",
        "Adding an outlier: [10, 12, 14, 16, 18, 100]\n",
        "Mean = 28.67 (skewed by 100), Median = 15 (less affected)\n",
        "Standard deviation increases drastically.\n",
        "Thus, for skewed data, median and IQR are better measures."
      ],
      "metadata": {
        "id": "d3Z_nJ3--p7j"
      }
    }
  ]
}
{
  "nbformat": 4,
  "nbformat_minor": 0,
  "metadata": {
    "colab": {
      "provenance": []
    },
    "kernelspec": {
      "name": "python3",
      "display_name": "Python 3"
    },
    "language_info": {
      "name": "python"
    }
  },
  "cells": [
    {
      "cell_type": "markdown",
      "source": [
        "Q1: What is Estimation Statistics? Explain point estimate and interval estimate.\n"
      ],
      "metadata": {
        "id": "ZD5tjOOlIaVa"
      }
    },
    {
      "cell_type": "markdown",
      "source": [
        "The process of using sample data to estimate population parameters.\n",
        "\n",
        "Point Estimate: A single value used to estimate a population parameter (e.g., sample mean for population mean).\n",
        "Interval Estimate: A range of values, typically given as a confidence interval, that is likely to contain the population parameter."
      ],
      "metadata": {
        "id": "bNkaIJ-1Jih6"
      }
    },
    {
      "cell_type": "markdown",
      "source": [
        "Q2. Write a Python function to estimate the population mean using a sample mean and standard\n",
        "deviation.\n"
      ],
      "metadata": {
        "id": "zf6gpXLtIdnZ"
      }
    },
    {
      "cell_type": "code",
      "source": [
        "def estimate_population_mean(sample_mean, sample_std, sample_size):\n",
        "    return sample_mean, sample_std / (sample_size ** 0.5)\n"
      ],
      "metadata": {
        "id": "YxXBLNHkJmle"
      },
      "execution_count": 1,
      "outputs": []
    },
    {
      "cell_type": "markdown",
      "source": [
        "Q3: What is Hypothesis testing? Why is it used? State the importance of Hypothesis testing."
      ],
      "metadata": {
        "id": "2mjaq9ROIh0G"
      }
    },
    {
      "cell_type": "markdown",
      "source": [
        "A statistical method to test assumptions about a population parameter.\n",
        "\n",
        "Importance: Helps make data-driven decisions, verify claims, and test scientific theories."
      ],
      "metadata": {
        "id": "akk_5v9dJwbZ"
      }
    },
    {
      "cell_type": "markdown",
      "source": [
        "Q4. Create a hypothesis that states whether the average weight of male college students is greater than the average weight of female college students."
      ],
      "metadata": {
        "id": "8NsG87pMIoTf"
      }
    },
    {
      "cell_type": "markdown",
      "source": [
        "Null Hypothesis (\n",
        "𝐻\n",
        "0\n",
        "H\n",
        "0\n",
        "​\n",
        " ): The average weight of male and female college students is the same.\n",
        "Alternative Hypothesis (\n",
        "𝐻\n",
        "𝐴\n",
        "H\n",
        "A\n",
        "​\n",
        " ): The average weight of male students is greater than that of female students."
      ],
      "metadata": {
        "id": "bZ0AKjpWJycq"
      }
    },
    {
      "cell_type": "markdown",
      "source": [
        "Q5. Write a Python script to conduct a hypothesis test on the difference between two population means, given a sample from each population."
      ],
      "metadata": {
        "id": "A2s8M5ktItTX"
      }
    },
    {
      "cell_type": "code",
      "source": [
        "import scipy.stats as stats\n",
        "import numpy as np\n",
        "\n",
        "def two_sample_t_test(sample1, sample2):\n",
        "    t_stat, p_value = stats.ttest_ind(sample1, sample2, equal_var=False)\n",
        "    return t_stat, p_value\n"
      ],
      "metadata": {
        "id": "JMxTKiUSJ6g6"
      },
      "execution_count": 2,
      "outputs": []
    },
    {
      "cell_type": "markdown",
      "source": [
        "Q6: What is a null and alternative hypothesis? Give some examples."
      ],
      "metadata": {
        "id": "gP0GNkz0IxAS"
      }
    },
    {
      "cell_type": "markdown",
      "source": [
        "H\n",
        "0\n",
        "​\n",
        " : The new drug has no effect on blood pressure.\n",
        "𝐻\n",
        "𝐴\n",
        "H\n",
        "A\n",
        "​\n",
        " : The new drug reduces blood pressure."
      ],
      "metadata": {
        "id": "am9Ybkz2J_Q7"
      }
    },
    {
      "cell_type": "markdown",
      "source": [
        "Q7: Write down the steps involved in hypothesis testing."
      ],
      "metadata": {
        "id": "Jl11thyDI02g"
      }
    },
    {
      "cell_type": "markdown",
      "source": [
        "Define\n",
        "𝐻\n",
        "0\n",
        "H\n",
        "0\n",
        "​\n",
        "  and\n",
        "𝐻\n",
        "𝐴\n",
        "H\n",
        "A\n",
        "​\n",
        " .\n",
        "Select significance level (\n",
        "𝛼\n",
        "α).\n",
        "Choose test statistic.\n",
        "Compute test statistic and p-value.\n",
        "Compare p-value with\n",
        "𝛼\n",
        "α and make a decision."
      ],
      "metadata": {
        "id": "Bj4LZSNXKCRV"
      }
    },
    {
      "cell_type": "markdown",
      "source": [
        "Q8. Define p-value and explain its significance in hypothesis testing."
      ],
      "metadata": {
        "id": "qHmllIFHI48e"
      }
    },
    {
      "cell_type": "markdown",
      "source": [
        "The probability of obtaining a result as extreme as the observed, assuming\n",
        "𝐻\n",
        "0\n",
        "H\n",
        "0\n",
        "​\n",
        "  is true.\n",
        "\n",
        "Significance: A small p-value (\n",
        "<\n",
        "𝛼\n",
        "<α) indicates strong evidence against\n",
        "𝐻\n",
        "0\n",
        "H\n",
        "0\n",
        "​\n",
        " ."
      ],
      "metadata": {
        "id": "iu-l-UXxKFmC"
      }
    },
    {
      "cell_type": "markdown",
      "source": [
        "Q9. Generate a Student's t-distribution plot using Python's matplotlib library, with the degrees of freedom parameter set to 10."
      ],
      "metadata": {
        "id": "Uy4JWXwxI7xC"
      }
    },
    {
      "cell_type": "code",
      "source": [
        "import matplotlib.pyplot as plt\n",
        "import numpy as np\n",
        "import scipy.stats as stats\n",
        "\n",
        "x = np.linspace(-4, 4, 1000)\n",
        "y = stats.t.pdf(x, df=10)\n",
        "\n",
        "plt.plot(x, y, label=\"t-distribution (df=10)\")\n",
        "plt.legend()\n",
        "plt.show()\n"
      ],
      "metadata": {
        "colab": {
          "base_uri": "https://localhost:8080/",
          "height": 430
        },
        "id": "4AMcDrEpKKaN",
        "outputId": "1aac5f1c-d669-41ca-fe45-e542176d8853"
      },
      "execution_count": 3,
      "outputs": [
        {
          "output_type": "display_data",
          "data": {
            "text/plain": [
              "<Figure size 640x480 with 1 Axes>"
            ],
            "image/png": "[encoded data removed]"
          },
          "metadata": {}
        }
      ]
    },
    {
      "cell_type": "markdown",
      "source": [
        "Q10. Write a Python program to calculate the two-sample t-test for independent samples, given two\n",
        "random samples of equal size and a null hypothesis that the population means are equal."
      ],
      "metadata": {
        "id": "Hi4tgnmQI_1z"
      }
    },
    {
      "cell_type": "code",
      "source": [
        "from scipy.stats import ttest_ind\n",
        "\n",
        "def two_sample_ttest(sample1, sample2):\n",
        "    t_stat, p_val = ttest_ind(sample1, sample2, equal_var=False)\n",
        "    return t_stat, p_val\n"
      ],
      "metadata": {
        "id": "L5OmFWViKNuT"
      },
      "execution_count": 4,
      "outputs": []
    },
    {
      "cell_type": "markdown",
      "source": [
        "Q11: What is Student’s t distribution? When to use the t-Distribution."
      ],
      "metadata": {
        "id": "_pQV0ZgaJDDT"
      }
    },
    {
      "cell_type": "markdown",
      "source": [
        "Used when population variance is unknown, and sample size is small."
      ],
      "metadata": {
        "id": "ZNVoP8x1KRcD"
      }
    },
    {
      "cell_type": "markdown",
      "source": [
        "Q12: What is t-statistic? State the formula for t-statistic."
      ],
      "metadata": {
        "id": "hxWxWpKKJFW6"
      }
    },
    {
      "cell_type": "markdown",
      "source": [
        "t=\n",
        "s/\n",
        "n\n",
        "​\n",
        "\n",
        "X\n",
        "ˉ\n",
        " −μ\n",
        "​\n",
        "\n",
        "where\n",
        "𝑋\n",
        "ˉ\n",
        "X\n",
        "ˉ\n",
        "  is the sample mean,\n",
        "𝜇\n",
        "μ is the population mean,\n",
        "𝑠\n",
        "s is the sample standard deviation, and\n",
        "𝑛\n",
        "n is the sample size."
      ],
      "metadata": {
        "id": "FJQepdXHKUTB"
      }
    },
    {
      "cell_type": "markdown",
      "source": [
        "Q13. A coffee shop owner wants to estimate the average daily revenue for their shop. They take a random\n",
        "sample of 50 days and find the sample mean revenue to be $500 with a standard deviation of $50.\n",
        "Estimate the population mean revenue with a 95% confidence interval."
      ],
      "metadata": {
        "id": "9nkq09LOJILP"
      }
    },
    {
      "cell_type": "markdown",
      "source": [
        "CI=500±1.96×\n",
        "50\n",
        "​\n",
        "\n",
        "50\n",
        "​\n"
      ],
      "metadata": {
        "id": "5qf2EMb5KW69"
      }
    },
    {
      "cell_type": "markdown",
      "source": [
        "Q14. A researcher hypothesizes that a new drug will decrease blood pressure by 10 mmHg. They conduct a\n",
        "clinical trial with 100 patients and find that the sample mean decrease in blood pressure is 8 mmHg with a\n",
        "standard deviation of 3 mmHg. Test the hypothesis with a significance level of 0.05.\n"
      ],
      "metadata": {
        "id": "sH6pAyHcJLhZ"
      }
    },
    {
      "cell_type": "markdown",
      "source": [
        "t=\n",
        "3/\n",
        "100\n",
        "​\n",
        "\n",
        "8−10\n",
        "​\n",
        "\n",
        "Compare with critical value at\n",
        "𝛼\n",
        "=\n",
        "0.05\n",
        "α=0.05."
      ],
      "metadata": {
        "id": "G2-oMDq0KZPA"
      }
    },
    {
      "cell_type": "markdown",
      "source": [
        "Q15. An electronics company produces a certain type of product with a mean weight of 5 pounds and a\n",
        "standard deviation of 0.5 pounds. A random sample of 25 products is taken, and the sample mean weight\n",
        "is found to be 4.8 pounds. Test the hypothesis that the true mean weight of the products is less than 5\n",
        "pounds with a significance level of 0.01.\n"
      ],
      "metadata": {
        "id": "zKoDv-2IJNWN"
      }
    },
    {
      "cell_type": "markdown",
      "source": [
        "t=\n",
        "0.5/\n",
        "25\n",
        "​\n",
        "\n",
        "4.8−5\n",
        "​\n",
        "\n",
        "Compare with\n",
        "𝛼\n",
        "=\n",
        "0.01\n",
        "α=0.01."
      ],
      "metadata": {
        "id": "a3u8Y-6wKbwd"
      }
    },
    {
      "cell_type": "markdown",
      "source": [
        "Q16. Two groups of students are given different study materials to prepare for a test. The first group (n1 =\n",
        "30) has a mean score of 80 with a standard deviation of 10, and the second group (n2 = 40) has a mean\n",
        "score of 75 with a standard deviation of 8. Test the hypothesis that the population means for the two\n",
        "groups are equal with a significance level of 0.01.\n"
      ],
      "metadata": {
        "id": "Yi-gyWXcJQMP"
      }
    },
    {
      "cell_type": "markdown",
      "source": [
        "t=\n",
        "n\n",
        "1\n",
        "​\n",
        "\n",
        "s\n",
        "1\n",
        "2\n",
        "​\n",
        "\n",
        "​\n",
        " +\n",
        "n\n",
        "2\n",
        "​\n",
        "\n",
        "s\n",
        "2\n",
        "2\n",
        "​\n",
        "\n",
        "​\n",
        "\n",
        "​\n",
        "\n",
        "X\n",
        "1\n",
        "​\n",
        "\n",
        "ˉ\n",
        "​\n",
        " −\n",
        "X\n",
        "2\n",
        "​\n",
        "\n",
        "ˉ\n",
        "​\n",
        "\n",
        "​\n",
        "\n",
        "with given values."
      ],
      "metadata": {
        "id": "igQx9mv9Kdvl"
      }
    },
    {
      "cell_type": "markdown",
      "source": [
        "Q17. A marketing company wants to estimate the average number of ads watched by viewers during a TV\n",
        "program. They take a random sample of 50 viewers and find that the sample mean is 4 with a standard\n",
        "deviation of 1.5. Estimate the population mean with a 99% confidence interval."
      ],
      "metadata": {
        "id": "3tT81nfmJSL-"
      }
    },
    {
      "cell_type": "markdown",
      "source": [
        "CI=4±2.576×\n",
        "50\n",
        "​\n",
        "\n",
        "1.5\n",
        "​\n"
      ],
      "metadata": {
        "id": "g8YQnTicKfwv"
      }
    }
  ]
}
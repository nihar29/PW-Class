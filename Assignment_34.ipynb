{
  "nbformat": 4,
  "nbformat_minor": 0,
  "metadata": {
    "colab": {
      "provenance": []
    },
    "kernelspec": {
      "name": "python3",
      "display_name": "Python 3"
    },
    "language_info": {
      "name": "python"
    }
  },
  "cells": [
    {
      "cell_type": "markdown",
      "source": [
        "Q1. Explain the assumptions required to use ANOVA and provide examples of violations that could impact\n",
        "the validity of the results."
      ],
      "metadata": {
        "id": "WEpdizisRNFj"
      }
    },
    {
      "cell_type": "markdown",
      "source": [
        "Q2. What are the three types of ANOVA, and in what situations would each be used?\n"
      ],
      "metadata": {
        "id": "e8TjC4vGRZMz"
      }
    },
    {
      "cell_type": "markdown",
      "source": [
        "Q3. What is the partitioning of variance in ANOVA, and why is it important to understand this concept?\n"
      ],
      "metadata": {
        "id": "KhRGrXsuRdiy"
      }
    },
    {
      "cell_type": "markdown",
      "source": [
        "Q4. How would you calculate the total sum of squares (SST), explained sum of squares (SSE), and residual\n",
        "sum of squares (SSR) in a one-way ANOVA using Python?\n"
      ],
      "metadata": {
        "id": "ijR3EGX-Rgz7"
      }
    },
    {
      "cell_type": "markdown",
      "source": [
        "Q5. In a two-way ANOVA, how would you calculate the main effects and interaction effects using Python?\n"
      ],
      "metadata": {
        "id": "0Jn8SU7tRjSi"
      }
    },
    {
      "cell_type": "markdown",
      "source": [
        "Q6. Suppose you conducted a one-way ANOVA and obtained an F-statistic of 5.23 and a p-value of 0.02.\n",
        "What can you conclude about the differences between the groups, and how would you interpret these\n",
        "results?\n"
      ],
      "metadata": {
        "id": "7I492Y43Rlsl"
      }
    },
    {
      "cell_type": "markdown",
      "source": [
        "Q7. In a repeated measures ANOVA, how would you handle missing data, and what are the potential\n",
        "consequences of using different methods to handle missing data?\n"
      ],
      "metadata": {
        "id": "y_wthsRdRo3O"
      }
    },
    {
      "cell_type": "markdown",
      "source": [
        "Q8. What are some common post-hoc tests used after ANOVA, and when would you use each one? Provide\n",
        "an example of a situation where a post-hoc test might be necessary.\n"
      ],
      "metadata": {
        "id": "fR3UUO51RrGW"
      }
    },
    {
      "cell_type": "markdown",
      "source": [
        "Q9. A researcher wants to compare the mean weight loss of three diets: A, B, and C. They collect data from\n",
        "50 participants who were randomly assigned to one of the diets. Conduct a one-way ANOVA using Python\n",
        "to determine if there are any significant differences between the mean weight loss of the three diets.\n",
        "Report the F-statistic and p-value, and interpret the results.\n"
      ],
      "metadata": {
        "id": "30LSIi8YRtgM"
      }
    },
    {
      "cell_type": "markdown",
      "source": [
        "Q10. A company wants to know if there are any significant differences in the average time it takes to\n",
        "complete a task using three different software programs: Program A, Program B, and Program C. They\n",
        "randomly assign 30 employees to one of the programs and record the time it takes each employee to\n",
        "complete the task. Conduct a two-way ANOVA using Python to determine if there are any main effects or\n",
        "interaction effects between the software programs and employee experience level (novice vs.\n",
        "experienced). Report the F-statistics and p-values, and interpret the results.\n"
      ],
      "metadata": {
        "id": "8wuPosNuRwQn"
      }
    },
    {
      "cell_type": "markdown",
      "source": [
        "Q11. An educational researcher is interested in whether a new teaching method improves student test\n",
        "scores. They randomly assign 100 students to either the control group (traditional teaching method) or the\n",
        "experimental group (new teaching method) and administer a test at the end of the semester. Conduct a\n",
        "two-sample t-test using Python to determine if there are any significant differences in test scores\n",
        "between the two groups. If the results are significant, follow up with a post-hoc test to determine which\n",
        "group(s) differ significantly from each other.\n"
      ],
      "metadata": {
        "id": "u0H9q4znRyp6"
      }
    },
    {
      "cell_type": "markdown",
      "source": [
        "Q12. A researcher wants to know if there are any significant differences in the average daily sales of three\n",
        "retail stores: Store A, Store B, and Store C. They randomly select 30 days and record the sales for each store\n",
        "on those days. Conduct a repeated measures ANOVA using Python to determine if there are any\n",
        "\n",
        "significant differences in sales between the three stores. If the results are significant, follow up with a post-\n",
        "hoc test to determine which store(s) differ significantly from each other."
      ],
      "metadata": {
        "id": "DxtDf2laR0pj"
      }
    },
    {
      "cell_type": "code",
      "source": [
        "import numpy as np\n",
        "import scipy.stats as stats\n",
        "import pandas as pd\n",
        "import matplotlib.pyplot as plt\n",
        "import seaborn as sns\n",
        "from statsmodels.formula.api import ols\n",
        "import statsmodels.api as sm\n",
        "\n",
        "# Q1: Assumptions of ANOVA (No code needed)\n",
        "\n",
        "# Q2: Three types of ANOVA (No code needed)\n",
        "\n",
        "# Q3: Partitioning variance in ANOVA (No code needed)\n",
        "\n",
        "# Q4: Calculate SST, SSE, SSR in one-way ANOVA\n",
        "\n",
        "def calculate_anova_sumsquares(data, dependent_var, independent_var):\n",
        "    model = ols(f'{dependent_var} ~ C({independent_var})', data=data).fit()\n",
        "    anova_table = sm.stats.anova_lm(model, typ=2)\n",
        "    return anova_table\n",
        "\n",
        "# Q5: Calculate main effects and interaction effects in two-way ANOVA\n",
        "\n",
        "def two_way_anova(data, dependent_var, factor1, factor2):\n",
        "    model = ols(f'{dependent_var} ~ C({factor1}) + C({factor2}) + C({factor1}):C({factor2})', data=data).fit()\n",
        "    anova_table = sm.stats.anova_lm(model, typ=2)\n",
        "    return anova_table\n",
        "\n",
        "# Q6: Interpretation of ANOVA results (No code needed)\n",
        "\n",
        "# Q7: Handling missing data in repeated measures ANOVA (No code needed)\n",
        "\n",
        "# Q8: Common post-hoc tests (Tukey HSD)\n",
        "\n",
        "def posthoc_tukey(data, dependent_var, independent_var):\n",
        "    from statsmodels.stats.multicomp import pairwise_tukeyhsd\n",
        "    tukey = pairwise_tukeyhsd(endog=data[dependent_var], groups=data[independent_var], alpha=0.05)\n",
        "    return tukey.summary()\n",
        "\n",
        "# Q9: One-way ANOVA for diet comparison\n",
        "\n",
        "def one_way_anova(data, dependent_var, independent_var):\n",
        "    model = ols(f'{dependent_var} ~ C({independent_var})', data=data).fit()\n",
        "    anova_table = sm.stats.anova_lm(model, typ=2)\n",
        "    return anova_table\n",
        "\n",
        "# Q10: Two-way ANOVA for software performance comparison\n",
        "\n",
        "def two_way_anova_interaction(data, dependent_var, factor1, factor2):\n",
        "    model = ols(f'{dependent_var} ~ C({factor1}) * C({factor2})', data=data).fit()\n",
        "    anova_table = sm.stats.anova_lm(model, typ=2)\n",
        "    return anova_table\n",
        "\n",
        "# Q11: Two-sample t-test for new teaching method\n",
        "\n",
        "def two_sample_ttest(data, group_col, value_col):\n",
        "    group1 = data[data[group_col] == data[group_col].unique()[0]][value_col]\n",
        "    group2 = data[data[group_col] == data[group_col].unique()[1]][value_col]\n",
        "    return stats.ttest_ind(group1, group2)\n",
        "\n",
        "# Q12: Repeated measures ANOVA for store sales\n",
        "\n",
        "def repeated_measures_anova(data, subject_col, time_col, value_col):\n",
        "    model = ols(f'{value_col} ~ C({time_col}) + C({subject_col})', data=data).fit()\n",
        "    anova_table = sm.stats.anova_lm(model, typ=2)\n",
        "    return anova_table\n"
      ],
      "metadata": {
        "id": "Xqqob7qgSM3N"
      },
      "execution_count": 1,
      "outputs": []
    }
  ]
}
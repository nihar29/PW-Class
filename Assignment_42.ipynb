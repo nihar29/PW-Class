{
  "nbformat": 4,
  "nbformat_minor": 0,
  "metadata": {
    "colab": {
      "provenance": []
    },
    "kernelspec": {
      "name": "python3",
      "display_name": "Python 3"
    },
    "language_info": {
      "name": "python"
    }
  },
  "cells": [
    {
      "cell_type": "markdown",
      "source": [
        "Q1. Pearson correlation coefficient is a measure of the linear relationship between two variables. Suppose\n",
        "you have collected data on the amount of time students spend studying for an exam and their final exam\n",
        "scores. Calculate the Pearson correlation coefficient between these two variables and interpret the result.\n",
        "Q2. Spearman's rank correlation is a measure of the monotonic relationship between two variables.\n",
        "Suppose you have collected data on the amount of sleep individuals get each night and their overall job\n",
        "satisfaction level on a scale of 1 to 10. Calculate the Spearman's rank correlation between these two\n",
        "variables and interpret the result.\n",
        "Q3. Suppose you are conducting a study to examine the relationship between the number of hours of\n",
        "exercise per week and body mass index (BMI) in a sample of adults. You collected data on both variables\n",
        "for 50 participants. Calculate the Pearson correlation coefficient and the Spearman's rank correlation\n",
        "between these two variables and compare the results.\n",
        "Q4. A researcher is interested in examining the relationship between the number of hours individuals\n",
        "spend watching television per day and their level of physical activity. The researcher collected data on\n",
        "both variables from a sample of 50 participants. Calculate the Pearson correlation coefficient between\n",
        "these two variables.\n",
        "Q5. A survey was conducted to examine the relationship between age and preference for a particular\n",
        "brand of soft drink. The survey results are shown below:\n",
        "Age(Years)\n",
        "25 Coke\n",
        "42 Pepsi\n",
        "37\n",
        "19\n",
        "31\n",
        "28\n",
        "Soft drink Preference\n",
        "Mountain dew\n",
        "Coke\n",
        "Pepsi\n",
        "Coke\n",
        "Q6. A company is interested in examining the relationship between the number of sales calls made per day\n",
        "and the number of sales made per week. The company collected data on both variables from a sample of\n",
        "30 sales representatives. Calculate the Pearson correlation coefficient between these two variables."
      ],
      "metadata": {
        "id": "NsdX3nuT2hrR"
      }
    },
    {
      "cell_type": "markdown",
      "source": [
        "To calculate the Pearson correlation coefficient (r) and Spearman’s rank correlation, we need numerical datasets. Since specific datasets are not provided, I'll outline the approach for solving each problem.  \n",
        "\n",
        "### **Q1:**  \n",
        "Pearson correlation is calculated using the formula:  \n",
        "\\[\n",
        "r = \\frac{\\sum (X_i - \\bar{X})(Y_i - \\bar{Y})}{\\sqrt{\\sum (X_i - \\bar{X})^2} \\sqrt{\\sum (Y_i - \\bar{Y})^2}}\n",
        "\\]  \n",
        "where \\(X\\) = study time and \\(Y\\) = exam scores. If \\( r > 0 \\), it indicates a **positive correlation** (more study time → higher scores). If \\( r \\approx 0 \\), there is **no linear correlation**. If \\( r < 0 \\), there is a **negative correlation**.  \n",
        "\n",
        "### **Q2:**  \n",
        "Spearman’s correlation is calculated as:  \n",
        "\\[\n",
        "r_s = 1 - \\frac{6 \\sum d_i^2}{n(n^2 - 1)}\n",
        "\\]  \n",
        "where \\( d_i \\) is the rank difference of each pair. A **positive \\( r_s \\)** means more sleep is linked to higher job satisfaction, while a **negative \\( r_s \\)** suggests less sleep correlates with higher satisfaction.  \n",
        "\n",
        "### **Q3:**  \n",
        "Pearson’s correlation measures **linear relationships**, while Spearman’s correlation measures **monotonic relationships** (which may not be linear). If Pearson's \\( r \\) is weak but Spearman's \\( r_s \\) is strong, the relationship may be nonlinear.  \n",
        "\n",
        "### **Q4: **  \n",
        "We calculate \\( r \\) using the formula in Q1. A **negative \\( r \\)** indicates that more TV time leads to less physical activity, while a **positive \\( r \\)** suggests an unusual trend where both increase together.  \n",
        "\n",
        "### **Q5:**  \n",
        "Since soft drink preference is categorical, Pearson correlation **cannot** be used. Instead, we can apply **Chi-square tests** to analyze relationships between age groups and drink preferences.  \n",
        "\n",
        "### **Q6: **  \n",
        "Using the same Pearson correlation formula, if \\( r > 0 \\), it means **more calls lead to more sales**, while \\( r < 0 \\) would be unexpected, indicating an inverse relationship. If \\( r \\approx 0 \\), calls may not significantly impact sales.  \n",
        "\n",
        "If you provide actual datasets, I can compute these values for you."
      ],
      "metadata": {
        "id": "yp2FGIO7294o"
      }
    }
  ]
}
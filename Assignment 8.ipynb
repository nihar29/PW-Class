{
 "cells": [
  {
   "cell_type": "markdown",
   "id": "5306cb85-8aab-483d-b3e9-a31e7a13a586",
   "metadata": {},
   "source": [
    "Question 1"
   ]
  },
  {
   "cell_type": "markdown",
   "id": "fd1eeedc-2836-4dce-9140-9b21628bef38",
   "metadata": {},
   "source": [
    "Exceptions in Python:\n",
    "In Python, an exception is an event that occurs during the execution of a program that disrupts the normal flow of instructions. When an exception is raised, the program's execution is halted, and Python tries to find a matching exception handler to deal with the situation.\n"
   ]
  },
  {
   "cell_type": "code",
   "execution_count": 1,
   "id": "d3c297a6-c66a-46a7-9716-14dcb20bdf63",
   "metadata": {},
   "outputs": [
    {
     "name": "stdout",
     "output_type": "stream",
     "text": [
      "An error occurred: division by zero\n"
     ]
    }
   ],
   "source": [
    "\n",
    "try:\n",
    "    result = 10 / 0  # This will raise a ZeroDivisionError\n",
    "except ZeroDivisionError as e:\n",
    "    print(f\"An error occurred: {e}\")\n"
   ]
  },
  {
   "cell_type": "markdown",
   "id": "1fbe17ef-43e1-46fd-8306-a0ed917c2af4",
   "metadata": {},
   "source": [
    "\n",
    "Syntax Errors:\n",
    "Syntax errors, on the other hand, are not exceptions but rather mistakes in the code's structure."
   ]
  },
  {
   "cell_type": "code",
   "execution_count": null,
   "id": "e7e427a3-3806-45e2-9523-361fd6be5048",
   "metadata": {},
   "outputs": [],
   "source": [
    "if x  # Missing a colon\n",
    "    print(\"Hello, World!\")\n"
   ]
  },
  {
   "cell_type": "markdown",
   "id": "3f47ab41-15c5-424a-8a8d-05b16ac194f3",
   "metadata": {},
   "source": [
    "Question 2"
   ]
  },
  {
   "cell_type": "markdown",
   "id": "a15ada66-ebfd-4ef1-8a58-875ffb1a0c2a",
   "metadata": {},
   "source": [
    "When an exception is not handled in Python, it propagates up the call stack until it reaches the top-level of the program or an exception handler (if there is one), and the program terminates.\n"
   ]
  },
  {
   "cell_type": "code",
   "execution_count": null,
   "id": "24c185ec-c892-4aee-9c30-40bccab51268",
   "metadata": {},
   "outputs": [],
   "source": [
    "def divide(a, b):\n",
    "    return a / b\n",
    "\n",
    "try:\n",
    "    result = divide(10, 0)  # This will raise a ZeroDivisionError\n",
    "except TypeError as e:\n",
    "    print(f\"An error occurred: {e}\")\n",
    "\n",
    "print(\"This line will not be executed due to the unhandled exception.\")\n"
   ]
  },
  {
   "cell_type": "markdown",
   "id": "ae5975cc-95f9-4f75-a3c9-334694591368",
   "metadata": {},
   "source": [
    "Question 3"
   ]
  },
  {
   "cell_type": "markdown",
   "id": "7cd2f743-66f6-44f6-abcd-1614889c5cee",
   "metadata": {},
   "source": [
    "In Python, try and except statements are used to handle exceptions. These statements allow you to write code that may potentially raise an exception within a try block and provide a mechanism to catch and handle the exception in an except block."
   ]
  },
  {
   "cell_type": "markdown",
   "id": "8ec54714-5766-4fe1-b279-2016dbf8dd97",
   "metadata": {},
   "source": [
    "Question 4"
   ]
  },
  {
   "cell_type": "markdown",
   "id": "51a9d4fd-5906-4172-90de-acb5b144396c",
   "metadata": {},
   "source": [
    "a. try and else:\n",
    "In Python, the try block is used to enclose code that might raise exceptions, and the else block allows you to specify code that should run if no exceptions are raised within the try block"
   ]
  },
  {
   "cell_type": "code",
   "execution_count": 2,
   "id": "c2e90522-e305-4f2c-aa6c-eec39add4a28",
   "metadata": {},
   "outputs": [
    {
     "name": "stdout",
     "output_type": "stream",
     "text": [
      "No exceptions were raised.\n",
      "Result: 5.0\n"
     ]
    }
   ],
   "source": [
    "try:\n",
    "    result = 10 / 2  # This should not raise an exception\n",
    "except ZeroDivisionError as e:\n",
    "    print(f\"An error occurred: {e}\")\n",
    "else:\n",
    "    print(\"No exceptions were raised.\")\n",
    "    print(f\"Result: {result}\")\n"
   ]
  },
  {
   "cell_type": "markdown",
   "id": "304554c2-db37-4634-a5ec-9af898cfadb1",
   "metadata": {},
   "source": [
    "b. finally:\n",
    "The finally block is used to specify code that will always run, whether an exception is raised or not. It's commonly used for cleanup tasks or releasing resources, such as closing files or network connections."
   ]
  },
  {
   "cell_type": "code",
   "execution_count": null,
   "id": "d1e23cc2-3faf-410a-9eba-373117e69d64",
   "metadata": {},
   "outputs": [],
   "source": [
    "try:\n",
    "    file = open(\"example.txt\", \"r\")\n",
    "    data = file.read()\n",
    "except FileNotFoundError as e:\n",
    "    print(f\"File not found: {e}\")\n",
    "else:\n",
    "    print(f\"File contents: {data}\")\n",
    "finally:\n",
    "    file.close()  # This will always run, ensuring the file is closed even if an exception is raised\n"
   ]
  },
  {
   "cell_type": "markdown",
   "id": "021ac026-f327-4bd2-b8b8-b51e7ff1e1b0",
   "metadata": {},
   "source": [
    "c. raise:\n",
    "The raise statement is used to raise a specific exception explicitly in your code. You can raise built-in exceptions or create custom exceptions by subclassing the Exception class."
   ]
  },
  {
   "cell_type": "code",
   "execution_count": null,
   "id": "285a92ae-38ad-4c98-8565-195c2abe85b7",
   "metadata": {},
   "outputs": [],
   "source": [
    "class CustomError(Exception):\n",
    "    def __init__(self, message):\n",
    "        super().__init__(message)\n",
    "\n",
    "try:\n",
    "    age = -5\n",
    "    if age < 0:\n",
    "        raise CustomError(\"Age cannot be negative\")\n",
    "except CustomError as e:\n",
    "    print(f\"Custom error: {e}\")\n"
   ]
  },
  {
   "cell_type": "markdown",
   "id": "c29e5d51-9e0f-4aea-b5da-e844be2673c7",
   "metadata": {},
   "source": [
    "Question 5"
   ]
  },
  {
   "cell_type": "markdown",
   "id": "a35c4a74-62f3-4122-98fd-7c70c9b02e4a",
   "metadata": {},
   "source": [
    "Custom exceptions in Python are user-defined exceptions that allow you to create your own specialized exception types"
   ]
  },
  {
   "cell_type": "code",
   "execution_count": 4,
   "id": "4e2a8d51-2cfc-47af-8084-85150155dc4f",
   "metadata": {},
   "outputs": [
    {
     "name": "stdout",
     "output_type": "stream",
     "text": [
      "Input validation error: Invalid input in field 'age': Age cannot be negative\n"
     ]
    }
   ],
   "source": [
    "class InvalidInputError(Exception):\n",
    "    \"\"\"Custom exception for invalid input.\"\"\"\n",
    "    def __init__(self, field, message):\n",
    "        super().__init__(f\"Invalid input in field '{field}': {message}\")\n",
    "\n",
    "def validate_age(age):\n",
    "    if age < 0:\n",
    "        raise InvalidInputError(\"age\", \"Age cannot be negative\")\n",
    "\n",
    "try:\n",
    "    user_age = -5\n",
    "    validate_age(user_age)\n",
    "except InvalidInputError as e:\n",
    "    print(f\"Input validation error: {e}\")\n"
   ]
  },
  {
   "cell_type": "markdown",
   "id": "2f5fdd42-c5c4-4f60-8f13-518b198e8939",
   "metadata": {},
   "source": [
    "Question 6"
   ]
  },
  {
   "cell_type": "code",
   "execution_count": 5,
   "id": "4bd526e0-774a-4199-bc4e-440d19d7de5f",
   "metadata": {},
   "outputs": [],
   "source": [
    "class CustomError(Exception):\n",
    "    def __init__(self, message):\n",
    "        super().__init__(message)\n",
    "\n",
    "    def additional_method(self):\n",
    "        # You can add custom methods to your exception class\n",
    "        return \"This is a custom method for handling the exception.\"\n"
   ]
  },
  {
   "cell_type": "code",
   "execution_count": 6,
   "id": "7d96d808-1bd0-4dbc-b0a4-12efaba945cd",
   "metadata": {},
   "outputs": [
    {
     "name": "stdout",
     "output_type": "stream",
     "text": [
      "Custom error occurred: Value cannot be negative\n",
      "Additional info: This is a custom method for handling the exception.\n"
     ]
    }
   ],
   "source": [
    "def perform_operation(value):\n",
    "    if value < 0:\n",
    "        raise CustomError(\"Value cannot be negative\")\n",
    "\n",
    "try:\n",
    "    input_value = -5\n",
    "    perform_operation(input_value)\n",
    "except CustomError as e:\n",
    "    print(f\"Custom error occurred: {e}\")\n",
    "    additional_info = e.additional_method()\n",
    "    print(f\"Additional info: {additional_info}\")\n"
   ]
  },
  {
   "cell_type": "code",
   "execution_count": null,
   "id": "a51d52b2-0928-4f78-aa45-f93eabf9272c",
   "metadata": {},
   "outputs": [],
   "source": []
  }
 ],
 "metadata": {
  "kernelspec": {
   "display_name": "Python 3 (ipykernel)",
   "language": "python",
   "name": "python3"
  },
  "language_info": {
   "codemirror_mode": {
    "name": "ipython",
    "version": 3
   },
   "file_extension": ".py",
   "mimetype": "text/x-python",
   "name": "python",
   "nbconvert_exporter": "python",
   "pygments_lexer": "ipython3",
   "version": "3.10.8"
  }
 },
 "nbformat": 4,
 "nbformat_minor": 5
}

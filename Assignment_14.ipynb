{
  "nbformat": 4,
  "nbformat_minor": 0,
  "metadata": {
    "colab": {
      "provenance": []
    },
    "kernelspec": {
      "name": "python3",
      "display_name": "Python 3"
    },
    "language_info": {
      "name": "python"
    }
  },
  "cells": [
    {
      "cell_type": "markdown",
      "source": [
        "Q1. What is an API? Give an example, where an API is used in real life."
      ],
      "metadata": {
        "id": "xyLEfSfUE2bD"
      }
    },
    {
      "cell_type": "markdown",
      "source": [
        "n API (Application Programming Interface) is a set of rules and protocols that allow different software applications to communicate with each other. It defines how requests and responses are structured, and what data can be accessed or manipulated. APIs enable developers to use certain functionalities of a service or platform without needing to understand its internal workings.\n",
        "\n",
        "Common example is when you use a payment gateway (like PayPal or Stripe) for online transactions. The e-commerce website uses the API provided by the payment service to securely process payments."
      ],
      "metadata": {
        "id": "Ck0HCdRJE5dB"
      }
    },
    {
      "cell_type": "markdown",
      "source": [
        "Q2. Give advantages and disadvantages of using API."
      ],
      "metadata": {
        "id": "kzpea8UxFD2D"
      }
    },
    {
      "cell_type": "markdown",
      "source": [
        "APIs simplify development by allowing integration of third-party services, reducing redundancy, and promoting reusability. They enable interoperability between systems, ensure secure data access, and support scalability by connecting multiple services. APIs also make maintenance easier as updates don’t always require changes in client applications.\n",
        "\n",
        "APIs have disadvantages, such as dependency on external services, security risks, and potential data privacy issues. They can be complex to integrate and may have rate limits that restrict usage. Managing multiple API integrations requires ongoing monitoring and maintenance to ensure compatibility and functionality."
      ],
      "metadata": {
        "id": "-bJNMovHFGxh"
      }
    },
    {
      "cell_type": "markdown",
      "source": [
        "Q3. What is a Web API? Differentiate between API and Web API."
      ],
      "metadata": {
        "id": "ldJKIE6HFTz4"
      }
    },
    {
      "cell_type": "markdown",
      "source": [
        "A Web API is an API specifically designed for communication over the web, typically using HTTP or HTTPS protocols. It enables different applications to interact with each other over the internet, using standardized methods such as GET, POST, PUT, DELETE, etc. Web APIs are widely used in web development to allow clients (like web browsers, mobile apps) to access server-side resources and services.\n",
        "\n",
        "The key difference between API and Web API is that while an API is a general term for any interface that allows two software applications to communicate, a Web API specifically refers to APIs that are accessible via the web using HTTP-based protocols. APIs can be used for local or system-based communication (e.g., between components of the same application), while Web APIs are specifically designed for web-based communication and often use the internet for transferring data."
      ],
      "metadata": {
        "id": "XafUJSd1FWsJ"
      }
    },
    {
      "cell_type": "markdown",
      "source": [
        "Q4. Explain REST and SOAP Architecture. Mention shortcomings of SOAP."
      ],
      "metadata": {
        "id": "lIy5GUmGFcIq"
      }
    },
    {
      "cell_type": "markdown",
      "source": [
        "REST (Representational State Transfer) is an architectural style that uses standard HTTP methods like GET, POST, PUT, and DELETE for communication. It is stateless, meaning each request must contain all necessary information. RESTful APIs are simple, lightweight, and commonly use JSON for data exchange. They are popular due to their ease of use and scalability, especially for web services.\n",
        "\n",
        "SOAP (Simple Object Access Protocol) is a protocol for exchanging XML-based messages over various network protocols like HTTP, SMTP, and JMS. SOAP is more rigid and requires strict message formatting, security, and error handling. It supports WS-* standards for enterprise-level functionalities such as security, reliability, and transactions.\n",
        "\n",
        "Shortcomings of SOAP include its complexity due to XML message parsing, slower performance compared to REST, and its heavyweight nature because of the additional tools required for XML processing. SOAP is also less flexible as it is limited to XML and does not natively support JSON. Additionally, it has limited browser support compared to RESTful APIs.\n",
        "\n",
        "\n",
        "\n",
        "\n",
        "\n",
        "\n",
        "\n"
      ],
      "metadata": {
        "id": "86qKQ1XaFezS"
      }
    },
    {
      "cell_type": "markdown",
      "source": [
        "Q5. Differentiate between REST and SOAP."
      ],
      "metadata": {
        "id": "w0-lpYpbFw2K"
      }
    },
    {
      "cell_type": "markdown",
      "source": [
        "REST and SOAP are both protocols used for building web services, but they differ in several ways. REST is an architectural style that uses standard HTTP methods such as GET, POST, PUT, and DELETE to perform operations on resources. It is lightweight, flexible, and uses data formats like JSON or XML, with JSON being more common. REST is stateless, meaning each request contains all necessary information, and it is typically faster and easier to implement.\n",
        "\n",
        "SOAP, on the other hand, is a protocol that uses XML for message formatting and can operate over different transport protocols like HTTP, SMTP, or JMS. SOAP is more rigid and follows a strict set of standards for message structure, security, and error handling. It supports advanced features like transaction management, security, and reliability, making it suitable for enterprise-level applications."
      ],
      "metadata": {
        "id": "-28wbs-gFzWx"
      }
    }
  ]
}
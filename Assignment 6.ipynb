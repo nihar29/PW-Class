{
 "cells": [
  {
   "cell_type": "code",
   "execution_count": 1,
   "id": "f051d018-e5bb-460e-a6f6-3dd6dc377f74",
   "metadata": {},
   "outputs": [],
   "source": [
    "#Qustion 1"
   ]
  },
  {
   "cell_type": "code",
   "execution_count": 2,
   "id": "4c8a6bd4-a72c-462f-98ab-5386a0dd9241",
   "metadata": {},
   "outputs": [],
   "source": [
    "'''\n",
    "   An object is simply a collection of data (variables) and methods (functions). Similarly, a class is a blueprint for that object.\n",
    "   \n",
    "'''\n",
    "\n",
    "class student :\n",
    "    \n",
    "    pass"
   ]
  },
  {
   "cell_type": "code",
   "execution_count": 3,
   "id": "f567ea90-6437-4865-a2d1-1bbfb276e374",
   "metadata": {},
   "outputs": [],
   "source": [
    "a = student()"
   ]
  },
  {
   "cell_type": "code",
   "execution_count": 4,
   "id": "a3780209-d5aa-4b85-9e0d-643ba78af92f",
   "metadata": {},
   "outputs": [
    {
     "data": {
      "text/plain": [
       "__main__.student"
      ]
     },
     "execution_count": 4,
     "metadata": {},
     "output_type": "execute_result"
    }
   ],
   "source": [
    "type(a)"
   ]
  },
  {
   "cell_type": "code",
   "execution_count": 5,
   "id": "a5d07ca1-64a4-4ef6-9abb-a047c9dca004",
   "metadata": {},
   "outputs": [],
   "source": [
    "#Qustion 2"
   ]
  },
  {
   "cell_type": "code",
   "execution_count": 6,
   "id": "3e3186f1-899b-4f35-9208-622501ad101f",
   "metadata": {},
   "outputs": [
    {
     "data": {
      "text/plain": [
       "'\\n    The Four Pillars of Object Oriented Programming\\n                Abstraction.\\n                Encapsulation.\\n                Inheritance.\\n                Polymorphism.\\n'"
      ]
     },
     "execution_count": 6,
     "metadata": {},
     "output_type": "execute_result"
    }
   ],
   "source": [
    "'''\n",
    "    The Four Pillars of Object Oriented Programming\n",
    "                Abstraction.\n",
    "                Encapsulation.\n",
    "                Inheritance.\n",
    "                Polymorphism.\n",
    "'''"
   ]
  },
  {
   "cell_type": "code",
   "execution_count": 7,
   "id": "773e45b8-8407-4c29-9c5f-f9d172f6c0ab",
   "metadata": {},
   "outputs": [],
   "source": [
    "#Question 3"
   ]
  },
  {
   "cell_type": "code",
   "execution_count": 8,
   "id": "8dfe98e6-d5dc-483b-9a93-db5a66267cad",
   "metadata": {},
   "outputs": [],
   "source": [
    "'''\n",
    "    The __init__ function is called every time an object is created from a class.\n",
    "'''\n",
    "\n",
    "class vehicle :\n",
    "    \n",
    "    def __init__(self, name_of_vehicle, max_speed, average_of_vehicle) :\n",
    "        self.name_of_vehicle = name_of_vehicle\n",
    "        self.max_speed = max_speed\n",
    "        self.average_of_vehicle = average_of_vehicle"
   ]
  },
  {
   "cell_type": "code",
   "execution_count": 10,
   "id": "f1e3429d-ecda-4520-8743-9057233091ac",
   "metadata": {},
   "outputs": [],
   "source": [
    "toyota = vehicle(\"Toyota\", 20, 2)"
   ]
  },
  {
   "cell_type": "code",
   "execution_count": 11,
   "id": "8aafff96-8970-46b0-86c0-c28dd5743e57",
   "metadata": {},
   "outputs": [
    {
     "data": {
      "text/plain": [
       "'Toyota'"
      ]
     },
     "execution_count": 11,
     "metadata": {},
     "output_type": "execute_result"
    }
   ],
   "source": [
    "toyota.name_of_vehicle"
   ]
  },
  {
   "cell_type": "code",
   "execution_count": 12,
   "id": "d1d9d9d9-f101-480e-8a7b-9c1e07f07887",
   "metadata": {},
   "outputs": [],
   "source": [
    "#Question 4"
   ]
  },
  {
   "cell_type": "code",
   "execution_count": 13,
   "id": "e0cc3936-adb7-493d-b500-83e8ae23f1f3",
   "metadata": {},
   "outputs": [
    {
     "data": {
      "text/plain": [
       "'\\n    The self variable is used to represent the instance of the class\\n'"
      ]
     },
     "execution_count": 13,
     "metadata": {},
     "output_type": "execute_result"
    }
   ],
   "source": [
    "'''\n",
    "    The self variable is used to represent the instance of the class\n",
    "'''"
   ]
  },
  {
   "cell_type": "code",
   "execution_count": 14,
   "id": "8e7d3a2c-793b-4883-9bbf-a2fa9071468a",
   "metadata": {},
   "outputs": [],
   "source": [
    "#Question 5"
   ]
  },
  {
   "cell_type": "code",
   "execution_count": 15,
   "id": "dbee798e-cbc9-40e0-8a68-c58f4675d105",
   "metadata": {},
   "outputs": [
    {
     "data": {
      "text/plain": [
       "'\\n    Inheritance is the process by which genetic information is passed on from parent to child.\\n'"
      ]
     },
     "execution_count": 15,
     "metadata": {},
     "output_type": "execute_result"
    }
   ],
   "source": [
    "'''\n",
    "    Inheritance is the process by which genetic information is passed on from parent to child.\n",
    "'''"
   ]
  },
  {
   "cell_type": "code",
   "execution_count": 16,
   "id": "0f331cee-8370-4936-8dfa-72397497b910",
   "metadata": {},
   "outputs": [],
   "source": [
    "#Multilabel Inheritance"
   ]
  },
  {
   "cell_type": "code",
   "execution_count": 17,
   "id": "0cc14d96-7b06-433f-b804-b21721ded515",
   "metadata": {},
   "outputs": [],
   "source": [
    "class class1 :\n",
    "    \n",
    "    def test_class1(self) :\n",
    "        return \"This is my class1\""
   ]
  },
  {
   "cell_type": "code",
   "execution_count": 18,
   "id": "70e079fc-8445-4bde-b4a4-f1d7ca4290c3",
   "metadata": {},
   "outputs": [],
   "source": [
    "class class2(class1) :\n",
    "    def test_class2(self) :\n",
    "        return \"This is my class2\""
   ]
  },
  {
   "cell_type": "code",
   "execution_count": 19,
   "id": "2c412547-d92b-4720-9199-79f18ac7a0f7",
   "metadata": {},
   "outputs": [],
   "source": [
    "class class3(class2) :\n",
    "    pass"
   ]
  },
  {
   "cell_type": "code",
   "execution_count": 20,
   "id": "f8830e4b-7846-4029-9ea9-0793908a5e52",
   "metadata": {},
   "outputs": [],
   "source": [
    "obj_class3 = class3()"
   ]
  },
  {
   "cell_type": "code",
   "execution_count": 21,
   "id": "d43d5221-60b2-42dc-bc03-1f549df7fc43",
   "metadata": {},
   "outputs": [
    {
     "data": {
      "text/plain": [
       "'This is my class1'"
      ]
     },
     "execution_count": 21,
     "metadata": {},
     "output_type": "execute_result"
    }
   ],
   "source": [
    "obj_class3.test_class1()"
   ]
  },
  {
   "cell_type": "code",
   "execution_count": 22,
   "id": "4c95475e-5654-4781-a672-7a83a4ec6c8f",
   "metadata": {},
   "outputs": [],
   "source": [
    "#Multiple Inheritance "
   ]
  },
  {
   "cell_type": "code",
   "execution_count": 23,
   "id": "620a467f-041c-43e8-8c0a-858989516295",
   "metadata": {},
   "outputs": [],
   "source": [
    "class class1:\n",
    "    \n",
    "    def test_class1(self) :\n",
    "        return (\"This is class1\")"
   ]
  },
  {
   "cell_type": "code",
   "execution_count": 24,
   "id": "8c9c2205-e1f8-49bb-a21c-f907bcfabb1e",
   "metadata": {},
   "outputs": [],
   "source": [
    "class class2:\n",
    "    \n",
    "    def test_class2(self) :\n",
    "        return (\"This is class2\")"
   ]
  },
  {
   "cell_type": "code",
   "execution_count": 25,
   "id": "f491f53b-737c-48c1-9367-164dab08dc73",
   "metadata": {},
   "outputs": [],
   "source": [
    "class class3(class1, class2) :\n",
    "    pass"
   ]
  },
  {
   "cell_type": "code",
   "execution_count": 26,
   "id": "3a36ba60-3696-47be-9723-3199f14ba7a1",
   "metadata": {},
   "outputs": [],
   "source": [
    "obj_class3 = class3()"
   ]
  },
  {
   "cell_type": "code",
   "execution_count": 27,
   "id": "2441416a-17f0-448d-bac9-dc4d0847cbf4",
   "metadata": {},
   "outputs": [
    {
     "data": {
      "text/plain": [
       "'This is class1'"
      ]
     },
     "execution_count": 27,
     "metadata": {},
     "output_type": "execute_result"
    }
   ],
   "source": [
    "obj_class3.test_class1()"
   ]
  },
  {
   "cell_type": "code",
   "execution_count": 28,
   "id": "2819a10d-bd8b-4076-ad5d-1f26efa43139",
   "metadata": {},
   "outputs": [
    {
     "data": {
      "text/plain": [
       "'This is class2'"
      ]
     },
     "execution_count": 28,
     "metadata": {},
     "output_type": "execute_result"
    }
   ],
   "source": [
    "obj_class3.test_class2()"
   ]
  },
  {
   "cell_type": "code",
   "execution_count": null,
   "id": "4bcf9cdc-cc7d-487a-bc37-d29ba972eced",
   "metadata": {},
   "outputs": [],
   "source": []
  }
 ],
 "metadata": {
  "kernelspec": {
   "display_name": "Python 3 (ipykernel)",
   "language": "python",
   "name": "python3"
  },
  "language_info": {
   "codemirror_mode": {
    "name": "ipython",
    "version": 3
   },
   "file_extension": ".py",
   "mimetype": "text/x-python",
   "name": "python",
   "nbconvert_exporter": "python",
   "pygments_lexer": "ipython3",
   "version": "3.10.8"
  }
 },
 "nbformat": 4,
 "nbformat_minor": 5
}

{
  "nbformat": 4,
  "nbformat_minor": 0,
  "metadata": {
    "colab": {
      "provenance": []
    },
    "kernelspec": {
      "name": "python3",
      "display_name": "Python 3"
    },
    "language_info": {
      "name": "python"
    }
  },
  "cells": [
    {
      "cell_type": "markdown",
      "source": [
        "Q1. Create a Pandas Series that contains the following data: 4, 8, 15, 16, 23, and 42. Then, print the series."
      ],
      "metadata": {
        "id": "Q3ktpaSjwaCI"
      }
    },
    {
      "cell_type": "code",
      "source": [
        "import pandas as pd\n",
        "\n",
        "data = pd.Series([4, 8, 15, 16, 23, 42])\n",
        "\n",
        "print(data)\n"
      ],
      "metadata": {
        "colab": {
          "base_uri": "https://localhost:8080/"
        },
        "id": "JNLLq1j5wjFp",
        "outputId": "581ead8b-49e0-4004-a95d-6b890b4cefc8"
      },
      "execution_count": 1,
      "outputs": [
        {
          "output_type": "stream",
          "name": "stdout",
          "text": [
            "0     4\n",
            "1     8\n",
            "2    15\n",
            "3    16\n",
            "4    23\n",
            "5    42\n",
            "dtype: int64\n"
          ]
        }
      ]
    },
    {
      "cell_type": "markdown",
      "source": [
        "Q2. Create a variable of list type containing 10 elements in it, and apply pandas.Series function on the variable print it."
      ],
      "metadata": {
        "id": "ekoofkcjwr9I"
      }
    },
    {
      "cell_type": "code",
      "source": [
        "my_list = [1, 3, 5, 7, 9, 11, 13, 15, 17, 19]\n",
        "\n",
        "series = pd.Series(my_list)\n",
        "\n",
        "print(series)"
      ],
      "metadata": {
        "colab": {
          "base_uri": "https://localhost:8080/"
        },
        "id": "HtkEk0euwzb5",
        "outputId": "202c7462-c56d-4619-effe-173f0fad3d22"
      },
      "execution_count": 2,
      "outputs": [
        {
          "output_type": "stream",
          "name": "stdout",
          "text": [
            "0     1\n",
            "1     3\n",
            "2     5\n",
            "3     7\n",
            "4     9\n",
            "5    11\n",
            "6    13\n",
            "7    15\n",
            "8    17\n",
            "9    19\n",
            "dtype: int64\n"
          ]
        }
      ]
    },
    {
      "cell_type": "markdown",
      "source": [
        "Q3. Create a Pandas DataFrame that contains the following data:"
      ],
      "metadata": {
        "id": "N-Na6wRrw6Uh"
      }
    },
    {
      "cell_type": "code",
      "source": [
        "data = {\n",
        "    \"Name\": [\"Alice\", \"Bob\", \"Claire\"],\n",
        "    \"Age\": [25, 30, 27],\n",
        "    \"Gender\": [\"Female\", \"Male\", \"Female\"]\n",
        "}\n",
        "\n",
        "df = pd.DataFrame(data)\n",
        "\n",
        "print(df)"
      ],
      "metadata": {
        "colab": {
          "base_uri": "https://localhost:8080/"
        },
        "id": "ZjghtI2zxBHv",
        "outputId": "25c94ce5-9405-4d70-b7e2-2f04f83f8993"
      },
      "execution_count": 3,
      "outputs": [
        {
          "output_type": "stream",
          "name": "stdout",
          "text": [
            "     Name  Age  Gender\n",
            "0   Alice   25  Female\n",
            "1     Bob   30    Male\n",
            "2  Claire   27  Female\n"
          ]
        }
      ]
    },
    {
      "cell_type": "markdown",
      "source": [
        "Q4. What is ‘DataFrame’ in pandas and how is it different from pandas.series? Explain with an example."
      ],
      "metadata": {
        "id": "jztVvPHMxOIf"
      }
    },
    {
      "cell_type": "markdown",
      "source": [
        "A DataFrame in Pandas is a 2-dimensional, tabular data structure with labeled rows and columns, similar to a spreadsheet or SQL table. It can hold multiple columns, each of which can contain different data types (integers, floats, strings, etc.).\n",
        "\n",
        "A Series, on the other hand, is a 1-dimensional array with labeled indexes, essentially representing a single column of data."
      ],
      "metadata": {
        "id": "1SpoZDNZxV0R"
      }
    },
    {
      "cell_type": "code",
      "source": [
        "import pandas as pd\n",
        "\n",
        "series = pd.Series([10, 20, 30, 40])\n",
        "print(series)\n"
      ],
      "metadata": {
        "colab": {
          "base_uri": "https://localhost:8080/"
        },
        "id": "yn6JP5FixX4y",
        "outputId": "68a46f17-c40b-407b-8d1f-57c289a7da48"
      },
      "execution_count": 4,
      "outputs": [
        {
          "output_type": "stream",
          "name": "stdout",
          "text": [
            "0    10\n",
            "1    20\n",
            "2    30\n",
            "3    40\n",
            "dtype: int64\n"
          ]
        }
      ]
    },
    {
      "cell_type": "markdown",
      "source": [
        "Q5. What are some common functions you can use to manipulate data in a Pandas DataFrame? Can you give an example of when you might use one of these functions?"
      ],
      "metadata": {
        "id": "DcH1VqWlxbOw"
      }
    },
    {
      "cell_type": "markdown",
      "source": [
        "Some common functions to manipulate data in a Pandas DataFrame include:\n",
        "\n",
        "head(n) / tail(n) – View the first or last n rows of a DataFrame.\n",
        "info() – Display metadata about the DataFrame (columns, data types, missing values).\n",
        "describe() – Generate summary statistics for numerical columns.\n",
        "drop(columns=[…]) – Remove specified columns.\n",
        "rename(columns={…}) – Rename column names.\n",
        "fillna(value) – Fill missing values with a specific value.\n",
        "groupby(column).agg(function) – Aggregate data based on a column.\n",
        "sort_values(by=column, ascending=True/False) – Sort data by a column.\n",
        "loc[] / iloc[] – Access specific rows and columns using labels or index positions.\n",
        "apply(function) – Apply a custom function to each element in a column."
      ],
      "metadata": {
        "id": "TOSEgbmoxl7I"
      }
    },
    {
      "cell_type": "code",
      "source": [
        "data = {\"Name\": [\"Alice\", \"Bob\", \"Charlie\"], \"Age\": [25, None, 30]}\n",
        "df = pd.DataFrame(data)\n",
        "\n",
        "df[\"Age\"].fillna(df[\"Age\"].mean(), inplace=True)\n",
        "print(df)\n"
      ],
      "metadata": {
        "colab": {
          "base_uri": "https://localhost:8080/"
        },
        "id": "MmmBW-iyxuLn",
        "outputId": "2c61fb1b-2918-4691-d14f-4c42c9f6768c"
      },
      "execution_count": 5,
      "outputs": [
        {
          "output_type": "stream",
          "name": "stdout",
          "text": [
            "      Name   Age\n",
            "0    Alice  25.0\n",
            "1      Bob  27.5\n",
            "2  Charlie  30.0\n"
          ]
        },
        {
          "output_type": "stream",
          "name": "stderr",
          "text": [
            "<ipython-input-5-c65cf8818780>:4: FutureWarning: A value is trying to be set on a copy of a DataFrame or Series through chained assignment using an inplace method.\n",
            "The behavior will change in pandas 3.0. This inplace method will never work because the intermediate object on which we are setting values always behaves as a copy.\n",
            "\n",
            "For example, when doing 'df[col].method(value, inplace=True)', try using 'df.method({col: value}, inplace=True)' or df[col] = df[col].method(value) instead, to perform the operation inplace on the original object.\n",
            "\n",
            "\n",
            "  df[\"Age\"].fillna(df[\"Age\"].mean(), inplace=True)\n"
          ]
        }
      ]
    },
    {
      "cell_type": "markdown",
      "source": [
        "Q6. Which of the following is mutable in nature Series, DataFrame, Panel?"
      ],
      "metadata": {
        "id": "pStUi73AxydX"
      }
    },
    {
      "cell_type": "markdown",
      "source": [
        "In Pandas, both Series and DataFrame are mutable, meaning their data can be modified after creation. However, Panel (which was used for handling 3D data in older versions of Pandas) has been deprecated since Pandas 1.0.\n",
        "\n",
        "Mutability of Pandas Structures:\n",
        "Series (Mutable) – The values inside a Series can be changed, but its size (number of elements) is fixed.\n",
        "DataFrame (Mutable) – Both values and structure (adding/removing rows and columns) can be modified."
      ],
      "metadata": {
        "id": "hiJ9wyXPx6lg"
      }
    },
    {
      "cell_type": "markdown",
      "source": [
        "Q7. Create a DataFrame using multiple Series. Explain with an example."
      ],
      "metadata": {
        "id": "gML-0vVdx8nY"
      }
    },
    {
      "cell_type": "code",
      "source": [
        "names = pd.Series([\"Alice\", \"Bob\", \"Charlie\"])\n",
        "ages = pd.Series([25, 30, 35])\n",
        "genders = pd.Series([\"Female\", \"Male\", \"Male\"])\n",
        "\n",
        "\n",
        "df = pd.DataFrame({\"Name\": names, \"Age\": ages, \"Gender\": genders})\n",
        "\n",
        "\n",
        "print(df)\n"
      ],
      "metadata": {
        "colab": {
          "base_uri": "https://localhost:8080/"
        },
        "id": "Vsdjo7bQyB1w",
        "outputId": "abab9b7f-5b18-4fe3-c24a-d886b3acd42d"
      },
      "execution_count": 6,
      "outputs": [
        {
          "output_type": "stream",
          "name": "stdout",
          "text": [
            "      Name  Age  Gender\n",
            "0    Alice   25  Female\n",
            "1      Bob   30    Male\n",
            "2  Charlie   35    Male\n"
          ]
        }
      ]
    }
  ]
}
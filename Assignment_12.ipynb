{
  "nbformat": 4,
  "nbformat_minor": 0,
  "metadata": {
    "colab": {
      "provenance": []
    },
    "kernelspec": {
      "name": "python3",
      "display_name": "Python 3"
    },
    "language_info": {
      "name": "python"
    }
  },
  "cells": [
    {
      "cell_type": "markdown",
      "source": [
        "Q1. What is a database? Differentiate between SQL and NoSQL databases."
      ],
      "metadata": {
        "id": "tPdNQpNrv-Kb"
      }
    },
    {
      "cell_type": "markdown",
      "source": [
        "A database is an organized collection of data, typically stored and accessed electronically from a computer system. It is used to manage, store, and retrieve data in a structured format.\n",
        "\n",
        "Differences between SQL and NoSQL databases:\n",
        "\n",
        "SQL databases (Structured Query Language) are relational databases that use tables to store data, and they are based on a fixed schema. They are well-suited for structured data and support ACID properties (Atomicity, Consistency, Isolation, Durability). Examples include MySQL, PostgreSQL, and Oracle.\n",
        "NoSQL databases are non-relational databases designed for unstructured or semi-structured data. They are flexible, often schema-less, and support high scalability, typically in horizontal distribution. They are used for big data and real-time web applications. Examples include MongoDB, Cassandra, and CouchDB."
      ],
      "metadata": {
        "id": "5MDCcXAjwFxZ"
      }
    },
    {
      "cell_type": "markdown",
      "source": [
        "Q2. What is DDL? Explain why CREATE, DROP, ALTER, and TRUNCATE are used with an example."
      ],
      "metadata": {
        "id": "8DvQYrNUwHvq"
      }
    },
    {
      "cell_type": "markdown",
      "source": [
        "DDL (Data Definition Language) is a subset of SQL that is used to define and manage database structures such as tables, schemas, and indexes. It deals with the structure of the database rather than the data itself.\n",
        "\n",
        "CREATE: This statement is used to create new database objects like tables, views, or indexes.\n",
        "DROP: This statement is used to delete an existing database object like a table or view.\n",
        "ALTER: This statement is used to modify an existing database object, such as adding a column or changing a data type.\n",
        "TRUNCATE: This statement is used to remove all data from a table but does not remove the table itself. It is faster than a DELETE statement because it does not log individual row deletions."
      ],
      "metadata": {
        "id": "ZVtXDoTWwSP9"
      }
    },
    {
      "cell_type": "markdown",
      "source": [
        "Q3. What is DML? Explain INSERT, UPDATE, and DELETE with an example."
      ],
      "metadata": {
        "id": "eTXR3K_MwatJ"
      }
    },
    {
      "cell_type": "markdown",
      "source": [
        "DML (Data Manipulation Language) is a subset of SQL used for managing and manipulating the data within database objects like tables. It includes operations to insert, update, delete, and retrieve data from the database.\n",
        "\n",
        "INSERT: This statement is used to add new records into a table.\n",
        "UPDATE: This statement is used to modify existing records in a table.\n",
        "DELETE: This statement is used to remove records from a table. It can delete specific rows based on conditions or all rows if no condition is provided.\n"
      ],
      "metadata": {
        "id": "Q5-jhiE3whd7"
      }
    },
    {
      "cell_type": "markdown",
      "source": [
        "Q4. What is DQL? Explain SELECT with an example."
      ],
      "metadata": {
        "id": "d4GPHtKewpYZ"
      }
    },
    {
      "cell_type": "markdown",
      "source": [
        "DQL (Data Query Language) is a subset of SQL used for querying and retrieving data from a database. The main DQL command is SELECT, which is used to fetch data from one or more tables based on specified conditions.\n",
        "\n",
        "SELECT: This statement is used to retrieve data from a database. You can specify the columns to be fetched, use conditions with WHERE, and apply other clauses like ORDER BY to sort the results or GROUP BY for aggregation."
      ],
      "metadata": {
        "id": "KIgl6kLSwsqJ"
      }
    },
    {
      "cell_type": "markdown",
      "source": [
        "Q5. Explain Primary Key and Foreign Key."
      ],
      "metadata": {
        "id": "Y2plDEAGw40B"
      }
    },
    {
      "cell_type": "markdown",
      "source": [
        "A Primary Key is a column or a combination of columns in a table that uniquely identifies each record in the table. It ensures that there are no duplicate values and cannot contain NULL values. A table can have only one primary key.\n",
        "A Foreign Key is a column or a combination of columns in one table that refers to the primary key in another table. It establishes a relationship between the two tables and ensures referential integrity, meaning the value in the foreign key column must either be NULL or match a value in the primary key column of the referenced table."
      ],
      "metadata": {
        "id": "dVz-oST3w8e5"
      }
    },
    {
      "cell_type": "markdown",
      "source": [
        "Q6. Write a python code to connect MySQL to python. Explain the cursor() and execute() method."
      ],
      "metadata": {
        "id": "vytqSVHww_7q"
      }
    },
    {
      "cell_type": "markdown",
      "source": [
        "import mysql.connector\n",
        "\n",
        "\n",
        "conn = mysql.connector.connect(\n",
        "    host=\"localhost\",\n",
        "    user=\"root\",\n",
        "    password=\"your_password\",\n",
        "    database=\"test_db\"\n",
        ")\n",
        "\n",
        "\n",
        "cursor = conn.cursor()\n",
        "\n",
        "\n",
        "cursor.execute(\"SELECT * FROM students\")\n",
        "\n",
        "\n",
        "result = cursor.fetchall()\n",
        "\n",
        "\n",
        "for row in result:\n",
        "    print(row)\n",
        "\n",
        "\n",
        "cursor.close()\n",
        "conn.close()"
      ],
      "metadata": {
        "id": "QQnyDHQNxXRZ"
      }
    },
    {
      "cell_type": "markdown",
      "source": [
        "Q7. Give the order of execution of SQL clauses in an SQL query."
      ],
      "metadata": {
        "id": "T1bvZTVHxY_r"
      }
    },
    {
      "cell_type": "markdown",
      "source": [
        "FROM: The data source is identified (tables, joins).\n",
        "WHERE: Filters rows based on conditions.\n",
        "GROUP BY: Groups rows into summary rows.\n",
        "HAVING: Filters groups based on conditions (applies after GROUP BY).\n",
        "SELECT: Specifies the columns to be returned.\n",
        "DISTINCT: Removes duplicate rows (if used).\n",
        "ORDER BY: Sorts the result set.\n",
        "LIMIT / OFFSET: Limits the number of rows returned (if used)."
      ],
      "metadata": {
        "id": "bE8eGeHbxf2Q"
      }
    }
  ]
}
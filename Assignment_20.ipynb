{
  "nbformat": 4,
  "nbformat_minor": 0,
  "metadata": {
    "colab": {
      "provenance": []
    },
    "kernelspec": {
      "name": "python3",
      "display_name": "Python 3"
    },
    "language_info": {
      "name": "python"
    }
  },
  "cells": [
    {
      "cell_type": "markdown",
      "source": [
        "Q1. List any five functions of the pandas library with execution."
      ],
      "metadata": {
        "id": "I4CJEjAEzZYI"
      }
    },
    {
      "cell_type": "code",
      "source": [
        "import pandas as pd\n",
        "\n",
        "# Creating a DataFrame\n",
        "data = {\"Name\": [\"Alice\", \"Bob\", \"Charlie\", \"David\", \"Eve\"],\n",
        "        \"Age\": [25, 30, 35, 40, 45]}\n",
        "\n",
        "df = pd.DataFrame(data)\n",
        "\n",
        "# Display the first 3 rows\n",
        "print(df.head(3))\n",
        "print(df.info())\n",
        "print(df.describe())\n",
        "sorted_df = df.sort_values(by=\"Age\", ascending=False)\n",
        "print(sorted_df)\n",
        "df_dropped = df.drop(columns=[\"Age\"])\n",
        "print(df_dropped)\n"
      ],
      "metadata": {
        "id": "86K49-sGzeG3",
        "colab": {
          "base_uri": "https://localhost:8080/"
        },
        "outputId": "2d53984b-88c4-4f24-f652-37751221655c"
      },
      "execution_count": 1,
      "outputs": [
        {
          "output_type": "stream",
          "name": "stdout",
          "text": [
            "      Name  Age\n",
            "0    Alice   25\n",
            "1      Bob   30\n",
            "2  Charlie   35\n",
            "<class 'pandas.core.frame.DataFrame'>\n",
            "RangeIndex: 5 entries, 0 to 4\n",
            "Data columns (total 2 columns):\n",
            " #   Column  Non-Null Count  Dtype \n",
            "---  ------  --------------  ----- \n",
            " 0   Name    5 non-null      object\n",
            " 1   Age     5 non-null      int64 \n",
            "dtypes: int64(1), object(1)\n",
            "memory usage: 212.0+ bytes\n",
            "None\n",
            "             Age\n",
            "count   5.000000\n",
            "mean   35.000000\n",
            "std     7.905694\n",
            "min    25.000000\n",
            "25%    30.000000\n",
            "50%    35.000000\n",
            "75%    40.000000\n",
            "max    45.000000\n",
            "      Name  Age\n",
            "4      Eve   45\n",
            "3    David   40\n",
            "2  Charlie   35\n",
            "1      Bob   30\n",
            "0    Alice   25\n",
            "      Name\n",
            "0    Alice\n",
            "1      Bob\n",
            "2  Charlie\n",
            "3    David\n",
            "4      Eve\n"
          ]
        }
      ]
    },
    {
      "cell_type": "markdown",
      "source": [
        "Q2. Given a Pandas DataFrame df with columns 'A', 'B', and 'C', write a Python function to re-index the DataFrame with a new index that starts from 1 and increments by 2 for each row."
      ],
      "metadata": {
        "id": "ga4ZYr7iz4Tu"
      }
    },
    {
      "cell_type": "code",
      "source": [
        "def reindex_dataframe(df):\n",
        "\n",
        "    new_index = range(1, 2 * len(df), 2)\n",
        "    df.index = new_index\n",
        "    return df\n",
        "\n",
        "data = {\"A\": [10, 20, 30], \"B\": [40, 50, 60], \"C\": [70, 80, 90]}\n",
        "df = pd.DataFrame(data)\n",
        "\n",
        "df = reindex_dataframe(df)\n",
        "\n",
        "print(df)\n"
      ],
      "metadata": {
        "colab": {
          "base_uri": "https://localhost:8080/"
        },
        "id": "Tq9MoMfK0m6K",
        "outputId": "af632d04-3c67-45af-c2c5-369aa91fce11"
      },
      "execution_count": 2,
      "outputs": [
        {
          "output_type": "stream",
          "name": "stdout",
          "text": [
            "    A   B   C\n",
            "1  10  40  70\n",
            "3  20  50  80\n",
            "5  30  60  90\n"
          ]
        }
      ]
    },
    {
      "cell_type": "markdown",
      "source": [
        "Q3. You have a Pandas DataFrame df with a column named 'Values'. Write a Python function that iterates over the DataFrame and calculates the sum of the first three values in the 'Values' column. The function should print the sum to the console."
      ],
      "metadata": {
        "id": "PpScWb3-01-O"
      }
    },
    {
      "cell_type": "code",
      "source": [
        "def sum_first_three(df):\n",
        "\n",
        "    total = df[\"Values\"].iloc[:3].sum()\n",
        "    print(\"Sum of first three values:\", total)\n",
        "\n",
        "data = {\"Values\": [10, 20, 30, 40, 50]}\n",
        "df = pd.DataFrame(data)\n",
        "\n",
        "sum_first_three(df)"
      ],
      "metadata": {
        "colab": {
          "base_uri": "https://localhost:8080/"
        },
        "id": "AvfcOSq00-Ym",
        "outputId": "63cdcdd0-c73e-4872-c707-eb9ee1febf76"
      },
      "execution_count": 3,
      "outputs": [
        {
          "output_type": "stream",
          "name": "stdout",
          "text": [
            "Sum of first three values: 60\n"
          ]
        }
      ]
    },
    {
      "cell_type": "markdown",
      "source": [
        "Q4. Given a Pandas DataFrame df with a column 'Text', write a Python function to create a new column 'Word_Count' that contains the number of words in each row of the 'Text' column."
      ],
      "metadata": {
        "id": "4EopA-hg1Oyn"
      }
    },
    {
      "cell_type": "code",
      "source": [
        "def add_word_count(df):\n",
        "\n",
        "    df[\"Word_Count\"] = df[\"Text\"].apply(lambda x: len(str(x).split()))\n",
        "    return df\n",
        "\n",
        "data = {\"Text\": [\"Hello world\", \"Pandas is great\", \"Count words in text\"]}\n",
        "df = pd.DataFrame(data)\n",
        "\n",
        "df = add_word_count(df)\n",
        "\n",
        "print(df)"
      ],
      "metadata": {
        "colab": {
          "base_uri": "https://localhost:8080/"
        },
        "id": "7YuljcS41QMG",
        "outputId": "15cd3ba3-f76f-4d88-cf79-63b8d466ee03"
      },
      "execution_count": 4,
      "outputs": [
        {
          "output_type": "stream",
          "name": "stdout",
          "text": [
            "                  Text  Word_Count\n",
            "0          Hello world           2\n",
            "1      Pandas is great           3\n",
            "2  Count words in text           4\n"
          ]
        }
      ]
    },
    {
      "cell_type": "markdown",
      "source": [
        "Q5. How are DataFrame.size() and DataFrame.shape() different?"
      ],
      "metadata": {
        "id": "tPVNo3IU1aE-"
      }
    },
    {
      "cell_type": "markdown",
      "source": [
        "DataFrame.size\n",
        "\n",
        "Returns the total number of elements (cells) in the DataFrame.\n",
        "Computed as rows × columns.\n",
        "Output is a single integer.\n",
        "DataFrame.shape\n",
        "\n",
        "Returns the dimensions of the DataFrame in the format (rows, columns).\n",
        "Output is a tuple of two values: number of rows and number of columns."
      ],
      "metadata": {
        "id": "wSTqh-CO1dyH"
      }
    },
    {
      "cell_type": "code",
      "source": [
        "data = {\"A\": [1, 2, 3], \"B\": [4, 5, 6], \"C\": [7, 8, 9]}\n",
        "df = pd.DataFrame(data)\n",
        "\n",
        "print(\"Size:\", df.size)      # Total elements (3 rows × 3 columns = 9)\n",
        "print(\"Shape:\", df.shape)    # Dimensions (3 rows, 3 columns)\n"
      ],
      "metadata": {
        "colab": {
          "base_uri": "https://localhost:8080/"
        },
        "id": "H8JQWP6c1hR1",
        "outputId": "472e8656-69fc-4c36-a945-1f1947099512"
      },
      "execution_count": 5,
      "outputs": [
        {
          "output_type": "stream",
          "name": "stdout",
          "text": [
            "Size: 9\n",
            "Shape: (3, 3)\n"
          ]
        }
      ]
    },
    {
      "cell_type": "markdown",
      "source": [
        "Q6. Which function of pandas do we use to read an excel file?"
      ],
      "metadata": {
        "id": "-0YaNfzd1ts-"
      }
    },
    {
      "cell_type": "markdown",
      "source": [
        "df = pd.read_excel(\"file_path.xlsx\", sheet_name=\"Sheet1\")"
      ],
      "metadata": {
        "id": "YaeWcjD014OX"
      }
    },
    {
      "cell_type": "markdown",
      "source": [
        "Q7. You have a Pandas DataFrame df that contains a column named 'Email' that contains email addresses in the format 'username@domain.com'. Write a Python function that creates a new column 'Username' in df that contains only the username part of each email address."
      ],
      "metadata": {
        "id": "HG8bCVVx15An"
      }
    },
    {
      "cell_type": "code",
      "source": [
        "def extract_username(df):\n",
        "\n",
        "    df[\"Username\"] = df[\"Email\"].apply(lambda x: x.split(\"@\")[0])\n",
        "    return df\n",
        "\n",
        "data = {\"Email\": [\"nihar@example.com\", \"ranjan@test.com\", \"sahoo@domain.org\"]}\n",
        "df = pd.DataFrame(data)\n",
        "\n",
        "df = extract_username(df)\n",
        "\n",
        "print(df)"
      ],
      "metadata": {
        "colab": {
          "base_uri": "https://localhost:8080/"
        },
        "id": "THgZPJM52BZG",
        "outputId": "2317a8cc-1ceb-465c-ff62-aeb44dbca566"
      },
      "execution_count": 8,
      "outputs": [
        {
          "output_type": "stream",
          "name": "stdout",
          "text": [
            "               Email Username\n",
            "0  nihar@example.com    nihar\n",
            "1    ranjan@test.com   ranjan\n",
            "2   sahoo@domain.org    sahoo\n"
          ]
        }
      ]
    },
    {
      "cell_type": "markdown",
      "source": [
        "Q8. You have a Pandas DataFrame df with columns 'A', 'B', and 'C'. Write a Python function that selects\n",
        "all rows where the value in column 'A' is greater than 5 and the value in column 'B' is less than 10. The\n",
        "function should return a new DataFrame that contains only the selected rows.\n",
        "For example, if df contains the following values:\n",
        "A B C\n",
        "0 3 5 1\n",
        "1 8 2 7\n",
        "2 6 9 4\n",
        "3 2 3 5\n",
        "4 9 1 2\n",
        "Your function should select the following rows: A B C\n",
        "1 8 2 7\n",
        "4 9 1 2\n",
        "The function should return a new DataFrame that contains only the selected rows."
      ],
      "metadata": {
        "id": "AmaB9SQy2jll"
      }
    },
    {
      "cell_type": "code",
      "source": [
        "def filter_rows(df):\n",
        "    filtered_df = df[(df[\"A\"] > 5) & (df[\"B\"] < 10)]\n",
        "    return filtered_df\n",
        "\n",
        "data = {\"A\": [3, 8, 6, 2, 9], \"B\": [5, 2, 9, 3, 1], \"C\": [1, 7, 4, 5, 2]}\n",
        "df = pd.DataFrame(data)\n",
        "\n",
        "filtered_df = filter_rows(df)\n",
        "\n",
        "print(filtered_df)"
      ],
      "metadata": {
        "colab": {
          "base_uri": "https://localhost:8080/"
        },
        "id": "0ihx2JnO2qDG",
        "outputId": "55b08c91-4f36-4e7d-99e8-451bb93fef54"
      },
      "execution_count": 9,
      "outputs": [
        {
          "output_type": "stream",
          "name": "stdout",
          "text": [
            "   A  B  C\n",
            "1  8  2  7\n",
            "2  6  9  4\n",
            "4  9  1  2\n"
          ]
        }
      ]
    },
    {
      "cell_type": "markdown",
      "source": [
        "Q9. Given a Pandas DataFrame df with a column 'Values', write a Python function to calculate the mean, median, and standard deviation of the values in the 'Values' column."
      ],
      "metadata": {
        "id": "ICyZ-gmr2zAd"
      }
    },
    {
      "cell_type": "code",
      "source": [
        "def calculate_stats(df):\n",
        "    mean_value = df[\"Values\"].mean()  # Calculate mean\n",
        "    median_value = df[\"Values\"].median()  # Calculate median\n",
        "    std_dev = df[\"Values\"].std()  # Calculate standard deviation\n",
        "\n",
        "    print(f\"Mean: {mean_value}\")\n",
        "    print(f\"Median: {median_value}\")\n",
        "    print(f\"Standard Deviation: {std_dev}\")\n",
        "\n",
        "data = {\"Values\": [10, 20, 30, 40, 50]}\n",
        "df = pd.DataFrame(data)\n",
        "\n",
        "calculate_stats(df)"
      ],
      "metadata": {
        "colab": {
          "base_uri": "https://localhost:8080/"
        },
        "id": "6uA272-N24fu",
        "outputId": "4815ccce-7de1-4854-d91e-b1d1f1b0b3ef"
      },
      "execution_count": 10,
      "outputs": [
        {
          "output_type": "stream",
          "name": "stdout",
          "text": [
            "Mean: 30.0\n",
            "Median: 30.0\n",
            "Standard Deviation: 15.811388300841896\n"
          ]
        }
      ]
    },
    {
      "cell_type": "markdown",
      "source": [
        "Q10. Given a Pandas DataFrame df with a column 'Sales' and a column 'Date', write a Python function to create a new column 'MovingAverage' that contains the moving average of the sales for the past 7 days for each row in the DataFrame. The moving average should be calculated using a window of size 7 and\n",
        "should include the current day."
      ],
      "metadata": {
        "id": "J_ubW6ZJ2_kF"
      }
    },
    {
      "cell_type": "code",
      "source": [
        "def add_moving_average(df):\n",
        "\n",
        "    df[\"Date\"] = pd.to_datetime(df[\"Date\"])\n",
        "\n",
        "    df = df.sort_values(\"Date\")\n",
        "\n",
        "    df[\"MovingAverage\"] = df[\"Sales\"].rolling(window=7, min_periods=1).mean()\n",
        "\n",
        "    return df\n",
        "\n",
        "# Sample DataFrame\n",
        "data = {\n",
        "    \"Date\": pd.date_range(start=\"2024-01-01\", periods=10, freq=\"D\"),\n",
        "    \"Sales\": [100, 200, 150, 300, 250, 400, 500, 600, 700, 800]\n",
        "}\n",
        "df = pd.DataFrame(data)\n",
        "\n",
        "df = add_moving_average(df)\n",
        "\n",
        "print(df)"
      ],
      "metadata": {
        "colab": {
          "base_uri": "https://localhost:8080/"
        },
        "id": "Rszs-g2Z3H6f",
        "outputId": "7f40fb0c-3fbd-4ab3-f9da-ced4cff85271"
      },
      "execution_count": 11,
      "outputs": [
        {
          "output_type": "stream",
          "name": "stdout",
          "text": [
            "        Date  Sales  MovingAverage\n",
            "0 2024-01-01    100     100.000000\n",
            "1 2024-01-02    200     150.000000\n",
            "2 2024-01-03    150     150.000000\n",
            "3 2024-01-04    300     187.500000\n",
            "4 2024-01-05    250     200.000000\n",
            "5 2024-01-06    400     233.333333\n",
            "6 2024-01-07    500     271.428571\n",
            "7 2024-01-08    600     342.857143\n",
            "8 2024-01-09    700     414.285714\n",
            "9 2024-01-10    800     507.142857\n"
          ]
        }
      ]
    },
    {
      "cell_type": "markdown",
      "source": [
        "Q11. You have a Pandas DataFrame df with a column 'Date'. Write a Python function that creates a new column 'Weekday' in the DataFrame. The 'Weekday' column should contain the weekday name (e.g. Monday, Tuesday) corresponding to each date in the 'Date' column. For example, if df contains the following values:\n",
        "Date\n",
        "0 2023-01-01\n",
        "1 2023-01-02\n",
        "2 2023-01-03\n",
        "3 2023-01-04\n",
        "4 2023-01-05\n",
        "Your function should create the following DataFrame:\n",
        "\n",
        "Date Weekday\n",
        "0 2023-01-01 Sunday\n",
        "1 2023-01-02 Monday\n",
        "2 2023-01-03 Tuesday\n",
        "3 2023-01-04 Wednesday\n",
        "4 2023-01-05 Thursday\n",
        "The function should return the modified DataFrame."
      ],
      "metadata": {
        "id": "wE_SMP203WGG"
      }
    },
    {
      "cell_type": "code",
      "source": [
        "def add_weekday_column(df):\n",
        "\n",
        "    df[\"Date\"] = pd.to_datetime(df[\"Date\"])\n",
        "\n",
        "    df[\"Weekday\"] = df[\"Date\"].dt.day_name()\n",
        "\n",
        "    return df\n",
        "\n",
        "data = {\"Date\": [\"2023-01-01\", \"2023-01-02\", \"2023-01-03\", \"2023-01-04\", \"2023-01-05\"]}\n",
        "df = pd.DataFrame(data)\n",
        "\n",
        "df = add_weekday_column(df)\n",
        "\n",
        "print(df)"
      ],
      "metadata": {
        "colab": {
          "base_uri": "https://localhost:8080/"
        },
        "id": "UOQPqFKF3azm",
        "outputId": "0565b2f1-77f1-43cb-e35c-70c017026c4f"
      },
      "execution_count": 12,
      "outputs": [
        {
          "output_type": "stream",
          "name": "stdout",
          "text": [
            "        Date    Weekday\n",
            "0 2023-01-01     Sunday\n",
            "1 2023-01-02     Monday\n",
            "2 2023-01-03    Tuesday\n",
            "3 2023-01-04  Wednesday\n",
            "4 2023-01-05   Thursday\n"
          ]
        }
      ]
    },
    {
      "cell_type": "markdown",
      "source": [
        "Q12. Given a Pandas DataFrame df with a column 'Date' that contains timestamps, write a Python function to select all rows where the date is between '2023-01-01' and '2023-01-31'."
      ],
      "metadata": {
        "id": "PAGFivvU3j7l"
      }
    },
    {
      "cell_type": "code",
      "source": [
        "def filter_date_range(df):\n",
        "\n",
        "    df[\"Date\"] = pd.to_datetime(df[\"Date\"])\n",
        "\n",
        "    start_date = \"2023-01-01\"\n",
        "    end_date = \"2023-01-31\"\n",
        "\n",
        "    filtered_df = df[df[\"Date\"].between(start_date, end_date)]\n",
        "\n",
        "    return filtered_df\n",
        "\n",
        "data = {\n",
        "    \"Date\": [\"2022-12-31\", \"2023-01-01\", \"2023-01-15\", \"2023-01-31\", \"2023-02-01\"],\n",
        "    \"Value\": [10, 20, 30, 40, 50]\n",
        "}\n",
        "df = pd.DataFrame(data)\n",
        "\n",
        "filtered_df = filter_date_range(df)\n",
        "\n",
        "print(filtered_df)\n"
      ],
      "metadata": {
        "colab": {
          "base_uri": "https://localhost:8080/"
        },
        "id": "Q1orLaph3oUO",
        "outputId": "a18ff00e-881e-4c73-b18f-d87348d2d9a8"
      },
      "execution_count": 14,
      "outputs": [
        {
          "output_type": "stream",
          "name": "stdout",
          "text": [
            "        Date  Value\n",
            "1 2023-01-01     20\n",
            "2 2023-01-15     30\n",
            "3 2023-01-31     40\n"
          ]
        }
      ]
    },
    {
      "cell_type": "markdown",
      "source": [
        "Q13. To use the basic functions of pandas, what is the first and foremost necessary library that needs to be imported?"
      ],
      "metadata": {
        "id": "TyKgCNl635Tm"
      }
    },
    {
      "cell_type": "code",
      "source": [
        "import pandas as pd"
      ],
      "metadata": {
        "id": "AOfTyxHh36oW"
      },
      "execution_count": 15,
      "outputs": []
    }
  ]
}
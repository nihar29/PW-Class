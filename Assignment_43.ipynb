{
  "nbformat": 4,
  "nbformat_minor": 0,
  "metadata": {
    "colab": {
      "provenance": []
    },
    "kernelspec": {
      "name": "python3",
      "display_name": "Python 3"
    },
    "language_info": {
      "name": "python"
    }
  },
  "cells": [
    {
      "cell_type": "markdown",
      "source": [
        "Q1. What are the key features of the wine quality data set? Discuss the importance of each feature in\n",
        "predicting the quality of wine.\n",
        "Q2. How did you handle missing data in the wine quality data set during the feature engineering process?\n",
        "Discuss the advantages and disadvantages of different imputation techniques.\n",
        "Q3. What are the key factors that affect students' performance in exams? How would you go about\n",
        "analyzing these factors using statistical techniques?\n",
        "Q4. Describe the process of feature engineering in the context of the student performance data set. How\n",
        "did you select and transform the variables for your model?\n",
        "Q5. Load the wine quality data set and perform exploratory data analysis (EDA) to identify the distribution\n",
        "of each feature. Which feature(s) exhibit non-normality, and what transformations could be applied to\n",
        "these features to improve normality?\n",
        "Q6. Using the wine quality data set, perform principal component analysis (PCA) to reduce the number of\n",
        "features. What is the minimum number of principal components required to explain 90% of the variance in\n",
        "the data?"
      ],
      "metadata": {
        "id": "o9ZqqSdRv3jZ"
      }
    },
    {
      "cell_type": "markdown",
      "source": [
        "### **Q1: Key Features of the Wine Quality Dataset and Their Importance**  \n",
        "The **Wine Quality Dataset** includes physicochemical properties such as **fixed acidity, volatile acidity, citric acid, residual sugar, chlorides, free sulfur dioxide, total sulfur dioxide, density, pH, sulphates, and alcohol**. Among these, **alcohol, volatile acidity, sulphates, and citric acid** are strong predictors of wine quality. Alcohol content is positively correlated with quality, while high volatile acidity negatively affects taste.  \n",
        "\n",
        "### **Q2: Handling Missing Data in Wine Quality Dataset**  \n",
        "Common imputation techniques include **mean, median, and KNN imputation**. **Mean/median imputation** is simple but may distort feature distributions. **KNN imputation** uses similar data points for replacement, preserving relationships better but is computationally expensive. If missing values are significant, **dropping the feature** might be necessary.  \n",
        "\n",
        "### **Q3: Factors Affecting Students' Exam Performance and Statistical Analysis**  \n",
        "Key factors include **study time, attendance, parental education, socio-economic status, and mental health**. Statistical methods like **correlation analysis, regression models, and ANOVA** help analyze their impact. **Regression models** predict performance, while **ANOVA** compares different groups (e.g., effects of parental education).  \n",
        "\n",
        "### **Q4: Feature Engineering for Student Performance Dataset**  \n",
        "Feature selection includes **one-hot encoding categorical variables** (e.g., parental education), normalizing numerical variables (e.g., study time), and creating interaction terms (e.g., study time × parental involvement). Transformations such as **log scaling for skewed data** and **binning numerical scores** into categories improve model interpretability.  \n",
        "\n",
        "### **Q5: Exploratory Data Analysis (EDA) on Wine Quality Dataset**  \n",
        "By plotting histograms and skewness, we identify **non-normal features** like **density, residual sugar, and total sulfur dioxide**. Transformations such as **log, square root, or Box-Cox transformation** can help normalize these distributions and improve model performance.  \n",
        "\n",
        "### **Q6: Principal Component Analysis (PCA) for Wine Quality Dataset**  \n",
        "PCA is applied to reduce dimensionality while retaining variance. **Explained variance analysis** using a scree plot determines the minimum number of principal components required to explain **90% of the variance**. Typically, **5–7 principal components** are needed, depending on feature correlations."
      ],
      "metadata": {
        "id": "V3uRFiFMv4wP"
      }
    }
  ]
}
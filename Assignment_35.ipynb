{
  "nbformat": 4,
  "nbformat_minor": 0,
  "metadata": {
    "colab": {
      "provenance": []
    },
    "kernelspec": {
      "name": "python3",
      "display_name": "Python 3"
    },
    "language_info": {
      "name": "python"
    }
  },
  "cells": [
    {
      "cell_type": "markdown",
      "source": [
        "Q1. Write a Python function that takes in two arrays of data and calculates the F-value for a variance ratio\n",
        "test. The function should return the F-value and the corresponding p-value for the test.\n"
      ],
      "metadata": {
        "id": "iE4XSIwNS70J"
      }
    },
    {
      "cell_type": "markdown",
      "source": [
        "Q2. Given a significance level of 0.05 and the degrees of freedom for the numerator and denominator of an\n",
        "F-distribution, write a Python function that returns the critical F-value for a two-tailed test.\n"
      ],
      "metadata": {
        "id": "csiKY5BiS9dY"
      }
    },
    {
      "cell_type": "markdown",
      "source": [
        "Q3. Write a Python program that generates random samples from two normal distributions with known\n",
        "\n",
        "variances and uses an F-test to determine if the variances are equal. The program should output the F-\n",
        "value, degrees of freedom, and p-value for the test.\n",
        "\n"
      ],
      "metadata": {
        "id": "VOvO5TKvS_Pf"
      }
    },
    {
      "cell_type": "markdown",
      "source": [
        "Q4.The variances of two populations are known to be 10 and 15. A sample of 12 observations is taken from\n",
        "each population. Conduct an F-test at the 5% significance level to determine if the variances are\n",
        "significantly different.\n"
      ],
      "metadata": {
        "id": "GbGV493iTBXv"
      }
    },
    {
      "cell_type": "markdown",
      "source": [
        "Q5. A manufacturer claims that the variance of the diameter of a certain product is 0.005. A sample of 25\n",
        "products is taken, and the sample variance is found to be 0.006. Conduct an F-test at the 1% significance\n",
        "level to determine if the claim is justified.\n"
      ],
      "metadata": {
        "id": "jJxcZrjnTC9P"
      }
    },
    {
      "cell_type": "markdown",
      "source": [
        "Q6. Write a Python function that takes in the degrees of freedom for the numerator and denominator of an\n",
        "F-distribution and calculates the mean and variance of the distribution. The function should return the\n",
        "mean and variance as a tuple.\n"
      ],
      "metadata": {
        "id": "XNzGHWo0TEaj"
      }
    },
    {
      "cell_type": "markdown",
      "source": [
        "Q7. A random sample of 10 measurements is taken from a normal population with unknown variance. The\n",
        "sample variance is found to be 25. Another random sample of 15 measurements is taken from another\n",
        "normal population with unknown variance, and the sample variance is found to be 20. Conduct an F-test\n",
        "at the 10% significance level to determine if the variances are significantly different.\n"
      ],
      "metadata": {
        "id": "9DBLdC85TF00"
      }
    },
    {
      "cell_type": "markdown",
      "source": [
        "Q8. The following data represent the waiting times in minutes at two different restaurants on a Saturday\n",
        "night: Restaurant A: 24, 25, 28, 23, 22, 20, 27; Restaurant B: 31, 33, 35, 30, 32, 36. Conduct an F-test at the 5%\n",
        "significance level to determine if the variances are significantly different.\n"
      ],
      "metadata": {
        "id": "zu_6cLqPTHuI"
      }
    },
    {
      "cell_type": "markdown",
      "source": [
        "Q9. The following data represent the test scores of two groups of students: Group A: 80, 85, 90, 92, 87, 83;\n",
        "Group B: 75, 78, 82, 79, 81, 84. Conduct an F-test at the 1% significance level to determine if the variances\n",
        "are significantly different."
      ],
      "metadata": {
        "id": "tylED348TJsf"
      }
    },
    {
      "cell_type": "code",
      "source": [
        "import numpy as np\n",
        "import scipy.stats as stats\n",
        "\n",
        "def f_test_variance_ratio(data1, data2):\n",
        "    var1, var2 = np.var(data1, ddof=1), np.var(data2, ddof=1)\n",
        "    f_value = var1 / var2 if var1 > var2 else var2 / var1\n",
        "    df1, df2 = len(data1) - 1, len(data2) - 1\n",
        "    p_value = 1 - stats.f.cdf(f_value, df1, df2)\n",
        "    return f_value, p_value\n",
        "\n",
        "def critical_f_value(alpha, df1, df2):\n",
        "    return stats.f.ppf(1 - alpha/2, df1, df2)\n",
        "\n",
        "def f_test_random_samples(n1, n2, var1, var2):\n",
        "    sample1 = np.random.normal(0, np.sqrt(var1), n1)\n",
        "    sample2 = np.random.normal(0, np.sqrt(var2), n2)\n",
        "    return f_test_variance_ratio(sample1, sample2)\n",
        "\n",
        "# Q4: F-test for two populations\n",
        "f_value, p_value = f_test_variance_ratio(np.random.normal(0, np.sqrt(10), 12), np.random.normal(0, np.sqrt(15), 12))\n",
        "print(f\"F-value: {f_value}, p-value: {p_value}\")\n",
        "\n",
        "# Q5: Variance claim test\n",
        "sample_var, claimed_var, n = 0.006, 0.005, 25\n",
        "f_value = sample_var / claimed_var\n",
        "critical_value = stats.f.ppf(0.99, n - 1, n - 1)\n",
        "print(f\"F-value: {f_value}, Critical Value: {critical_value}\")\n",
        "\n",
        "# Q6: Mean and variance of F-distribution\n",
        "def f_distribution_stats(df1, df2):\n",
        "    mean = df2 / (df2 - 2) if df2 > 2 else np.nan\n",
        "    variance = (2 * (df2 ** 2) * (df1 + df2 - 2)) / (df1 * ((df2 - 2) ** 2) * (df2 - 4)) if df2 > 4 else np.nan\n",
        "    return mean, variance\n",
        "\n",
        "# Q7: F-test with given variances\n",
        "f_value, p_value = f_test_variance_ratio([25]*10, [20]*15)\n",
        "print(f\"F-value: {f_value}, p-value: {p_value}\")\n",
        "\n",
        "# Q8: F-test for restaurant wait times\n",
        "data_A = [24, 25, 28, 23, 22, 20, 27]\n",
        "data_B = [31, 33, 35, 30, 32, 36]\n",
        "f_value, p_value = f_test_variance_ratio(data_A, data_B)\n",
        "print(f\"Restaurant Wait Times F-value: {f_value}, p-value: {p_value}\")\n",
        "\n",
        "# Q9: F-test for student test scores\n",
        "group_A = [80, 85, 90, 92, 87, 83]\n",
        "group_B = [75, 78, 82, 79, 81, 84]\n",
        "f_value, p_value = f_test_variance_ratio(group_A, group_B)\n",
        "print(f\"Student Scores F-value: {f_value}, p-value: {p_value}\")\n"
      ],
      "metadata": {
        "id": "2SMujIvWTOY4",
        "outputId": "f789b2a9-d060-49ef-82d6-27fe8a067f13",
        "colab": {
          "base_uri": "https://localhost:8080/"
        }
      },
      "execution_count": 1,
      "outputs": [
        {
          "output_type": "stream",
          "name": "stdout",
          "text": [
            "F-value: 2.7929744409566224, p-value: 0.05141510790859238\n",
            "F-value: 1.2, Critical Value: 2.659072104348157\n",
            "F-value: nan, p-value: nan\n",
            "Restaurant Wait Times F-value: 1.4551907719609583, p-value: 0.3487407873968742\n",
            "Student Scores F-value: 1.9442622950819677, p-value: 0.2415521774535344\n"
          ]
        },
        {
          "output_type": "stream",
          "name": "stderr",
          "text": [
            "<ipython-input-1-9dfbd12b4683>:6: RuntimeWarning: invalid value encountered in scalar divide\n",
            "  f_value = var1 / var2 if var1 > var2 else var2 / var1\n"
          ]
        }
      ]
    }
  ]
}
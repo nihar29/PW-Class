{
  "nbformat": 4,
  "nbformat_minor": 0,
  "metadata": {
    "colab": {
      "provenance": []
    },
    "kernelspec": {
      "name": "python3",
      "display_name": "Python 3"
    },
    "language_info": {
      "name": "python"
    }
  },
  "cells": [
    {
      "cell_type": "markdown",
      "source": [
        "Consider the below code to answer further questions:\n",
        "import numpy as np\n",
        "list_ = [ ‘1’ , ’2’ , ‘3’ , ‘4’ , ‘5’ ]\n",
        "array_list = np.array(object = list_)\n",
        "\n",
        "Q1. Is there any difference in the data type of variables list_ and array_list? If there is then write a code\n",
        "to print the data types of both the variables."
      ],
      "metadata": {
        "id": "AhiFkPpaTOQ8"
      }
    },
    {
      "cell_type": "markdown",
      "source": [
        "Yes, there is a difference. The list_ variable is a Python list, whereas array_list is a NumPy array."
      ],
      "metadata": {
        "id": "7hO5eNj7Tlss"
      }
    },
    {
      "cell_type": "code",
      "source": [
        "import numpy as np\n",
        "\n",
        "list_ = ['1', '2', '3', '4', '5']\n",
        "array_list = np.array(object=list_)\n",
        "\n",
        "print(\"Data type of list_:\", type(list_))\n",
        "print(\"Data type of array_list:\", type(array_list))\n"
      ],
      "metadata": {
        "colab": {
          "base_uri": "https://localhost:8080/"
        },
        "id": "s8hqq8yLToEU",
        "outputId": "64a2185b-0583-4d1f-b66c-3112432a2d92"
      },
      "execution_count": 1,
      "outputs": [
        {
          "output_type": "stream",
          "name": "stdout",
          "text": [
            "Data type of list_: <class 'list'>\n",
            "Data type of array_list: <class 'numpy.ndarray'>\n"
          ]
        }
      ]
    },
    {
      "cell_type": "markdown",
      "source": [
        "Q2. Write a code to print the data type of each and every element of both the variables list_ and\n",
        "arra_list.\n"
      ],
      "metadata": {
        "id": "qViZvE8QTRbE"
      }
    },
    {
      "cell_type": "code",
      "source": [
        "print(\"Data type of elements in list_:\")\n",
        "for element in list_:\n",
        "    print(type(element))\n",
        "\n",
        "print(\"\\nData type of elements in array_list:\")\n",
        "for element in array_list:\n",
        "    print(type(element))\n"
      ],
      "metadata": {
        "colab": {
          "base_uri": "https://localhost:8080/"
        },
        "id": "sctktqfsTvxb",
        "outputId": "a668caf9-e618-496f-9240-515fbfac4db1"
      },
      "execution_count": 2,
      "outputs": [
        {
          "output_type": "stream",
          "name": "stdout",
          "text": [
            "Data type of elements in list_:\n",
            "<class 'str'>\n",
            "<class 'str'>\n",
            "<class 'str'>\n",
            "<class 'str'>\n",
            "<class 'str'>\n",
            "\n",
            "Data type of elements in array_list:\n",
            "<class 'numpy.str_'>\n",
            "<class 'numpy.str_'>\n",
            "<class 'numpy.str_'>\n",
            "<class 'numpy.str_'>\n",
            "<class 'numpy.str_'>\n"
          ]
        }
      ]
    },
    {
      "cell_type": "markdown",
      "source": [
        "Q3. Considering the following changes in the variable, array_list:\n",
        "array_list = np.array(object = list_, dtype = int)\n",
        "Will there be any difference in the data type of the elements present in both the variables, list_ and\n",
        "arra_list? If so then print the data types of each and every element present in both the variables, list_\n",
        "and arra_list.\n",
        "Consider the below code to answer further questions:\n",
        "import numpy as np\n",
        "num_list = [ [ 1 , 2 , 3 ] , [ 4 , 5 , 6 ] ]\n",
        "num_array = np.array(object = num_list)\n"
      ],
      "metadata": {
        "id": "Qd6tiObbTTpu"
      }
    },
    {
      "cell_type": "code",
      "source": [
        "array_list = np.array(object=list_, dtype=int)\n",
        "\n",
        "print(\"Data type of elements in list_:\")\n",
        "for element in list_:\n",
        "    print(type(element))\n",
        "\n",
        "print(\"\\nData type of elements in array_list:\")\n",
        "for element in array_list:\n",
        "    print(type(element))\n"
      ],
      "metadata": {
        "colab": {
          "base_uri": "https://localhost:8080/"
        },
        "id": "rgawFy-dTz60",
        "outputId": "d93c92a9-2449-40bc-dcc4-f0d52d02c769"
      },
      "execution_count": 3,
      "outputs": [
        {
          "output_type": "stream",
          "name": "stdout",
          "text": [
            "Data type of elements in list_:\n",
            "<class 'str'>\n",
            "<class 'str'>\n",
            "<class 'str'>\n",
            "<class 'str'>\n",
            "<class 'str'>\n",
            "\n",
            "Data type of elements in array_list:\n",
            "<class 'numpy.int64'>\n",
            "<class 'numpy.int64'>\n",
            "<class 'numpy.int64'>\n",
            "<class 'numpy.int64'>\n",
            "<class 'numpy.int64'>\n"
          ]
        }
      ]
    },
    {
      "cell_type": "markdown",
      "source": [
        "Q4. Write a code to find the following characteristics of variable, num_array:\n",
        "(i) shape\n",
        "(ii) size\n"
      ],
      "metadata": {
        "id": "FDM7xlhGTVrd"
      }
    },
    {
      "cell_type": "code",
      "source": [
        "num_list = [[1, 2, 3], [4, 5, 6]]\n",
        "num_array = np.array(object=num_list)\n",
        "\n",
        "print(\"Shape of num_array:\", num_array.shape)\n",
        "print(\"Size of num_array:\", num_array.size)\n"
      ],
      "metadata": {
        "colab": {
          "base_uri": "https://localhost:8080/"
        },
        "id": "Xhfi6RVRT3PU",
        "outputId": "b96ed30d-ba0b-41a7-aaa4-de67428f8468"
      },
      "execution_count": 4,
      "outputs": [
        {
          "output_type": "stream",
          "name": "stdout",
          "text": [
            "Shape of num_array: (2, 3)\n",
            "Size of num_array: 6\n"
          ]
        }
      ]
    },
    {
      "cell_type": "markdown",
      "source": [
        "Q5. Write a code to create numpy array of 3*3 matrix containing zeros only, using a numpy array\n",
        "creation function.\n",
        "[Hint: The size of the array will be 9 and the shape will be (3,3).]\n"
      ],
      "metadata": {
        "id": "TLegeIwATXWd"
      }
    },
    {
      "cell_type": "code",
      "source": [
        "zero_matrix = np.zeros((3,3))\n",
        "print(zero_matrix)\n"
      ],
      "metadata": {
        "colab": {
          "base_uri": "https://localhost:8080/"
        },
        "id": "-PuCeVNzT6Gj",
        "outputId": "241d4bbf-99f5-4771-d845-6a8907507cb7"
      },
      "execution_count": 5,
      "outputs": [
        {
          "output_type": "stream",
          "name": "stdout",
          "text": [
            "[[0. 0. 0.]\n",
            " [0. 0. 0.]\n",
            " [0. 0. 0.]]\n"
          ]
        }
      ]
    },
    {
      "cell_type": "markdown",
      "source": [
        "Q6. Create an identity matrix of shape (5,5) using numpy functions?\n",
        "[Hint: An identity matrix is a matrix containing 1 diagonally and other elements will be 0.]"
      ],
      "metadata": {
        "id": "jcdeRmhoTYt1"
      }
    },
    {
      "cell_type": "code",
      "source": [
        "identity_matrix = np.eye(5)\n",
        "print(identity_matrix)\n"
      ],
      "metadata": {
        "colab": {
          "base_uri": "https://localhost:8080/"
        },
        "id": "osN5aG_JT-hU",
        "outputId": "56b27770-366c-4d3a-b253-1955b34a21ac"
      },
      "execution_count": 6,
      "outputs": [
        {
          "output_type": "stream",
          "name": "stdout",
          "text": [
            "[[1. 0. 0. 0. 0.]\n",
            " [0. 1. 0. 0. 0.]\n",
            " [0. 0. 1. 0. 0.]\n",
            " [0. 0. 0. 1. 0.]\n",
            " [0. 0. 0. 0. 1.]]\n"
          ]
        }
      ]
    }
  ]
}
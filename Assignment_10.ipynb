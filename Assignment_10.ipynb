{
  "nbformat": 4,
  "nbformat_minor": 0,
  "metadata": {
    "colab": {
      "provenance": []
    },
    "kernelspec": {
      "name": "python3",
      "display_name": "Python 3"
    },
    "language_info": {
      "name": "python"
    }
  },
  "cells": [
    {
      "cell_type": "markdown",
      "source": [
        "Q1. What is multithreading in python? Why is it used? Name the module used to handle threads in python."
      ],
      "metadata": {
        "id": "HxarS-PMpjs2"
      }
    },
    {
      "cell_type": "markdown",
      "source": [
        "Multithreading in Python allows multiple threads to run concurrently within a single process. However, due to the Global Interpreter Lock (GIL), it does not enable true parallel execution but is useful for I/O-bound tasks like file handling and network requests. It is used to improve the performance of such tasks, ensure efficient resource utilization, and keep programs responsive."
      ],
      "metadata": {
        "id": "XSSeXDwapqId"
      }
    },
    {
      "cell_type": "markdown",
      "source": [
        "Q2. Why threading module used? Write the use of the following functions\n",
        "( activeCount(\n",
        " currentThread(\n",
        " enumerate()"
      ],
      "metadata": {
        "id": "jaxkwSVZqITd"
      }
    },
    {
      "cell_type": "markdown",
      "source": [
        "The threading module in Python is used to create and manage multiple threads, allowing efficient execution of I/O-bound tasks by enabling concurrent operations within a program. It helps in running multiple tasks simultaneously, improving performance and responsiveness.\n",
        "\n",
        "activeCount(): Returns the number of active threads currently running.\n",
        "currentThread(): Returns a reference to the currently executing thread object.\n",
        "enumerate(): Returns a list of all active thread objects."
      ],
      "metadata": {
        "id": "FfF9YPhzqP--"
      }
    },
    {
      "cell_type": "markdown",
      "source": [
        "Q3. Explain the following functions\n",
        "( run(\n",
        " start(\n",
        " join(\n",
        "' isAlive()"
      ],
      "metadata": {
        "id": "60qM2Ae_qZF9"
      }
    },
    {
      "cell_type": "markdown",
      "source": [
        "The threading module provides functions to control thread execution.\n",
        "\n",
        "run(): Defines the thread’s activity and is called internally when the thread starts. It can be overridden in a custom thread class.\n",
        "start(): Begins the execution of a thread by calling its run() method in a separate thread of control.\n",
        "join(): Blocks the calling thread until the thread whose join() method is called completes execution.\n",
        "isAlive(): Returns True if the thread is still running, otherwise False."
      ],
      "metadata": {
        "id": "ynfoGfeMqgpl"
      }
    },
    {
      "cell_type": "markdown",
      "source": [
        "Q4. Write a python program to create two threads. Thread one must print the list of squares and thread\n",
        "two must print the list of cubes."
      ],
      "metadata": {
        "id": "w9mqi-16qjXd"
      }
    },
    {
      "cell_type": "code",
      "source": [
        "import threading\n",
        "\n",
        "def print_squares():\n",
        "    for i in range(1, 6):\n",
        "        print(f\"Square of {i}: {i ** 2}\")\n",
        "\n",
        "def print_cubes():\n",
        "    for i in range(1, 6):\n",
        "        print(f\"Cube of {i}: {i ** 3}\")\n",
        "\n",
        "t1 = threading.Thread(target=print_squares)\n",
        "t2 = threading.Thread(target=print_cubes)\n",
        "\n",
        "t1.start()\n",
        "t2.start()\n",
        "\n",
        "t1.join()\n",
        "t2.join()\n",
        "\n",
        "print(\"Both threads have finished execution.\")\n"
      ],
      "metadata": {
        "colab": {
          "base_uri": "https://localhost:8080/"
        },
        "id": "WB31608gqqj1",
        "outputId": "f8f4b670-bd7c-44f0-9a5e-6a1813966053"
      },
      "execution_count": 2,
      "outputs": [
        {
          "output_type": "stream",
          "name": "stdout",
          "text": [
            "Square of 1: 1\n",
            "Square of 2: 4\n",
            "Square of 3: 9\n",
            "Square of 4: 16\n",
            "Square of 5: 25\n",
            "Cube of 1: 1\n",
            "Cube of 2: 8\n",
            "Cube of 3: 27\n",
            "Cube of 4: 64\n",
            "Cube of 5: 125\n",
            "Both threads have finished execution.\n"
          ]
        }
      ]
    },
    {
      "cell_type": "markdown",
      "source": [
        "Q5. State advantages and disadvantages of multithreading."
      ],
      "metadata": {
        "id": "dN4AvqL0q2Wk"
      }
    },
    {
      "cell_type": "markdown",
      "source": [
        "Multithreading in Python offers several advantages and disadvantages.\n",
        "\n",
        "Advantages: It improves performance for I/O-bound tasks by allowing concurrent execution, enhances resource utilization, keeps applications responsive (especially GUI programs), and reduces execution time by handling multiple tasks simultaneously.\n",
        "\n",
        "Disadvantages: Due to Python’s Global Interpreter Lock (GIL), threads do not achieve true parallelism for CPU-bound tasks. It can lead to increased complexity in debugging, potential race conditions, and synchronization issues."
      ],
      "metadata": {
        "id": "_QuUITziq3F1"
      }
    },
    {
      "cell_type": "markdown",
      "source": [
        "Q6. Explain deadlocks and race conditions."
      ],
      "metadata": {
        "id": "ES5SKkYNq7cU"
      }
    },
    {
      "cell_type": "markdown",
      "source": [
        "A deadlock occurs in multithreading when two or more threads are waiting for each other to release a resource, causing the program to freeze indefinitely. This happens when multiple locks are acquired in an inconsistent order, leading to a circular wait.\n",
        "\n",
        "A race condition occurs when multiple threads access and modify shared resources simultaneously, leading to unpredictable behavior and incorrect results. This usually happens when proper synchronization mechanisms, like locks, are not implemented."
      ],
      "metadata": {
        "id": "FddcJZ4vq8Sk"
      }
    }
  ]
}
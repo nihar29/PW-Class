{
  "nbformat": 4,
  "nbformat_minor": 0,
  "metadata": {
    "colab": {
      "provenance": []
    },
    "kernelspec": {
      "name": "python3",
      "display_name": "Python 3"
    },
    "language_info": {
      "name": "python"
    }
  },
  "cells": [
    {
      "cell_type": "markdown",
      "source": [
        "Q1. Explain GET and POST methods."
      ],
      "metadata": {
        "id": "wJfJcE2nIKIg"
      }
    },
    {
      "cell_type": "markdown",
      "source": [
        "The GET and POST methods are two of the most commonly used HTTP methods for requesting and sending data between a client (usually a web browser) and a server."
      ],
      "metadata": {
        "id": "CnM83hrYIPr4"
      }
    },
    {
      "cell_type": "markdown",
      "source": [
        "Q2. Why is request used in Flask?"
      ],
      "metadata": {
        "id": "lmPpOq0hIVRI"
      }
    },
    {
      "cell_type": "markdown",
      "source": [
        "In Flask, the request object is used to access the data sent by the client (such as form data, query parameters, or headers) in an HTTP request. It provides an easy way to interact with incoming data from a user's request. The request object is imported from Flask and is available within view functions to handle different types of client-side data."
      ],
      "metadata": {
        "id": "5bJPugj2Ic0H"
      }
    },
    {
      "cell_type": "markdown",
      "source": [
        "Q3. Why is redirect() used in Flask?"
      ],
      "metadata": {
        "id": "kp47Vr9nIgZh"
      }
    },
    {
      "cell_type": "markdown",
      "source": [
        "In Flask, the redirect() function is used to send an HTTP redirect to a different URL. It allows the server to instruct the client's browser to navigate to a different route or page, usually after a specific action has been performed (such as submitting a form, logging in, or after completing an operation like adding data)."
      ],
      "metadata": {
        "id": "-WXm9WUpIkOw"
      }
    },
    {
      "cell_type": "markdown",
      "source": [
        "Q4. What are templates in Flask? Why is the render_template() function used?"
      ],
      "metadata": {
        "id": "ureQ04fAIovZ"
      }
    },
    {
      "cell_type": "markdown",
      "source": [
        "In Flask, templates refer to HTML files that are used to generate dynamic web pages by embedding Python code within them. Flask uses the Jinja2 templating engine, which allows you to insert variables, control structures (like loops and conditionals), and other Python expressions directly into the HTML. This enables you to build dynamic web pages that can display data from the server or perform actions based on user input.\n",
        "\n",
        "The render_template() function is used in Flask to render a template and return it as a response to the client's browser. This function takes the name of the template file as its argument and passes any necessary data to the template, which can then be rendered and sent back to the user."
      ],
      "metadata": {
        "id": "IAI7k2pAIsIf"
      }
    }
  ]
}
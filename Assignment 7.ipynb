{
 "cells": [
  {
   "cell_type": "code",
   "execution_count": 1,
   "id": "8426baab-92f0-47ad-90e1-58a6d663313e",
   "metadata": {},
   "outputs": [],
   "source": [
    "#Question 1"
   ]
  },
  {
   "cell_type": "code",
   "execution_count": 2,
   "id": "7e53f440-e0f4-436a-a1f6-998e903f5b4b",
   "metadata": {},
   "outputs": [],
   "source": [
    "#Abstraction is used to hide the internal functionality of the function from the users. \n",
    "\n",
    "import abc\n",
    "class student:\n",
    "    \n",
    "    @abc.abstractmethod\n",
    "    def students_details(self):\n",
    "        pass\n",
    "    \n",
    "    @abc.abstractmethod\n",
    "    def student_assignment(self):\n",
    "        pass\n",
    "    \n",
    "    @abc.abstractmethod\n",
    "    def student_marks(self):\n",
    "        pass"
   ]
  },
  {
   "cell_type": "code",
   "execution_count": 3,
   "id": "456f6899-d447-4e1a-ba53-e2f57757cdfc",
   "metadata": {},
   "outputs": [],
   "source": [
    "#Question 2"
   ]
  },
  {
   "cell_type": "code",
   "execution_count": 4,
   "id": "a325279e-6225-403f-8dd6-2d8ba963b642",
   "metadata": {},
   "outputs": [],
   "source": [
    "#Abstraction is the method of hiding the unwanted information. Whereas encapsulation is a method to hide the data in a single entity or unit along with a method to protect information from outside."
   ]
  },
  {
   "cell_type": "code",
   "execution_count": 5,
   "id": "6724dcdd-4522-4d38-8a36-82b15459eaaf",
   "metadata": {},
   "outputs": [],
   "source": [
    "#Question 3"
   ]
  },
  {
   "cell_type": "code",
   "execution_count": 6,
   "id": "0a81f1b2-c2c2-4b90-85dc-500c2ba643b6",
   "metadata": {},
   "outputs": [],
   "source": [
    "#The 'abc' module in the Python library provides the infrastructure for defining custom abstract base classes. "
   ]
  },
  {
   "cell_type": "code",
   "execution_count": 7,
   "id": "5086a880-cd87-4230-a041-d40acecbcc99",
   "metadata": {},
   "outputs": [],
   "source": [
    "#Question 4"
   ]
  },
  {
   "cell_type": "code",
   "execution_count": 8,
   "id": "18008f05-c78b-41b4-a1e5-e399135a92b5",
   "metadata": {},
   "outputs": [],
   "source": [
    "#Data Abstraction can be achieved through creating abstract classes and inheriting them later."
   ]
  },
  {
   "cell_type": "code",
   "execution_count": 9,
   "id": "41e3d462-cfe4-48d4-9a11-407df1232860",
   "metadata": {},
   "outputs": [],
   "source": [
    "#Qustion 5"
   ]
  },
  {
   "cell_type": "code",
   "execution_count": 10,
   "id": "d2abdaf1-0a61-469a-845e-1a02bdacea89",
   "metadata": {},
   "outputs": [],
   "source": [
    "import abc\n",
    "class student:\n",
    "    \n",
    "    @abc.abstractmethod\n",
    "    def students_details(self):\n",
    "        pass\n",
    "    \n",
    "    @abc.abstractmethod\n",
    "    def student_assignment(self):\n",
    "        pass\n",
    "    \n",
    "    @abc.abstractmethod\n",
    "    def student_marks(self):\n",
    "        pass"
   ]
  },
  {
   "cell_type": "code",
   "execution_count": 12,
   "id": "3ee35851-2a17-449b-b50a-d4fef2bfecd9",
   "metadata": {},
   "outputs": [],
   "source": [
    "class student_details(student) :\n",
    "    \n",
    "    def student_details(self) :\n",
    "        return \"This is method for student details\"\n",
    "    \n",
    "    def student_assignment(self) :\n",
    "        return \"This is method for student assignment\""
   ]
  },
  {
   "cell_type": "code",
   "execution_count": null,
   "id": "f1def054-8773-43ce-a0ed-689ce0459913",
   "metadata": {},
   "outputs": [],
   "source": []
  }
 ],
 "metadata": {
  "kernelspec": {
   "display_name": "Python 3 (ipykernel)",
   "language": "python",
   "name": "python3"
  },
  "language_info": {
   "codemirror_mode": {
    "name": "ipython",
    "version": 3
   },
   "file_extension": ".py",
   "mimetype": "text/x-python",
   "name": "python",
   "nbconvert_exporter": "python",
   "pygments_lexer": "ipython3",
   "version": "3.10.8"
  }
 },
 "nbformat": 4,
 "nbformat_minor": 5
}
